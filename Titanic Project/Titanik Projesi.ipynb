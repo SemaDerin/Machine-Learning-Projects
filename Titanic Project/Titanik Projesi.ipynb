{
 "cells": [
  {
   "cell_type": "markdown",
   "id": "90f7db94",
   "metadata": {},
   "source": [
    "# Titanik Projesi"
   ]
  },
  {
   "cell_type": "markdown",
   "id": "33c9e383",
   "metadata": {},
   "source": [
    "\n",
    "##### Content\n",
    "\n",
    "1.  [Import Lilbaries](#1)\n",
    "2.  [Load and Check Dataset](#2)\n",
    "3.  [Variable Description](#3)\n",
    "4. [Univariate Variable Analysis](#4)\n",
    "\n",
    "     4.1 [Kategorical Variables Analysis](#5)\n",
    " \n",
    "     4.2 [Numeric Variables Analysis](#6)\n",
    "5. [Basic Data Analysis](#7)\n",
    "6. [Outlier Detection Analysis](#8)\n",
    "7. [Missing Values Analysis](#9)\n",
    "      * [Find Missing Values](#10)\n",
    "      * [Fill Missing Values](#11)\n",
    "8. [Visualization](#12)\n",
    "     * [Correlation Between SibSp---Parch---Age---Fare---Survived](#13)\n",
    "     * [Correlation Between SibSp---Survived](#14)\n",
    "      * [Correlation Between Parch---Survived](#15)\n",
    "      * [Correlation Between Pclass---Survived](#16)\n",
    "      * [Correlation Between Age---Survived](#17)\n",
    "      * [Correlation Between Pclass---Survived---Age](#18)\n",
    "      * [Correlation Between Embarked---Sex---Pclass---Survived](#19)\n",
    "      * [Correlation Between Embarked---Sex---Fare---Survived](#20)\n",
    "9. [Fill Missing Value: Age Value](#21)\n",
    "10. [Feture Engineering](#22)\n",
    "    * [Name Title](#23)\n",
    "    * [Family Size](#24)\n",
    "    * [Embarked](#25)\n",
    "    * [Ticket](#26)\n",
    "    * [Pclass](#27)\n",
    "    * [Sex](#28)\n",
    "    * [Drop Passsenger Id and Cabin](#29)\n",
    "11. [Modeling](#30)\n",
    "    * [Train-Test-Split](#31)\n",
    "    * [Logistic Regression](#32)\n",
    "    * [HyperParameter Tuning---Grid Search---Cross Validation](#33)\n",
    "    * [Ensemble Learning](#34)\n",
    "    * [Prediction and Submission](#35)\n",
    "      \n"
   ]
  },
  {
   "cell_type": "markdown",
   "id": "2c997a56",
   "metadata": {},
   "source": [
    "<a id = \"1\"></a><br>\n",
    "\n",
    "# Import Libraries"
   ]
  },
  {
   "cell_type": "code",
   "execution_count": 1,
   "id": "578bd43a",
   "metadata": {},
   "outputs": [
    {
     "name": "stderr",
     "output_type": "stream",
     "text": [
      "C:\\Users\\derin\\AppData\\Local\\Temp\\ipykernel_2756\\1044529867.py:4: MatplotlibDeprecationWarning: The seaborn styles shipped by Matplotlib are deprecated since 3.6, as they no longer correspond to the styles shipped by seaborn. However, they will remain available as 'seaborn-v0_8-<style>'. Alternatively, directly use the seaborn API instead.\n",
      "  plt.style.use(\"seaborn-whitegrid\")\n"
     ]
    }
   ],
   "source": [
    "import numpy as np #linear algebra\n",
    "import pandas as pd #data processing CSV file I/O (e.g. read_csv)\n",
    "import matplotlib.pyplot as plt\n",
    "plt.style.use(\"seaborn-whitegrid\")\n",
    "import seaborn as sns\n",
    "from collections import Counter\n",
    "import warnings\n",
    "warnings.filterwarnings(\"ignore\")"
   ]
  },
  {
   "cell_type": "markdown",
   "id": "91a260e3",
   "metadata": {},
   "source": [
    "<a id = \"2\"></a><br>\n",
    "\n",
    "# Load and Check Dataset"
   ]
  },
  {
   "cell_type": "code",
   "execution_count": 2,
   "id": "b8224589",
   "metadata": {},
   "outputs": [],
   "source": [
    "train_df = pd.read_csv(\"train.csv\")\n",
    "test_df = pd.read_csv(\"test.csv\")\n",
    "test_PassengerId= test_df[\"PassengerId\"]"
   ]
  },
  {
   "cell_type": "code",
   "execution_count": 3,
   "id": "f4e80f63",
   "metadata": {},
   "outputs": [
    {
     "data": {
      "text/plain": [
       "Index(['PassengerId', 'Survived', 'Pclass', 'Name', 'Sex', 'Age', 'SibSp',\n",
       "       'Parch', 'Ticket', 'Fare', 'Cabin', 'Embarked'],\n",
       "      dtype='object')"
      ]
     },
     "execution_count": 3,
     "metadata": {},
     "output_type": "execute_result"
    }
   ],
   "source": [
    "train_df.columns"
   ]
  },
  {
   "cell_type": "code",
   "execution_count": 4,
   "id": "9dac0dc4",
   "metadata": {},
   "outputs": [
    {
     "data": {
      "text/html": [
       "<div>\n",
       "<style scoped>\n",
       "    .dataframe tbody tr th:only-of-type {\n",
       "        vertical-align: middle;\n",
       "    }\n",
       "\n",
       "    .dataframe tbody tr th {\n",
       "        vertical-align: top;\n",
       "    }\n",
       "\n",
       "    .dataframe thead th {\n",
       "        text-align: right;\n",
       "    }\n",
       "</style>\n",
       "<table border=\"1\" class=\"dataframe\">\n",
       "  <thead>\n",
       "    <tr style=\"text-align: right;\">\n",
       "      <th></th>\n",
       "      <th>PassengerId</th>\n",
       "      <th>Survived</th>\n",
       "      <th>Pclass</th>\n",
       "      <th>Name</th>\n",
       "      <th>Sex</th>\n",
       "      <th>Age</th>\n",
       "      <th>SibSp</th>\n",
       "      <th>Parch</th>\n",
       "      <th>Ticket</th>\n",
       "      <th>Fare</th>\n",
       "      <th>Cabin</th>\n",
       "      <th>Embarked</th>\n",
       "    </tr>\n",
       "  </thead>\n",
       "  <tbody>\n",
       "    <tr>\n",
       "      <th>0</th>\n",
       "      <td>1</td>\n",
       "      <td>0</td>\n",
       "      <td>3</td>\n",
       "      <td>Braund, Mr. Owen Harris</td>\n",
       "      <td>male</td>\n",
       "      <td>22.0</td>\n",
       "      <td>1</td>\n",
       "      <td>0</td>\n",
       "      <td>A/5 21171</td>\n",
       "      <td>7.2500</td>\n",
       "      <td>NaN</td>\n",
       "      <td>S</td>\n",
       "    </tr>\n",
       "    <tr>\n",
       "      <th>1</th>\n",
       "      <td>2</td>\n",
       "      <td>1</td>\n",
       "      <td>1</td>\n",
       "      <td>Cumings, Mrs. John Bradley (Florence Briggs Th...</td>\n",
       "      <td>female</td>\n",
       "      <td>38.0</td>\n",
       "      <td>1</td>\n",
       "      <td>0</td>\n",
       "      <td>PC 17599</td>\n",
       "      <td>71.2833</td>\n",
       "      <td>C85</td>\n",
       "      <td>C</td>\n",
       "    </tr>\n",
       "    <tr>\n",
       "      <th>2</th>\n",
       "      <td>3</td>\n",
       "      <td>1</td>\n",
       "      <td>3</td>\n",
       "      <td>Heikkinen, Miss. Laina</td>\n",
       "      <td>female</td>\n",
       "      <td>26.0</td>\n",
       "      <td>0</td>\n",
       "      <td>0</td>\n",
       "      <td>STON/O2. 3101282</td>\n",
       "      <td>7.9250</td>\n",
       "      <td>NaN</td>\n",
       "      <td>S</td>\n",
       "    </tr>\n",
       "    <tr>\n",
       "      <th>3</th>\n",
       "      <td>4</td>\n",
       "      <td>1</td>\n",
       "      <td>1</td>\n",
       "      <td>Futrelle, Mrs. Jacques Heath (Lily May Peel)</td>\n",
       "      <td>female</td>\n",
       "      <td>35.0</td>\n",
       "      <td>1</td>\n",
       "      <td>0</td>\n",
       "      <td>113803</td>\n",
       "      <td>53.1000</td>\n",
       "      <td>C123</td>\n",
       "      <td>S</td>\n",
       "    </tr>\n",
       "    <tr>\n",
       "      <th>4</th>\n",
       "      <td>5</td>\n",
       "      <td>0</td>\n",
       "      <td>3</td>\n",
       "      <td>Allen, Mr. William Henry</td>\n",
       "      <td>male</td>\n",
       "      <td>35.0</td>\n",
       "      <td>0</td>\n",
       "      <td>0</td>\n",
       "      <td>373450</td>\n",
       "      <td>8.0500</td>\n",
       "      <td>NaN</td>\n",
       "      <td>S</td>\n",
       "    </tr>\n",
       "  </tbody>\n",
       "</table>\n",
       "</div>"
      ],
      "text/plain": [
       "   PassengerId  Survived  Pclass  \\\n",
       "0            1         0       3   \n",
       "1            2         1       1   \n",
       "2            3         1       3   \n",
       "3            4         1       1   \n",
       "4            5         0       3   \n",
       "\n",
       "                                                Name     Sex   Age  SibSp  \\\n",
       "0                            Braund, Mr. Owen Harris    male  22.0      1   \n",
       "1  Cumings, Mrs. John Bradley (Florence Briggs Th...  female  38.0      1   \n",
       "2                             Heikkinen, Miss. Laina  female  26.0      0   \n",
       "3       Futrelle, Mrs. Jacques Heath (Lily May Peel)  female  35.0      1   \n",
       "4                           Allen, Mr. William Henry    male  35.0      0   \n",
       "\n",
       "   Parch            Ticket     Fare Cabin Embarked  \n",
       "0      0         A/5 21171   7.2500   NaN        S  \n",
       "1      0          PC 17599  71.2833   C85        C  \n",
       "2      0  STON/O2. 3101282   7.9250   NaN        S  \n",
       "3      0            113803  53.1000  C123        S  \n",
       "4      0            373450   8.0500   NaN        S  "
      ]
     },
     "execution_count": 4,
     "metadata": {},
     "output_type": "execute_result"
    }
   ],
   "source": [
    "train_df.head()"
   ]
  },
  {
   "cell_type": "markdown",
   "id": "fb2dc086",
   "metadata": {},
   "source": [
    "<a id = \"3\"></a><br>\n",
    "\n",
    "# Variable Description"
   ]
  },
  {
   "cell_type": "markdown",
   "id": "b155004a",
   "metadata": {},
   "source": [
    "* 1.PassengerId : Unique , Id number to each passenger\n",
    "* 2.Survived : passenger survived(1) or died(0)\n",
    "* 3.Pclass : Passenger Class\n",
    "* 4.Name : Passenger name\n",
    "* 5.Sex : gender of Passenger\n",
    "* 6.Age : age of passenger\n",
    "* 7.SibSp : Number of siblings/spouses\n",
    "* 8.Parch : number of parents/children\n",
    "* 9.Ticket : ticket number\n",
    "* 10.Fare : amount of money spent on ticket\n",
    "* 11.Cabin : Cabin Category\n",
    "* 12.Embarked : port where passenger embarked (C= Cherbourg, Q=Queenstown, S=Southampton)"
   ]
  },
  {
   "cell_type": "code",
   "execution_count": 5,
   "id": "9c0bc118",
   "metadata": {},
   "outputs": [
    {
     "name": "stdout",
     "output_type": "stream",
     "text": [
      "<class 'pandas.core.frame.DataFrame'>\n",
      "RangeIndex: 891 entries, 0 to 890\n",
      "Data columns (total 12 columns):\n",
      " #   Column       Non-Null Count  Dtype  \n",
      "---  ------       --------------  -----  \n",
      " 0   PassengerId  891 non-null    int64  \n",
      " 1   Survived     891 non-null    int64  \n",
      " 2   Pclass       891 non-null    int64  \n",
      " 3   Name         891 non-null    object \n",
      " 4   Sex          891 non-null    object \n",
      " 5   Age          714 non-null    float64\n",
      " 6   SibSp        891 non-null    int64  \n",
      " 7   Parch        891 non-null    int64  \n",
      " 8   Ticket       891 non-null    object \n",
      " 9   Fare         891 non-null    float64\n",
      " 10  Cabin        204 non-null    object \n",
      " 11  Embarked     889 non-null    object \n",
      "dtypes: float64(2), int64(5), object(5)\n",
      "memory usage: 83.7+ KB\n"
     ]
    }
   ],
   "source": [
    "train_df.info()"
   ]
  },
  {
   "cell_type": "markdown",
   "id": "12160251",
   "metadata": {},
   "source": [
    "* float64(2)---->Age - Fare         \n",
    "* int64(5)------>PassengerId - Survived - Pclass - Parch - SibSp        \n",
    "* object(5)----->Name - Sex - Ticket - Cabin - Embarked     "
   ]
  },
  {
   "cell_type": "markdown",
   "id": "16de413e",
   "metadata": {},
   "source": [
    "<a id = \"4\"></a><br>\n",
    "# Univariate Variable Analysis"
   ]
  },
  {
   "cell_type": "markdown",
   "id": "0e761c1b",
   "metadata": {},
   "source": [
    "* Categorical Variable: Name - Sex - Ticket - Cabin - Embarked  - Survived - Pclass - Parch - SibSp  \n",
    "* Numarical Variable: Age - Fare   PassengerId"
   ]
  },
  {
   "cell_type": "markdown",
   "id": "2a7a9b09",
   "metadata": {},
   "source": [
    "Kategorik verileri analizinde kullanacağımız adımda her bir kategoriden kaç tane olduğunu ve dağılımını görebilmek için bir bar_plot() adlı fonksiyon yazdık. Bu fonksiyon içine \"variable\" adlı bir değişken alıyor. Aslında bu varible değişkeni train verisetindeki kategorik verilerdir. (Kategorik veriler: Survived, Sex Pclass, Embarked, SibSp, Parch). \n",
    "\n",
    "var değişkeni train verisetinin yukarıdaki öznitelikler olacaktır.\n",
    "\n",
    "varValue değişkeni ise var değişkenimizin değer sayılıdır. value_counts'dur. Yani içinde bulunan kategorik verileden kaçar adet bulunduğunu döndürür.\n",
    "\n",
    "Ardından bu özellikleri görselleşitrmek için bir figure ardında figure_size belirtiyoruz. Ardından Varvalue'nin indexlerini (İndexler benzersiz değerlerdir.) \"X\" eksenine yazıp ardından, her benzersiz değerin sayısını .values opsiyonu ile \"Y\" eksenine yazdırıyoruz.\n",
    "\n",
    "Ardından ylabel değerinin adını \"Frequency\" koyduk ve Title değerimiz ise variable değerimiz yani \"Train verisetindeki öznitelik adıdır.\". Ardıdan en sonda ise yine hangi öznitelik ise onu ve her bir öznitelik değerinin sayısını yazdırdık."
   ]
  },
  {
   "cell_type": "code",
   "execution_count": 6,
   "id": "8435b2ac",
   "metadata": {},
   "outputs": [],
   "source": [
    "def bar_plot(variable):\n",
    "     #get feature\n",
    "        var= train_df[variable]\n",
    "        #count number of categorical  variable (values sample)\n",
    "        varValue= var.value_counts()\n",
    "        \n",
    "        #visualize\n",
    "        plt.figure(figsize=(9,3))\n",
    "        plt.bar(varValue.index, varValue)\n",
    "        plt.xticks(varValue.index, varValue.index.values)\n",
    "        plt.ylabel(\"Frequency\")\n",
    "        plt.title(variable)\n",
    "        plt.show()\n",
    "        print(\"{}: \\n {}\".format(variable,varValue))"
   ]
  },
  {
   "cell_type": "markdown",
   "id": "fdcec748",
   "metadata": {},
   "source": [
    "Ardından kategorik verileri bir liste içine tanımladık. Ve daha sonra listeyi bir for döngüsü içinde bar_plot fonksiyonumuzla çizdirdik."
   ]
  },
  {
   "cell_type": "code",
   "execution_count": 7,
   "id": "fa6d6f47",
   "metadata": {},
   "outputs": [
    {
     "data": {
      "image/png": "[encoded data removed]",
      "text/plain": [
       "<Figure size 900x300 with 1 Axes>"
      ]
     },
     "metadata": {},
     "output_type": "display_data"
    },
    {
     "name": "stdout",
     "output_type": "stream",
     "text": [
      "Survived: \n",
      " 0    549\n",
      "1    342\n",
      "Name: Survived, dtype: int64\n"
     ]
    },
    {
     "data": {
      "image/png": "[encoded data removed]",
      "text/plain": [
       "<Figure size 900x300 with 1 Axes>"
      ]
     },
     "metadata": {},
     "output_type": "display_data"
    },
    {
     "name": "stdout",
     "output_type": "stream",
     "text": [
      "Sex: \n",
      " male      577\n",
      "female    314\n",
      "Name: Sex, dtype: int64\n"
     ]
    },
    {
     "data": {
      "image/png": "[encoded data removed]",
      "text/plain": [
       "<Figure size 900x300 with 1 Axes>"
      ]
     },
     "metadata": {},
     "output_type": "display_data"
    },
    {
     "name": "stdout",
     "output_type": "stream",
     "text": [
      "Pclass: \n",
      " 3    491\n",
      "1    216\n",
      "2    184\n",
      "Name: Pclass, dtype: int64\n"
     ]
    },
    {
     "data": {
      "image/png": "[encoded data removed]",
      "text/plain": [
       "<Figure size 900x300 with 1 Axes>"
      ]
     },
     "metadata": {},
     "output_type": "display_data"
    },
    {
     "name": "stdout",
     "output_type": "stream",
     "text": [
      "Embarked: \n",
      " S    644\n",
      "C    168\n",
      "Q     77\n",
      "Name: Embarked, dtype: int64\n"
     ]
    },
    {
     "data": {
      "image/png": "[encoded data removed]",
      "text/plain": [
       "<Figure size 900x300 with 1 Axes>"
      ]
     },
     "metadata": {},
     "output_type": "display_data"
    },
    {
     "name": "stdout",
     "output_type": "stream",
     "text": [
      "SibSp: \n",
      " 0    608\n",
      "1    209\n",
      "2     28\n",
      "4     18\n",
      "3     16\n",
      "8      7\n",
      "5      5\n",
      "Name: SibSp, dtype: int64\n"
     ]
    },
    {
     "data": {
      "image/png": "[encoded data removed]",
      "text/plain": [
       "<Figure size 900x300 with 1 Axes>"
      ]
     },
     "metadata": {},
     "output_type": "display_data"
    },
    {
     "name": "stdout",
     "output_type": "stream",
     "text": [
      "Parch: \n",
      " 0    678\n",
      "1    118\n",
      "2     80\n",
      "5      5\n",
      "3      5\n",
      "4      4\n",
      "6      1\n",
      "Name: Parch, dtype: int64\n"
     ]
    }
   ],
   "source": [
    "category1= [\"Survived\", \"Sex\",\"Pclass\", \"Embarked\",\"SibSp\",\"Parch\"]\n",
    "for c in category1:\n",
    "    bar_plot(c)"
   ]
  },
  {
   "cell_type": "code",
   "execution_count": 8,
   "id": "80569e5e",
   "metadata": {},
   "outputs": [
    {
     "name": "stdout",
     "output_type": "stream",
     "text": [
      "B96 B98        4\n",
      "G6             4\n",
      "C23 C25 C27    4\n",
      "C22 C26        3\n",
      "F33            3\n",
      "              ..\n",
      "E34            1\n",
      "C7             1\n",
      "C54            1\n",
      "E36            1\n",
      "C148           1\n",
      "Name: Cabin, Length: 147, dtype: int64 \n",
      "\n",
      "Braund, Mr. Owen Harris                     1\n",
      "Boulos, Mr. Hanna                           1\n",
      "Frolicher-Stehli, Mr. Maxmillian            1\n",
      "Gilinski, Mr. Eliezer                       1\n",
      "Murdlin, Mr. Joseph                         1\n",
      "                                           ..\n",
      "Kelly, Miss. Anna Katherine \"Annie Kate\"    1\n",
      "McCoy, Mr. Bernard                          1\n",
      "Johnson, Mr. William Cahoone Jr             1\n",
      "Keane, Miss. Nora A                         1\n",
      "Dooley, Mr. Patrick                         1\n",
      "Name: Name, Length: 891, dtype: int64 \n",
      "\n",
      "347082      7\n",
      "CA. 2343    7\n",
      "1601        7\n",
      "3101295     6\n",
      "CA 2144     6\n",
      "           ..\n",
      "9234        1\n",
      "19988       1\n",
      "2693        1\n",
      "PC 17612    1\n",
      "370376      1\n",
      "Name: Ticket, Length: 681, dtype: int64 \n",
      "\n"
     ]
    }
   ],
   "source": [
    "category2= [\"Cabin\", \"Name\",\"Ticket\"]\n",
    "for c in category2:\n",
    "    print(\"{} \\n\".format(train_df[c].value_counts()))"
   ]
  },
  {
   "cell_type": "markdown",
   "id": "158c809b",
   "metadata": {},
   "source": [
    "<a id = \"6\"></a><br>\n",
    "\n",
    "# Numerical Variables"
   ]
  },
  {
   "cell_type": "code",
   "execution_count": 9,
   "id": "152f4799",
   "metadata": {},
   "outputs": [],
   "source": [
    "def plot_hist(variable):\n",
    "    plt.figure(figsize=(9,3))\n",
    "    plt.hist(train_df[variable])\n",
    "    plt.xlabel(\"Variable\")\n",
    "    plt.ylabel(\"Frequency\")\n",
    "    plt.title(\"{} distribution with hist\".format(variable))\n",
    "    plt.show()"
   ]
  },
  {
   "cell_type": "code",
   "execution_count": 10,
   "id": "5e83578d",
   "metadata": {},
   "outputs": [
    {
     "data": {
      "image/png": "[encoded data removed]",
      "text/plain": [
       "<Figure size 900x300 with 1 Axes>"
      ]
     },
     "metadata": {},
     "output_type": "display_data"
    },
    {
     "data": {
      "image/png": "[encoded data removed]",
      "text/plain": [
       "<Figure size 900x300 with 1 Axes>"
      ]
     },
     "metadata": {},
     "output_type": "display_data"
    },
    {
     "data": {
      "image/png": "[encoded data removed]",
      "text/plain": [
       "<Figure size 900x300 with 1 Axes>"
      ]
     },
     "metadata": {},
     "output_type": "display_data"
    }
   ],
   "source": [
    "category2= [\"Fare\", \"Age\",\"PassengerId\"]\n",
    "for c in category2:\n",
    "    plot_hist(c)"
   ]
  },
  {
   "cell_type": "markdown",
   "id": "bf4ae955",
   "metadata": {},
   "source": [
    "<a id = \"7\"></a><br>\n",
    "\n",
    "# Basic Data Analysis\n"
   ]
  },
  {
   "cell_type": "markdown",
   "id": "9f44e64e",
   "metadata": {},
   "source": [
    "* Pcalss - Survived\n",
    "* Sex - Survived\n",
    "* SibSp - Survived\n",
    "* Parch - Survived\n",
    "\n",
    "* Burada niahi amaç belli başlı featurelar arasındaki ilişkiyi inceleyip buna göre feature extraction işlemi uygulayabilmektir."
   ]
  },
  {
   "cell_type": "code",
   "execution_count": 11,
   "id": "b0113cb8",
   "metadata": {},
   "outputs": [
    {
     "data": {
      "text/html": [
       "<div>\n",
       "<style scoped>\n",
       "    .dataframe tbody tr th:only-of-type {\n",
       "        vertical-align: middle;\n",
       "    }\n",
       "\n",
       "    .dataframe tbody tr th {\n",
       "        vertical-align: top;\n",
       "    }\n",
       "\n",
       "    .dataframe thead th {\n",
       "        text-align: right;\n",
       "    }\n",
       "</style>\n",
       "<table border=\"1\" class=\"dataframe\">\n",
       "  <thead>\n",
       "    <tr style=\"text-align: right;\">\n",
       "      <th></th>\n",
       "      <th>Pclass</th>\n",
       "      <th>Survived</th>\n",
       "    </tr>\n",
       "  </thead>\n",
       "  <tbody>\n",
       "    <tr>\n",
       "      <th>0</th>\n",
       "      <td>3</td>\n",
       "      <td>0</td>\n",
       "    </tr>\n",
       "    <tr>\n",
       "      <th>1</th>\n",
       "      <td>1</td>\n",
       "      <td>1</td>\n",
       "    </tr>\n",
       "    <tr>\n",
       "      <th>2</th>\n",
       "      <td>3</td>\n",
       "      <td>1</td>\n",
       "    </tr>\n",
       "    <tr>\n",
       "      <th>3</th>\n",
       "      <td>1</td>\n",
       "      <td>1</td>\n",
       "    </tr>\n",
       "    <tr>\n",
       "      <th>4</th>\n",
       "      <td>3</td>\n",
       "      <td>0</td>\n",
       "    </tr>\n",
       "    <tr>\n",
       "      <th>...</th>\n",
       "      <td>...</td>\n",
       "      <td>...</td>\n",
       "    </tr>\n",
       "    <tr>\n",
       "      <th>886</th>\n",
       "      <td>2</td>\n",
       "      <td>0</td>\n",
       "    </tr>\n",
       "    <tr>\n",
       "      <th>887</th>\n",
       "      <td>1</td>\n",
       "      <td>1</td>\n",
       "    </tr>\n",
       "    <tr>\n",
       "      <th>888</th>\n",
       "      <td>3</td>\n",
       "      <td>0</td>\n",
       "    </tr>\n",
       "    <tr>\n",
       "      <th>889</th>\n",
       "      <td>1</td>\n",
       "      <td>1</td>\n",
       "    </tr>\n",
       "    <tr>\n",
       "      <th>890</th>\n",
       "      <td>3</td>\n",
       "      <td>0</td>\n",
       "    </tr>\n",
       "  </tbody>\n",
       "</table>\n",
       "<p>891 rows × 2 columns</p>\n",
       "</div>"
      ],
      "text/plain": [
       "     Pclass  Survived\n",
       "0         3         0\n",
       "1         1         1\n",
       "2         3         1\n",
       "3         1         1\n",
       "4         3         0\n",
       "..      ...       ...\n",
       "886       2         0\n",
       "887       1         1\n",
       "888       3         0\n",
       "889       1         1\n",
       "890       3         0\n",
       "\n",
       "[891 rows x 2 columns]"
      ]
     },
     "execution_count": 11,
     "metadata": {},
     "output_type": "execute_result"
    }
   ],
   "source": [
    "# Pclass vs Survived\n",
    "\n",
    "train_df[[\"Pclass\", \"Survived\"]]"
   ]
  },
  {
   "cell_type": "markdown",
   "id": "e15ff1f0",
   "metadata": {},
   "source": [
    "Pclass'a göre (gemide bulunan yere göre) hayatta kalma olasılığı"
   ]
  },
  {
   "cell_type": "code",
   "execution_count": 12,
   "id": "dfc5f38f",
   "metadata": {},
   "outputs": [
    {
     "data": {
      "text/html": [
       "<div>\n",
       "<style scoped>\n",
       "    .dataframe tbody tr th:only-of-type {\n",
       "        vertical-align: middle;\n",
       "    }\n",
       "\n",
       "    .dataframe tbody tr th {\n",
       "        vertical-align: top;\n",
       "    }\n",
       "\n",
       "    .dataframe thead th {\n",
       "        text-align: right;\n",
       "    }\n",
       "</style>\n",
       "<table border=\"1\" class=\"dataframe\">\n",
       "  <thead>\n",
       "    <tr style=\"text-align: right;\">\n",
       "      <th></th>\n",
       "      <th>Pclass</th>\n",
       "      <th>Survived</th>\n",
       "    </tr>\n",
       "  </thead>\n",
       "  <tbody>\n",
       "    <tr>\n",
       "      <th>0</th>\n",
       "      <td>1</td>\n",
       "      <td>0.629630</td>\n",
       "    </tr>\n",
       "    <tr>\n",
       "      <th>1</th>\n",
       "      <td>2</td>\n",
       "      <td>0.472826</td>\n",
       "    </tr>\n",
       "    <tr>\n",
       "      <th>2</th>\n",
       "      <td>3</td>\n",
       "      <td>0.242363</td>\n",
       "    </tr>\n",
       "  </tbody>\n",
       "</table>\n",
       "</div>"
      ],
      "text/plain": [
       "   Pclass  Survived\n",
       "0       1  0.629630\n",
       "1       2  0.472826\n",
       "2       3  0.242363"
      ]
     },
     "execution_count": 12,
     "metadata": {},
     "output_type": "execute_result"
    }
   ],
   "source": [
    "train_df[[\"Pclass\", \"Survived\"]].groupby([\"Pclass\"], as_index= False).mean().sort_values(by= \"Survived\", ascending=False)"
   ]
  },
  {
   "cell_type": "markdown",
   "id": "aa7186d1",
   "metadata": {},
   "source": [
    "Erkekler ve kadınların hayatta kalma olasılığı."
   ]
  },
  {
   "cell_type": "code",
   "execution_count": 13,
   "id": "f8f47003",
   "metadata": {},
   "outputs": [
    {
     "data": {
      "text/html": [
       "<div>\n",
       "<style scoped>\n",
       "    .dataframe tbody tr th:only-of-type {\n",
       "        vertical-align: middle;\n",
       "    }\n",
       "\n",
       "    .dataframe tbody tr th {\n",
       "        vertical-align: top;\n",
       "    }\n",
       "\n",
       "    .dataframe thead th {\n",
       "        text-align: right;\n",
       "    }\n",
       "</style>\n",
       "<table border=\"1\" class=\"dataframe\">\n",
       "  <thead>\n",
       "    <tr style=\"text-align: right;\">\n",
       "      <th></th>\n",
       "      <th>Sex</th>\n",
       "      <th>Survived</th>\n",
       "    </tr>\n",
       "  </thead>\n",
       "  <tbody>\n",
       "    <tr>\n",
       "      <th>0</th>\n",
       "      <td>female</td>\n",
       "      <td>0.742038</td>\n",
       "    </tr>\n",
       "    <tr>\n",
       "      <th>1</th>\n",
       "      <td>male</td>\n",
       "      <td>0.188908</td>\n",
       "    </tr>\n",
       "  </tbody>\n",
       "</table>\n",
       "</div>"
      ],
      "text/plain": [
       "      Sex  Survived\n",
       "0  female  0.742038\n",
       "1    male  0.188908"
      ]
     },
     "execution_count": 13,
     "metadata": {},
     "output_type": "execute_result"
    }
   ],
   "source": [
    "train_df[[\"Sex\", \"Survived\"]].groupby([\"Sex\"], as_index= False).mean().sort_values(by= \"Survived\", ascending=False)"
   ]
  },
  {
   "cell_type": "markdown",
   "id": "7c368248",
   "metadata": {},
   "source": [
    "Gemide bulunan akrabalık ilişkine göre hayatta kalma olasılığı."
   ]
  },
  {
   "cell_type": "code",
   "execution_count": 14,
   "id": "a92d7790",
   "metadata": {},
   "outputs": [
    {
     "data": {
      "text/html": [
       "<div>\n",
       "<style scoped>\n",
       "    .dataframe tbody tr th:only-of-type {\n",
       "        vertical-align: middle;\n",
       "    }\n",
       "\n",
       "    .dataframe tbody tr th {\n",
       "        vertical-align: top;\n",
       "    }\n",
       "\n",
       "    .dataframe thead th {\n",
       "        text-align: right;\n",
       "    }\n",
       "</style>\n",
       "<table border=\"1\" class=\"dataframe\">\n",
       "  <thead>\n",
       "    <tr style=\"text-align: right;\">\n",
       "      <th></th>\n",
       "      <th>SibSp</th>\n",
       "      <th>Survived</th>\n",
       "    </tr>\n",
       "  </thead>\n",
       "  <tbody>\n",
       "    <tr>\n",
       "      <th>1</th>\n",
       "      <td>1</td>\n",
       "      <td>0.535885</td>\n",
       "    </tr>\n",
       "    <tr>\n",
       "      <th>2</th>\n",
       "      <td>2</td>\n",
       "      <td>0.464286</td>\n",
       "    </tr>\n",
       "    <tr>\n",
       "      <th>0</th>\n",
       "      <td>0</td>\n",
       "      <td>0.345395</td>\n",
       "    </tr>\n",
       "    <tr>\n",
       "      <th>3</th>\n",
       "      <td>3</td>\n",
       "      <td>0.250000</td>\n",
       "    </tr>\n",
       "    <tr>\n",
       "      <th>4</th>\n",
       "      <td>4</td>\n",
       "      <td>0.166667</td>\n",
       "    </tr>\n",
       "    <tr>\n",
       "      <th>5</th>\n",
       "      <td>5</td>\n",
       "      <td>0.000000</td>\n",
       "    </tr>\n",
       "    <tr>\n",
       "      <th>6</th>\n",
       "      <td>8</td>\n",
       "      <td>0.000000</td>\n",
       "    </tr>\n",
       "  </tbody>\n",
       "</table>\n",
       "</div>"
      ],
      "text/plain": [
       "   SibSp  Survived\n",
       "1      1  0.535885\n",
       "2      2  0.464286\n",
       "0      0  0.345395\n",
       "3      3  0.250000\n",
       "4      4  0.166667\n",
       "5      5  0.000000\n",
       "6      8  0.000000"
      ]
     },
     "execution_count": 14,
     "metadata": {},
     "output_type": "execute_result"
    }
   ],
   "source": [
    "train_df[[\"SibSp\", \"Survived\"]].groupby([\"SibSp\"], as_index= False).mean().sort_values(by= \"Survived\", ascending=False)"
   ]
  },
  {
   "cell_type": "markdown",
   "id": "7489b458",
   "metadata": {},
   "source": [
    "Yanında ebeveyni olanlar ya da çocuğu olanların hayatta kalma olasılığı."
   ]
  },
  {
   "cell_type": "code",
   "execution_count": 15,
   "id": "05f080eb",
   "metadata": {},
   "outputs": [
    {
     "data": {
      "text/html": [
       "<div>\n",
       "<style scoped>\n",
       "    .dataframe tbody tr th:only-of-type {\n",
       "        vertical-align: middle;\n",
       "    }\n",
       "\n",
       "    .dataframe tbody tr th {\n",
       "        vertical-align: top;\n",
       "    }\n",
       "\n",
       "    .dataframe thead th {\n",
       "        text-align: right;\n",
       "    }\n",
       "</style>\n",
       "<table border=\"1\" class=\"dataframe\">\n",
       "  <thead>\n",
       "    <tr style=\"text-align: right;\">\n",
       "      <th></th>\n",
       "      <th>Parch</th>\n",
       "      <th>Survived</th>\n",
       "    </tr>\n",
       "  </thead>\n",
       "  <tbody>\n",
       "    <tr>\n",
       "      <th>3</th>\n",
       "      <td>3</td>\n",
       "      <td>0.600000</td>\n",
       "    </tr>\n",
       "    <tr>\n",
       "      <th>1</th>\n",
       "      <td>1</td>\n",
       "      <td>0.550847</td>\n",
       "    </tr>\n",
       "    <tr>\n",
       "      <th>2</th>\n",
       "      <td>2</td>\n",
       "      <td>0.500000</td>\n",
       "    </tr>\n",
       "    <tr>\n",
       "      <th>0</th>\n",
       "      <td>0</td>\n",
       "      <td>0.343658</td>\n",
       "    </tr>\n",
       "    <tr>\n",
       "      <th>5</th>\n",
       "      <td>5</td>\n",
       "      <td>0.200000</td>\n",
       "    </tr>\n",
       "    <tr>\n",
       "      <th>4</th>\n",
       "      <td>4</td>\n",
       "      <td>0.000000</td>\n",
       "    </tr>\n",
       "    <tr>\n",
       "      <th>6</th>\n",
       "      <td>6</td>\n",
       "      <td>0.000000</td>\n",
       "    </tr>\n",
       "  </tbody>\n",
       "</table>\n",
       "</div>"
      ],
      "text/plain": [
       "   Parch  Survived\n",
       "3      3  0.600000\n",
       "1      1  0.550847\n",
       "2      2  0.500000\n",
       "0      0  0.343658\n",
       "5      5  0.200000\n",
       "4      4  0.000000\n",
       "6      6  0.000000"
      ]
     },
     "execution_count": 15,
     "metadata": {},
     "output_type": "execute_result"
    }
   ],
   "source": [
    "train_df[[\"Parch\", \"Survived\"]].groupby([\"Parch\"], as_index= False).mean().sort_values(by= \"Survived\", ascending=False)"
   ]
  },
  {
   "cell_type": "markdown",
   "id": "5b3c2ba8",
   "metadata": {},
   "source": [
    "<a id = \"8\"></a><br>\n",
    "# Outlier Detection"
   ]
  },
  {
   "cell_type": "markdown",
   "id": "ee6d5d05",
   "metadata": {},
   "source": [
    "Outlier detection, istatistiksel veri analizi ve makine öğrenmesi alanlarında kullanılan bir yöntemdir. Veri seti içinde diğer verilere kıyasla beklenmeyen veya anormal davranış sergileyen noktaları tespit etmek için kullanılır. Bu noktalar, genellikle istatistiksel dağılım veya veri kümesinin kalıplarıyla uyumlu olmayan, istisnai veya hatalı değerlerdir.\n",
    "\n",
    "Outlier detection'ın önemi birkaç nedenden dolayı ortaya çıkar:\n",
    "\n",
    "Veri doğruluğunu artırır: Anormal değerler veya hatalı veriler, analiz sonuçlarını olumsuz etkileyebilir. Bu nedenle, outlier detection yöntemleri kullanılarak bu hatalar tespit edilebilir ve veri doğruluğu artırılabilir.\n",
    "\n",
    "Anomalileri belirlemek: Outlier detection, anormal davranış sergileyen verileri tespit etme ve analiz etme konusunda yardımcı olur. Örneğin, finansal analizde, dolandırıcılık veya hileli işlemleri tespit etmek için outlier detection teknikleri kullanılabilir.\n",
    "\n",
    "Veri analizini iyileştirir: Veri setindeki anormallikleri belirlemek, gerçek dünyadaki durumları veya olayları daha iyi anlamak için analizi geliştirebilir. Outlier detection, veri setindeki nadir olayları veya örüntüleri tespit ederek değerli bilgiler elde etmeye yardımcı olabilir.\n",
    "\n",
    "Veri ön işleme: Outlier detection, veri setini temizlemek ve ön işleme adımlarını yönlendirmek için kullanılabilir. Anormal değerlere sahip veriler, model eğitimini veya analiz sonuçlarını yanıltabilir. Bu nedenle, outlier detection yöntemleri kullanılarak bu veriler ayıklanabilir veya düzeltilir.\n",
    "\n",
    "Model performansını artırır: Outlier detection, makine öğrenmesi modellerinin performansını artırabilir. Anormal verilerin tespit edilmesi, modelin yanlış öğrenme veya aşırı uyum gibi sorunlardan kaçınmasına yardımcı olabilir. Ayrıca, outlier detection, modelin sadece normal veri örneklerine odaklanmasını sağlayarak, genel performansı artırabilir.\n",
    "\n",
    "Sonuç olarak, outlier detection veri analizi ve makine öğrenmesi süreçlerinde önemli bir rol oynar. Anormal verileri tespit etmek, veri doğruluğunu artırır, anormallikleri belirler, veri analizini iyileştirir, veri ön işleme adımlarını yönlendirir ve model performansını artırır."
   ]
  },
  {
   "cell_type": "code",
   "execution_count": 16,
   "id": "b731dc88",
   "metadata": {},
   "outputs": [],
   "source": [
    "def detect_outilers(df, features):\n",
    "    outlier_indices= []\n",
    "    \n",
    "    for c in features:\n",
    "        #1st quartile\n",
    "        Q1= np.percentile(df[c], 25) \n",
    "        #3rd quartile \n",
    "        Q3= np.percentile(df[c], 75)\n",
    "        \n",
    "        #IQR\n",
    "        IQR= Q3- Q1\n",
    "        \n",
    "        # Outlier step\n",
    "        outlier_step = IQR* 1.5\n",
    "        \n",
    "        #detect outlier and their indices\n",
    "        \n",
    "        outlier_list_col= df[(df[c]<Q1 - outlier_step) | (df[c]>Q3 - outlier_step)].index\n",
    "        #store indices\n",
    "        outlier_indices.extend(outlier_list_col)\n",
    "        \n",
    "    \n",
    "    outlier_indices= Counter(outlier_indices)\n",
    "    multiple_outliers= list(i for i ,v in outlier_indices.items() if v>2)\n",
    "    \n",
    "    return multiple_outliers\n",
    "\n",
    "        \n",
    "    "
   ]
  },
  {
   "cell_type": "code",
   "execution_count": 17,
   "id": "3ad263cd",
   "metadata": {},
   "outputs": [
    {
     "data": {
      "text/html": [
       "<div>\n",
       "<style scoped>\n",
       "    .dataframe tbody tr th:only-of-type {\n",
       "        vertical-align: middle;\n",
       "    }\n",
       "\n",
       "    .dataframe tbody tr th {\n",
       "        vertical-align: top;\n",
       "    }\n",
       "\n",
       "    .dataframe thead th {\n",
       "        text-align: right;\n",
       "    }\n",
       "</style>\n",
       "<table border=\"1\" class=\"dataframe\">\n",
       "  <thead>\n",
       "    <tr style=\"text-align: right;\">\n",
       "      <th></th>\n",
       "      <th>PassengerId</th>\n",
       "      <th>Survived</th>\n",
       "      <th>Pclass</th>\n",
       "      <th>Name</th>\n",
       "      <th>Sex</th>\n",
       "      <th>Age</th>\n",
       "      <th>SibSp</th>\n",
       "      <th>Parch</th>\n",
       "      <th>Ticket</th>\n",
       "      <th>Fare</th>\n",
       "      <th>Cabin</th>\n",
       "      <th>Embarked</th>\n",
       "    </tr>\n",
       "  </thead>\n",
       "  <tbody>\n",
       "    <tr>\n",
       "      <th>7</th>\n",
       "      <td>8</td>\n",
       "      <td>0</td>\n",
       "      <td>3</td>\n",
       "      <td>Palsson, Master. Gosta Leonard</td>\n",
       "      <td>male</td>\n",
       "      <td>2.0</td>\n",
       "      <td>3</td>\n",
       "      <td>1</td>\n",
       "      <td>349909</td>\n",
       "      <td>21.0750</td>\n",
       "      <td>NaN</td>\n",
       "      <td>S</td>\n",
       "    </tr>\n",
       "    <tr>\n",
       "      <th>8</th>\n",
       "      <td>9</td>\n",
       "      <td>1</td>\n",
       "      <td>3</td>\n",
       "      <td>Johnson, Mrs. Oscar W (Elisabeth Vilhelmina Berg)</td>\n",
       "      <td>female</td>\n",
       "      <td>27.0</td>\n",
       "      <td>0</td>\n",
       "      <td>2</td>\n",
       "      <td>347742</td>\n",
       "      <td>11.1333</td>\n",
       "      <td>NaN</td>\n",
       "      <td>S</td>\n",
       "    </tr>\n",
       "    <tr>\n",
       "      <th>10</th>\n",
       "      <td>11</td>\n",
       "      <td>1</td>\n",
       "      <td>3</td>\n",
       "      <td>Sandstrom, Miss. Marguerite Rut</td>\n",
       "      <td>female</td>\n",
       "      <td>4.0</td>\n",
       "      <td>1</td>\n",
       "      <td>1</td>\n",
       "      <td>PP 9549</td>\n",
       "      <td>16.7000</td>\n",
       "      <td>G6</td>\n",
       "      <td>S</td>\n",
       "    </tr>\n",
       "    <tr>\n",
       "      <th>13</th>\n",
       "      <td>14</td>\n",
       "      <td>0</td>\n",
       "      <td>3</td>\n",
       "      <td>Andersson, Mr. Anders Johan</td>\n",
       "      <td>male</td>\n",
       "      <td>39.0</td>\n",
       "      <td>1</td>\n",
       "      <td>5</td>\n",
       "      <td>347082</td>\n",
       "      <td>31.2750</td>\n",
       "      <td>NaN</td>\n",
       "      <td>S</td>\n",
       "    </tr>\n",
       "    <tr>\n",
       "      <th>16</th>\n",
       "      <td>17</td>\n",
       "      <td>0</td>\n",
       "      <td>3</td>\n",
       "      <td>Rice, Master. Eugene</td>\n",
       "      <td>male</td>\n",
       "      <td>2.0</td>\n",
       "      <td>4</td>\n",
       "      <td>1</td>\n",
       "      <td>382652</td>\n",
       "      <td>29.1250</td>\n",
       "      <td>NaN</td>\n",
       "      <td>Q</td>\n",
       "    </tr>\n",
       "    <tr>\n",
       "      <th>...</th>\n",
       "      <td>...</td>\n",
       "      <td>...</td>\n",
       "      <td>...</td>\n",
       "      <td>...</td>\n",
       "      <td>...</td>\n",
       "      <td>...</td>\n",
       "      <td>...</td>\n",
       "      <td>...</td>\n",
       "      <td>...</td>\n",
       "      <td>...</td>\n",
       "      <td>...</td>\n",
       "      <td>...</td>\n",
       "    </tr>\n",
       "    <tr>\n",
       "      <th>871</th>\n",
       "      <td>872</td>\n",
       "      <td>1</td>\n",
       "      <td>1</td>\n",
       "      <td>Beckwith, Mrs. Richard Leonard (Sallie Monypeny)</td>\n",
       "      <td>female</td>\n",
       "      <td>47.0</td>\n",
       "      <td>1</td>\n",
       "      <td>1</td>\n",
       "      <td>11751</td>\n",
       "      <td>52.5542</td>\n",
       "      <td>D35</td>\n",
       "      <td>S</td>\n",
       "    </tr>\n",
       "    <tr>\n",
       "      <th>879</th>\n",
       "      <td>880</td>\n",
       "      <td>1</td>\n",
       "      <td>1</td>\n",
       "      <td>Potter, Mrs. Thomas Jr (Lily Alexenia Wilson)</td>\n",
       "      <td>female</td>\n",
       "      <td>56.0</td>\n",
       "      <td>0</td>\n",
       "      <td>1</td>\n",
       "      <td>11767</td>\n",
       "      <td>83.1583</td>\n",
       "      <td>C50</td>\n",
       "      <td>C</td>\n",
       "    </tr>\n",
       "    <tr>\n",
       "      <th>880</th>\n",
       "      <td>881</td>\n",
       "      <td>1</td>\n",
       "      <td>2</td>\n",
       "      <td>Shelley, Mrs. William (Imanita Parrish Hall)</td>\n",
       "      <td>female</td>\n",
       "      <td>25.0</td>\n",
       "      <td>0</td>\n",
       "      <td>1</td>\n",
       "      <td>230433</td>\n",
       "      <td>26.0000</td>\n",
       "      <td>NaN</td>\n",
       "      <td>S</td>\n",
       "    </tr>\n",
       "    <tr>\n",
       "      <th>885</th>\n",
       "      <td>886</td>\n",
       "      <td>0</td>\n",
       "      <td>3</td>\n",
       "      <td>Rice, Mrs. William (Margaret Norton)</td>\n",
       "      <td>female</td>\n",
       "      <td>39.0</td>\n",
       "      <td>0</td>\n",
       "      <td>5</td>\n",
       "      <td>382652</td>\n",
       "      <td>29.1250</td>\n",
       "      <td>NaN</td>\n",
       "      <td>Q</td>\n",
       "    </tr>\n",
       "    <tr>\n",
       "      <th>888</th>\n",
       "      <td>889</td>\n",
       "      <td>0</td>\n",
       "      <td>3</td>\n",
       "      <td>Johnston, Miss. Catherine Helen \"Carrie\"</td>\n",
       "      <td>female</td>\n",
       "      <td>NaN</td>\n",
       "      <td>1</td>\n",
       "      <td>2</td>\n",
       "      <td>W./C. 6607</td>\n",
       "      <td>23.4500</td>\n",
       "      <td>NaN</td>\n",
       "      <td>S</td>\n",
       "    </tr>\n",
       "  </tbody>\n",
       "</table>\n",
       "<p>213 rows × 12 columns</p>\n",
       "</div>"
      ],
      "text/plain": [
       "     PassengerId  Survived  Pclass  \\\n",
       "7              8         0       3   \n",
       "8              9         1       3   \n",
       "10            11         1       3   \n",
       "13            14         0       3   \n",
       "16            17         0       3   \n",
       "..           ...       ...     ...   \n",
       "871          872         1       1   \n",
       "879          880         1       1   \n",
       "880          881         1       2   \n",
       "885          886         0       3   \n",
       "888          889         0       3   \n",
       "\n",
       "                                                  Name     Sex   Age  SibSp  \\\n",
       "7                       Palsson, Master. Gosta Leonard    male   2.0      3   \n",
       "8    Johnson, Mrs. Oscar W (Elisabeth Vilhelmina Berg)  female  27.0      0   \n",
       "10                     Sandstrom, Miss. Marguerite Rut  female   4.0      1   \n",
       "13                         Andersson, Mr. Anders Johan    male  39.0      1   \n",
       "16                                Rice, Master. Eugene    male   2.0      4   \n",
       "..                                                 ...     ...   ...    ...   \n",
       "871   Beckwith, Mrs. Richard Leonard (Sallie Monypeny)  female  47.0      1   \n",
       "879      Potter, Mrs. Thomas Jr (Lily Alexenia Wilson)  female  56.0      0   \n",
       "880       Shelley, Mrs. William (Imanita Parrish Hall)  female  25.0      0   \n",
       "885               Rice, Mrs. William (Margaret Norton)  female  39.0      0   \n",
       "888           Johnston, Miss. Catherine Helen \"Carrie\"  female   NaN      1   \n",
       "\n",
       "     Parch      Ticket     Fare Cabin Embarked  \n",
       "7        1      349909  21.0750   NaN        S  \n",
       "8        2      347742  11.1333   NaN        S  \n",
       "10       1     PP 9549  16.7000    G6        S  \n",
       "13       5      347082  31.2750   NaN        S  \n",
       "16       1      382652  29.1250   NaN        Q  \n",
       "..     ...         ...      ...   ...      ...  \n",
       "871      1       11751  52.5542   D35        S  \n",
       "879      1       11767  83.1583   C50        C  \n",
       "880      1      230433  26.0000   NaN        S  \n",
       "885      5      382652  29.1250   NaN        Q  \n",
       "888      2  W./C. 6607  23.4500   NaN        S  \n",
       "\n",
       "[213 rows x 12 columns]"
      ]
     },
     "execution_count": 17,
     "metadata": {},
     "output_type": "execute_result"
    }
   ],
   "source": [
    "train_df.loc[detect_outilers(train_df,[\"Age\", \"SibSp\",\"Parch\",\"Fare\"])]"
   ]
  },
  {
   "cell_type": "code",
   "execution_count": 18,
   "id": "03bbe850",
   "metadata": {},
   "outputs": [],
   "source": [
    "# drop outliers\n",
    "train_df= train_df.drop(detect_outilers(train_df,[\"Age\", \"SibSp\",\"Parch\",\"Fare\"]), axis=0).reset_index(drop=True)\n",
    "                        "
   ]
  },
  {
   "cell_type": "markdown",
   "id": "749fde01",
   "metadata": {},
   "source": [
    "<a id = \"9\"></a><br>\n",
    "# Missing Value\n",
    "\n",
    "* Find Missing Value\n",
    "* Fill Missing Value\n"
   ]
  },
  {
   "cell_type": "markdown",
   "id": "c44252ec",
   "metadata": {},
   "source": [
    "Eksik değerleri bulmadan önce train ve test dataframeleri birleştirelim.\n"
   ]
  },
  {
   "cell_type": "code",
   "execution_count": 19,
   "id": "2f5b5885",
   "metadata": {},
   "outputs": [],
   "source": [
    "train_df_len= len(train_df)\n",
    "train_df= pd.concat([train_df, test_df],axis=0).reset_index(drop=True)"
   ]
  },
  {
   "cell_type": "code",
   "execution_count": 20,
   "id": "2474f0f5",
   "metadata": {},
   "outputs": [
    {
     "data": {
      "text/html": [
       "<div>\n",
       "<style scoped>\n",
       "    .dataframe tbody tr th:only-of-type {\n",
       "        vertical-align: middle;\n",
       "    }\n",
       "\n",
       "    .dataframe tbody tr th {\n",
       "        vertical-align: top;\n",
       "    }\n",
       "\n",
       "    .dataframe thead th {\n",
       "        text-align: right;\n",
       "    }\n",
       "</style>\n",
       "<table border=\"1\" class=\"dataframe\">\n",
       "  <thead>\n",
       "    <tr style=\"text-align: right;\">\n",
       "      <th></th>\n",
       "      <th>PassengerId</th>\n",
       "      <th>Survived</th>\n",
       "      <th>Pclass</th>\n",
       "      <th>Name</th>\n",
       "      <th>Sex</th>\n",
       "      <th>Age</th>\n",
       "      <th>SibSp</th>\n",
       "      <th>Parch</th>\n",
       "      <th>Ticket</th>\n",
       "      <th>Fare</th>\n",
       "      <th>Cabin</th>\n",
       "      <th>Embarked</th>\n",
       "    </tr>\n",
       "  </thead>\n",
       "  <tbody>\n",
       "    <tr>\n",
       "      <th>0</th>\n",
       "      <td>1</td>\n",
       "      <td>0.0</td>\n",
       "      <td>3</td>\n",
       "      <td>Braund, Mr. Owen Harris</td>\n",
       "      <td>male</td>\n",
       "      <td>22.0</td>\n",
       "      <td>1</td>\n",
       "      <td>0</td>\n",
       "      <td>A/5 21171</td>\n",
       "      <td>7.2500</td>\n",
       "      <td>NaN</td>\n",
       "      <td>S</td>\n",
       "    </tr>\n",
       "    <tr>\n",
       "      <th>1</th>\n",
       "      <td>2</td>\n",
       "      <td>1.0</td>\n",
       "      <td>1</td>\n",
       "      <td>Cumings, Mrs. John Bradley (Florence Briggs Th...</td>\n",
       "      <td>female</td>\n",
       "      <td>38.0</td>\n",
       "      <td>1</td>\n",
       "      <td>0</td>\n",
       "      <td>PC 17599</td>\n",
       "      <td>71.2833</td>\n",
       "      <td>C85</td>\n",
       "      <td>C</td>\n",
       "    </tr>\n",
       "    <tr>\n",
       "      <th>2</th>\n",
       "      <td>3</td>\n",
       "      <td>1.0</td>\n",
       "      <td>3</td>\n",
       "      <td>Heikkinen, Miss. Laina</td>\n",
       "      <td>female</td>\n",
       "      <td>26.0</td>\n",
       "      <td>0</td>\n",
       "      <td>0</td>\n",
       "      <td>STON/O2. 3101282</td>\n",
       "      <td>7.9250</td>\n",
       "      <td>NaN</td>\n",
       "      <td>S</td>\n",
       "    </tr>\n",
       "    <tr>\n",
       "      <th>3</th>\n",
       "      <td>4</td>\n",
       "      <td>1.0</td>\n",
       "      <td>1</td>\n",
       "      <td>Futrelle, Mrs. Jacques Heath (Lily May Peel)</td>\n",
       "      <td>female</td>\n",
       "      <td>35.0</td>\n",
       "      <td>1</td>\n",
       "      <td>0</td>\n",
       "      <td>113803</td>\n",
       "      <td>53.1000</td>\n",
       "      <td>C123</td>\n",
       "      <td>S</td>\n",
       "    </tr>\n",
       "    <tr>\n",
       "      <th>4</th>\n",
       "      <td>5</td>\n",
       "      <td>0.0</td>\n",
       "      <td>3</td>\n",
       "      <td>Allen, Mr. William Henry</td>\n",
       "      <td>male</td>\n",
       "      <td>35.0</td>\n",
       "      <td>0</td>\n",
       "      <td>0</td>\n",
       "      <td>373450</td>\n",
       "      <td>8.0500</td>\n",
       "      <td>NaN</td>\n",
       "      <td>S</td>\n",
       "    </tr>\n",
       "  </tbody>\n",
       "</table>\n",
       "</div>"
      ],
      "text/plain": [
       "   PassengerId  Survived  Pclass  \\\n",
       "0            1       0.0       3   \n",
       "1            2       1.0       1   \n",
       "2            3       1.0       3   \n",
       "3            4       1.0       1   \n",
       "4            5       0.0       3   \n",
       "\n",
       "                                                Name     Sex   Age  SibSp  \\\n",
       "0                            Braund, Mr. Owen Harris    male  22.0      1   \n",
       "1  Cumings, Mrs. John Bradley (Florence Briggs Th...  female  38.0      1   \n",
       "2                             Heikkinen, Miss. Laina  female  26.0      0   \n",
       "3       Futrelle, Mrs. Jacques Heath (Lily May Peel)  female  35.0      1   \n",
       "4                           Allen, Mr. William Henry    male  35.0      0   \n",
       "\n",
       "   Parch            Ticket     Fare Cabin Embarked  \n",
       "0      0         A/5 21171   7.2500   NaN        S  \n",
       "1      0          PC 17599  71.2833   C85        C  \n",
       "2      0  STON/O2. 3101282   7.9250   NaN        S  \n",
       "3      0            113803  53.1000  C123        S  \n",
       "4      0            373450   8.0500   NaN        S  "
      ]
     },
     "execution_count": 20,
     "metadata": {},
     "output_type": "execute_result"
    }
   ],
   "source": [
    "train_df.head()"
   ]
  },
  {
   "cell_type": "markdown",
   "id": "d7fbf40d",
   "metadata": {},
   "source": [
    "<a id = \"10\"></a><br>\n",
    "# Find Missing Value"
   ]
  },
  {
   "cell_type": "markdown",
   "id": "9b54c560",
   "metadata": {},
   "source": [
    "train datasında hangi colunmlarda eksik veri var bunları detect ettik."
   ]
  },
  {
   "cell_type": "code",
   "execution_count": 21,
   "id": "fe2d265a",
   "metadata": {},
   "outputs": [
    {
     "data": {
      "text/plain": [
       "Index(['Survived', 'Age', 'Fare', 'Cabin', 'Embarked'], dtype='object')"
      ]
     },
     "execution_count": 21,
     "metadata": {},
     "output_type": "execute_result"
    }
   ],
   "source": [
    "train_df.columns[train_df.isnull().any()]"
   ]
  },
  {
   "cell_type": "markdown",
   "id": "817d1a53",
   "metadata": {},
   "source": [
    "Kaç tane missing value olduğunu da öğrenelim."
   ]
  },
  {
   "cell_type": "code",
   "execution_count": 22,
   "id": "ddd59fdc",
   "metadata": {},
   "outputs": [
    {
     "data": {
      "text/plain": [
       "PassengerId      0\n",
       "Survived       418\n",
       "Pclass           0\n",
       "Name             0\n",
       "Sex              0\n",
       "Age            243\n",
       "SibSp            0\n",
       "Parch            0\n",
       "Ticket           0\n",
       "Fare             1\n",
       "Cabin          864\n",
       "Embarked         2\n",
       "dtype: int64"
      ]
     },
     "execution_count": 22,
     "metadata": {},
     "output_type": "execute_result"
    }
   ],
   "source": [
    "train_df.isnull().sum()"
   ]
  },
  {
   "cell_type": "markdown",
   "id": "288e5012",
   "metadata": {},
   "source": [
    "<a id = \"11\"></a><br>\n",
    "# Fill Missing Value\n",
    "\n",
    "* Embarked ve Fare features\n"
   ]
  },
  {
   "cell_type": "markdown",
   "id": "a3c5ed41",
   "metadata": {},
   "source": [
    "Embarked value'nun boş değerlerine bakıp, bu iki boş değeri diğer öznitelikleri kullanarak doldurabiliriz. bu iki satır Embarked değerini doldurmak için Fare özniteliğinden yararlanabiliriz. Yani verilen paraya göre hani  limandan bindiklerini çıkarabiliriz."
   ]
  },
  {
   "cell_type": "code",
   "execution_count": 23,
   "id": "95331378",
   "metadata": {},
   "outputs": [
    {
     "data": {
      "text/html": [
       "<div>\n",
       "<style scoped>\n",
       "    .dataframe tbody tr th:only-of-type {\n",
       "        vertical-align: middle;\n",
       "    }\n",
       "\n",
       "    .dataframe tbody tr th {\n",
       "        vertical-align: top;\n",
       "    }\n",
       "\n",
       "    .dataframe thead th {\n",
       "        text-align: right;\n",
       "    }\n",
       "</style>\n",
       "<table border=\"1\" class=\"dataframe\">\n",
       "  <thead>\n",
       "    <tr style=\"text-align: right;\">\n",
       "      <th></th>\n",
       "      <th>PassengerId</th>\n",
       "      <th>Survived</th>\n",
       "      <th>Pclass</th>\n",
       "      <th>Name</th>\n",
       "      <th>Sex</th>\n",
       "      <th>Age</th>\n",
       "      <th>SibSp</th>\n",
       "      <th>Parch</th>\n",
       "      <th>Ticket</th>\n",
       "      <th>Fare</th>\n",
       "      <th>Cabin</th>\n",
       "      <th>Embarked</th>\n",
       "    </tr>\n",
       "  </thead>\n",
       "  <tbody>\n",
       "    <tr>\n",
       "      <th>48</th>\n",
       "      <td>62</td>\n",
       "      <td>1.0</td>\n",
       "      <td>1</td>\n",
       "      <td>Icard, Miss. Amelie</td>\n",
       "      <td>female</td>\n",
       "      <td>38.0</td>\n",
       "      <td>0</td>\n",
       "      <td>0</td>\n",
       "      <td>113572</td>\n",
       "      <td>80.0</td>\n",
       "      <td>B28</td>\n",
       "      <td>NaN</td>\n",
       "    </tr>\n",
       "    <tr>\n",
       "      <th>633</th>\n",
       "      <td>830</td>\n",
       "      <td>1.0</td>\n",
       "      <td>1</td>\n",
       "      <td>Stone, Mrs. George Nelson (Martha Evelyn)</td>\n",
       "      <td>female</td>\n",
       "      <td>62.0</td>\n",
       "      <td>0</td>\n",
       "      <td>0</td>\n",
       "      <td>113572</td>\n",
       "      <td>80.0</td>\n",
       "      <td>B28</td>\n",
       "      <td>NaN</td>\n",
       "    </tr>\n",
       "  </tbody>\n",
       "</table>\n",
       "</div>"
      ],
      "text/plain": [
       "     PassengerId  Survived  Pclass                                       Name  \\\n",
       "48            62       1.0       1                        Icard, Miss. Amelie   \n",
       "633          830       1.0       1  Stone, Mrs. George Nelson (Martha Evelyn)   \n",
       "\n",
       "        Sex   Age  SibSp  Parch  Ticket  Fare Cabin Embarked  \n",
       "48   female  38.0      0      0  113572  80.0   B28      NaN  \n",
       "633  female  62.0      0      0  113572  80.0   B28      NaN  "
      ]
     },
     "execution_count": 23,
     "metadata": {},
     "output_type": "execute_result"
    }
   ],
   "source": [
    "train_df[train_df[\"Embarked\"].isnull()]"
   ]
  },
  {
   "cell_type": "markdown",
   "id": "d601474a",
   "metadata": {},
   "source": [
    "Fare özniteliğine göre doldurmak için Fare için bir box plot çizdirelim."
   ]
  },
  {
   "cell_type": "code",
   "execution_count": 24,
   "id": "1bf5ce50",
   "metadata": {},
   "outputs": [
    {
     "data": {
      "image/png": "[encoded data removed]",
      "text/plain": [
       "<Figure size 640x480 with 1 Axes>"
      ]
     },
     "metadata": {},
     "output_type": "display_data"
    }
   ],
   "source": [
    "train_df.boxplot(column= \"Fare\", by= \"Embarked\")\n",
    "plt.show()"
   ]
  },
  {
   "cell_type": "markdown",
   "id": "b20d81d3",
   "metadata": {},
   "source": [
    "Medyan değeri 80'e daha yakın olan Embarked değeri \"C\" limanıdır."
   ]
  },
  {
   "cell_type": "code",
   "execution_count": 25,
   "id": "1f875215",
   "metadata": {},
   "outputs": [],
   "source": [
    "train_df[\"Embarked\"]= train_df[\"Embarked\"].fillna(\"C\")"
   ]
  },
  {
   "cell_type": "code",
   "execution_count": 26,
   "id": "c930bd90",
   "metadata": {},
   "outputs": [
    {
     "data": {
      "text/html": [
       "<div>\n",
       "<style scoped>\n",
       "    .dataframe tbody tr th:only-of-type {\n",
       "        vertical-align: middle;\n",
       "    }\n",
       "\n",
       "    .dataframe tbody tr th {\n",
       "        vertical-align: top;\n",
       "    }\n",
       "\n",
       "    .dataframe thead th {\n",
       "        text-align: right;\n",
       "    }\n",
       "</style>\n",
       "<table border=\"1\" class=\"dataframe\">\n",
       "  <thead>\n",
       "    <tr style=\"text-align: right;\">\n",
       "      <th></th>\n",
       "      <th>PassengerId</th>\n",
       "      <th>Survived</th>\n",
       "      <th>Pclass</th>\n",
       "      <th>Name</th>\n",
       "      <th>Sex</th>\n",
       "      <th>Age</th>\n",
       "      <th>SibSp</th>\n",
       "      <th>Parch</th>\n",
       "      <th>Ticket</th>\n",
       "      <th>Fare</th>\n",
       "      <th>Cabin</th>\n",
       "      <th>Embarked</th>\n",
       "    </tr>\n",
       "  </thead>\n",
       "  <tbody>\n",
       "  </tbody>\n",
       "</table>\n",
       "</div>"
      ],
      "text/plain": [
       "Empty DataFrame\n",
       "Columns: [PassengerId, Survived, Pclass, Name, Sex, Age, SibSp, Parch, Ticket, Fare, Cabin, Embarked]\n",
       "Index: []"
      ]
     },
     "execution_count": 26,
     "metadata": {},
     "output_type": "execute_result"
    }
   ],
   "source": [
    "train_df[train_df[\"Embarked\"].isnull()]"
   ]
  },
  {
   "cell_type": "markdown",
   "id": "7cecd7ea",
   "metadata": {},
   "source": [
    "şimdi ise Fare sütununu doldurma işlemine geçelim."
   ]
  },
  {
   "cell_type": "code",
   "execution_count": 27,
   "id": "392b95b1",
   "metadata": {},
   "outputs": [
    {
     "data": {
      "text/html": [
       "<div>\n",
       "<style scoped>\n",
       "    .dataframe tbody tr th:only-of-type {\n",
       "        vertical-align: middle;\n",
       "    }\n",
       "\n",
       "    .dataframe tbody tr th {\n",
       "        vertical-align: top;\n",
       "    }\n",
       "\n",
       "    .dataframe thead th {\n",
       "        text-align: right;\n",
       "    }\n",
       "</style>\n",
       "<table border=\"1\" class=\"dataframe\">\n",
       "  <thead>\n",
       "    <tr style=\"text-align: right;\">\n",
       "      <th></th>\n",
       "      <th>PassengerId</th>\n",
       "      <th>Survived</th>\n",
       "      <th>Pclass</th>\n",
       "      <th>Name</th>\n",
       "      <th>Sex</th>\n",
       "      <th>Age</th>\n",
       "      <th>SibSp</th>\n",
       "      <th>Parch</th>\n",
       "      <th>Ticket</th>\n",
       "      <th>Fare</th>\n",
       "      <th>Cabin</th>\n",
       "      <th>Embarked</th>\n",
       "    </tr>\n",
       "  </thead>\n",
       "  <tbody>\n",
       "    <tr>\n",
       "      <th>830</th>\n",
       "      <td>1044</td>\n",
       "      <td>NaN</td>\n",
       "      <td>3</td>\n",
       "      <td>Storey, Mr. Thomas</td>\n",
       "      <td>male</td>\n",
       "      <td>60.5</td>\n",
       "      <td>0</td>\n",
       "      <td>0</td>\n",
       "      <td>3701</td>\n",
       "      <td>NaN</td>\n",
       "      <td>NaN</td>\n",
       "      <td>S</td>\n",
       "    </tr>\n",
       "  </tbody>\n",
       "</table>\n",
       "</div>"
      ],
      "text/plain": [
       "     PassengerId  Survived  Pclass                Name   Sex   Age  SibSp  \\\n",
       "830         1044       NaN       3  Storey, Mr. Thomas  male  60.5      0   \n",
       "\n",
       "     Parch Ticket  Fare Cabin Embarked  \n",
       "830      0   3701   NaN   NaN        S  "
      ]
     },
     "execution_count": 27,
     "metadata": {},
     "output_type": "execute_result"
    }
   ],
   "source": [
    "train_df[train_df[\"Fare\"].isnull()]"
   ]
  },
  {
   "cell_type": "markdown",
   "id": "83d96bee",
   "metadata": {},
   "source": [
    "Fare dışındaki diğer öznitelikler incelenirse, Pclass'a bakmak daha anlamlı olacaktır."
   ]
  },
  {
   "cell_type": "code",
   "execution_count": 28,
   "id": "39900493",
   "metadata": {},
   "outputs": [
    {
     "data": {
      "text/html": [
       "<div>\n",
       "<style scoped>\n",
       "    .dataframe tbody tr th:only-of-type {\n",
       "        vertical-align: middle;\n",
       "    }\n",
       "\n",
       "    .dataframe tbody tr th {\n",
       "        vertical-align: top;\n",
       "    }\n",
       "\n",
       "    .dataframe thead th {\n",
       "        text-align: right;\n",
       "    }\n",
       "</style>\n",
       "<table border=\"1\" class=\"dataframe\">\n",
       "  <thead>\n",
       "    <tr style=\"text-align: right;\">\n",
       "      <th></th>\n",
       "      <th>PassengerId</th>\n",
       "      <th>Survived</th>\n",
       "      <th>Pclass</th>\n",
       "      <th>Name</th>\n",
       "      <th>Sex</th>\n",
       "      <th>Age</th>\n",
       "      <th>SibSp</th>\n",
       "      <th>Parch</th>\n",
       "      <th>Ticket</th>\n",
       "      <th>Fare</th>\n",
       "      <th>Cabin</th>\n",
       "      <th>Embarked</th>\n",
       "    </tr>\n",
       "  </thead>\n",
       "  <tbody>\n",
       "    <tr>\n",
       "      <th>0</th>\n",
       "      <td>1</td>\n",
       "      <td>0.0</td>\n",
       "      <td>3</td>\n",
       "      <td>Braund, Mr. Owen Harris</td>\n",
       "      <td>male</td>\n",
       "      <td>22.0</td>\n",
       "      <td>1</td>\n",
       "      <td>0</td>\n",
       "      <td>A/5 21171</td>\n",
       "      <td>7.2500</td>\n",
       "      <td>NaN</td>\n",
       "      <td>S</td>\n",
       "    </tr>\n",
       "    <tr>\n",
       "      <th>2</th>\n",
       "      <td>3</td>\n",
       "      <td>1.0</td>\n",
       "      <td>3</td>\n",
       "      <td>Heikkinen, Miss. Laina</td>\n",
       "      <td>female</td>\n",
       "      <td>26.0</td>\n",
       "      <td>0</td>\n",
       "      <td>0</td>\n",
       "      <td>STON/O2. 3101282</td>\n",
       "      <td>7.9250</td>\n",
       "      <td>NaN</td>\n",
       "      <td>S</td>\n",
       "    </tr>\n",
       "    <tr>\n",
       "      <th>4</th>\n",
       "      <td>5</td>\n",
       "      <td>0.0</td>\n",
       "      <td>3</td>\n",
       "      <td>Allen, Mr. William Henry</td>\n",
       "      <td>male</td>\n",
       "      <td>35.0</td>\n",
       "      <td>0</td>\n",
       "      <td>0</td>\n",
       "      <td>373450</td>\n",
       "      <td>8.0500</td>\n",
       "      <td>NaN</td>\n",
       "      <td>S</td>\n",
       "    </tr>\n",
       "    <tr>\n",
       "      <th>5</th>\n",
       "      <td>6</td>\n",
       "      <td>0.0</td>\n",
       "      <td>3</td>\n",
       "      <td>Moran, Mr. James</td>\n",
       "      <td>male</td>\n",
       "      <td>NaN</td>\n",
       "      <td>0</td>\n",
       "      <td>0</td>\n",
       "      <td>330877</td>\n",
       "      <td>8.4583</td>\n",
       "      <td>NaN</td>\n",
       "      <td>Q</td>\n",
       "    </tr>\n",
       "    <tr>\n",
       "      <th>9</th>\n",
       "      <td>13</td>\n",
       "      <td>0.0</td>\n",
       "      <td>3</td>\n",
       "      <td>Saundercock, Mr. William Henry</td>\n",
       "      <td>male</td>\n",
       "      <td>20.0</td>\n",
       "      <td>0</td>\n",
       "      <td>0</td>\n",
       "      <td>A/5. 2151</td>\n",
       "      <td>8.0500</td>\n",
       "      <td>NaN</td>\n",
       "      <td>S</td>\n",
       "    </tr>\n",
       "    <tr>\n",
       "      <th>...</th>\n",
       "      <td>...</td>\n",
       "      <td>...</td>\n",
       "      <td>...</td>\n",
       "      <td>...</td>\n",
       "      <td>...</td>\n",
       "      <td>...</td>\n",
       "      <td>...</td>\n",
       "      <td>...</td>\n",
       "      <td>...</td>\n",
       "      <td>...</td>\n",
       "      <td>...</td>\n",
       "      <td>...</td>\n",
       "    </tr>\n",
       "    <tr>\n",
       "      <th>1090</th>\n",
       "      <td>1304</td>\n",
       "      <td>NaN</td>\n",
       "      <td>3</td>\n",
       "      <td>Henriksson, Miss. Jenny Lovisa</td>\n",
       "      <td>female</td>\n",
       "      <td>28.0</td>\n",
       "      <td>0</td>\n",
       "      <td>0</td>\n",
       "      <td>347086</td>\n",
       "      <td>7.7750</td>\n",
       "      <td>NaN</td>\n",
       "      <td>S</td>\n",
       "    </tr>\n",
       "    <tr>\n",
       "      <th>1091</th>\n",
       "      <td>1305</td>\n",
       "      <td>NaN</td>\n",
       "      <td>3</td>\n",
       "      <td>Spector, Mr. Woolf</td>\n",
       "      <td>male</td>\n",
       "      <td>NaN</td>\n",
       "      <td>0</td>\n",
       "      <td>0</td>\n",
       "      <td>A.5. 3236</td>\n",
       "      <td>8.0500</td>\n",
       "      <td>NaN</td>\n",
       "      <td>S</td>\n",
       "    </tr>\n",
       "    <tr>\n",
       "      <th>1093</th>\n",
       "      <td>1307</td>\n",
       "      <td>NaN</td>\n",
       "      <td>3</td>\n",
       "      <td>Saether, Mr. Simon Sivertsen</td>\n",
       "      <td>male</td>\n",
       "      <td>38.5</td>\n",
       "      <td>0</td>\n",
       "      <td>0</td>\n",
       "      <td>SOTON/O.Q. 3101262</td>\n",
       "      <td>7.2500</td>\n",
       "      <td>NaN</td>\n",
       "      <td>S</td>\n",
       "    </tr>\n",
       "    <tr>\n",
       "      <th>1094</th>\n",
       "      <td>1308</td>\n",
       "      <td>NaN</td>\n",
       "      <td>3</td>\n",
       "      <td>Ware, Mr. Frederick</td>\n",
       "      <td>male</td>\n",
       "      <td>NaN</td>\n",
       "      <td>0</td>\n",
       "      <td>0</td>\n",
       "      <td>359309</td>\n",
       "      <td>8.0500</td>\n",
       "      <td>NaN</td>\n",
       "      <td>S</td>\n",
       "    </tr>\n",
       "    <tr>\n",
       "      <th>1095</th>\n",
       "      <td>1309</td>\n",
       "      <td>NaN</td>\n",
       "      <td>3</td>\n",
       "      <td>Peter, Master. Michael J</td>\n",
       "      <td>male</td>\n",
       "      <td>NaN</td>\n",
       "      <td>1</td>\n",
       "      <td>1</td>\n",
       "      <td>2668</td>\n",
       "      <td>22.3583</td>\n",
       "      <td>NaN</td>\n",
       "      <td>C</td>\n",
       "    </tr>\n",
       "  </tbody>\n",
       "</table>\n",
       "<p>599 rows × 12 columns</p>\n",
       "</div>"
      ],
      "text/plain": [
       "      PassengerId  Survived  Pclass                            Name     Sex  \\\n",
       "0               1       0.0       3         Braund, Mr. Owen Harris    male   \n",
       "2               3       1.0       3          Heikkinen, Miss. Laina  female   \n",
       "4               5       0.0       3        Allen, Mr. William Henry    male   \n",
       "5               6       0.0       3                Moran, Mr. James    male   \n",
       "9              13       0.0       3  Saundercock, Mr. William Henry    male   \n",
       "...           ...       ...     ...                             ...     ...   \n",
       "1090         1304       NaN       3  Henriksson, Miss. Jenny Lovisa  female   \n",
       "1091         1305       NaN       3              Spector, Mr. Woolf    male   \n",
       "1093         1307       NaN       3    Saether, Mr. Simon Sivertsen    male   \n",
       "1094         1308       NaN       3             Ware, Mr. Frederick    male   \n",
       "1095         1309       NaN       3        Peter, Master. Michael J    male   \n",
       "\n",
       "       Age  SibSp  Parch              Ticket     Fare Cabin Embarked  \n",
       "0     22.0      1      0           A/5 21171   7.2500   NaN        S  \n",
       "2     26.0      0      0    STON/O2. 3101282   7.9250   NaN        S  \n",
       "4     35.0      0      0              373450   8.0500   NaN        S  \n",
       "5      NaN      0      0              330877   8.4583   NaN        Q  \n",
       "9     20.0      0      0           A/5. 2151   8.0500   NaN        S  \n",
       "...    ...    ...    ...                 ...      ...   ...      ...  \n",
       "1090  28.0      0      0              347086   7.7750   NaN        S  \n",
       "1091   NaN      0      0           A.5. 3236   8.0500   NaN        S  \n",
       "1093  38.5      0      0  SOTON/O.Q. 3101262   7.2500   NaN        S  \n",
       "1094   NaN      0      0              359309   8.0500   NaN        S  \n",
       "1095   NaN      1      1                2668  22.3583   NaN        C  \n",
       "\n",
       "[599 rows x 12 columns]"
      ]
     },
     "execution_count": 28,
     "metadata": {},
     "output_type": "execute_result"
    }
   ],
   "source": [
    "train_df[train_df[\"Pclass\"]==3]"
   ]
  },
  {
   "cell_type": "markdown",
   "id": "eb857f60",
   "metadata": {},
   "source": [
    "Pclass değrinin sadece 3 olan yolcuların ödediği miktarın ortalamasını alıp ardından boş olan Fare satırını doldurabiliriz"
   ]
  },
  {
   "cell_type": "code",
   "execution_count": 29,
   "id": "2acaaeb6",
   "metadata": {},
   "outputs": [
    {
     "data": {
      "text/plain": [
       "10.907475250836121"
      ]
     },
     "execution_count": 29,
     "metadata": {},
     "output_type": "execute_result"
    }
   ],
   "source": [
    "np.mean(train_df[train_df[\"Pclass\"]==3][\"Fare\"])"
   ]
  },
  {
   "cell_type": "code",
   "execution_count": 30,
   "id": "d7565d08",
   "metadata": {},
   "outputs": [],
   "source": [
    "train_df[\"Fare\"]= train_df[\"Fare\"].fillna(np.mean(train_df[train_df[\"Pclass\"]==3][\"Fare\"]))"
   ]
  },
  {
   "cell_type": "code",
   "execution_count": 31,
   "id": "d2d564ac",
   "metadata": {},
   "outputs": [
    {
     "data": {
      "text/html": [
       "<div>\n",
       "<style scoped>\n",
       "    .dataframe tbody tr th:only-of-type {\n",
       "        vertical-align: middle;\n",
       "    }\n",
       "\n",
       "    .dataframe tbody tr th {\n",
       "        vertical-align: top;\n",
       "    }\n",
       "\n",
       "    .dataframe thead th {\n",
       "        text-align: right;\n",
       "    }\n",
       "</style>\n",
       "<table border=\"1\" class=\"dataframe\">\n",
       "  <thead>\n",
       "    <tr style=\"text-align: right;\">\n",
       "      <th></th>\n",
       "      <th>PassengerId</th>\n",
       "      <th>Survived</th>\n",
       "      <th>Pclass</th>\n",
       "      <th>Name</th>\n",
       "      <th>Sex</th>\n",
       "      <th>Age</th>\n",
       "      <th>SibSp</th>\n",
       "      <th>Parch</th>\n",
       "      <th>Ticket</th>\n",
       "      <th>Fare</th>\n",
       "      <th>Cabin</th>\n",
       "      <th>Embarked</th>\n",
       "    </tr>\n",
       "  </thead>\n",
       "  <tbody>\n",
       "  </tbody>\n",
       "</table>\n",
       "</div>"
      ],
      "text/plain": [
       "Empty DataFrame\n",
       "Columns: [PassengerId, Survived, Pclass, Name, Sex, Age, SibSp, Parch, Ticket, Fare, Cabin, Embarked]\n",
       "Index: []"
      ]
     },
     "execution_count": 31,
     "metadata": {},
     "output_type": "execute_result"
    }
   ],
   "source": [
    "train_df[train_df[\"Fare\"].isnull()]"
   ]
  },
  {
   "cell_type": "markdown",
   "id": "cd4a7d5d",
   "metadata": {},
   "source": [
    "<a id = \"12\"></a><br>\n",
    "\n",
    "# Visualization"
   ]
  },
  {
   "cell_type": "markdown",
   "id": "ec235254",
   "metadata": {},
   "source": [
    "<a id = \"13\"></a><br>\n",
    "\n",
    "### Correlation Between SipSp---Parch---Age---Fare---Survived"
   ]
  },
  {
   "cell_type": "code",
   "execution_count": 32,
   "id": "828c25c0",
   "metadata": {},
   "outputs": [
    {
     "data": {
      "image/png": "[encoded data removed]",
      "text/plain": [
       "<Figure size 640x480 with 2 Axes>"
      ]
     },
     "metadata": {},
     "output_type": "display_data"
    }
   ],
   "source": [
    "list1= [\"SibSp\",\"Parch\",\"Age\",\"Fare\",\"Survived\"]\n",
    "sns.heatmap(train_df[list1].corr(), annot=True, fmt= \".2f\")\n",
    "plt.show()"
   ]
  },
  {
   "cell_type": "markdown",
   "id": "1ea5f72e",
   "metadata": {},
   "source": [
    "Fare ve Survived feature arasında bir ilişki vardır. (0.30)"
   ]
  },
  {
   "cell_type": "markdown",
   "id": "a1fb016c",
   "metadata": {},
   "source": [
    "<a id = \"14\"></a><br>\n",
    "\n",
    "### Correlation Between SipSp---Survived"
   ]
  },
  {
   "cell_type": "markdown",
   "id": "bc97bc7b",
   "metadata": {},
   "source": [
    "Gemide bir ilişiği bulunan insanlar için ilişiği bulunan insan sayısı üçe kadar hayatta kalma olasılığı artarken 3 den sonra sert bir düşüş söz konusudur. Haliyle burada SibSb=3 şeklinde bir threshold ya da yeni bir özellik tanımlanması olasıdır. "
   ]
  },
  {
   "cell_type": "code",
   "execution_count": 33,
   "id": "58fa367a",
   "metadata": {},
   "outputs": [
    {
     "data": {
      "image/png": "[encoded data removed]",
      "text/plain": [
       "<Figure size 600x600 with 1 Axes>"
      ]
     },
     "metadata": {},
     "output_type": "display_data"
    }
   ],
   "source": [
    "g = sns.catplot(x=\"SibSp\", y=\"Survived\", data=train_df, kind=\"bar\", height=6)\n",
    "g.set_ylabels(\"Survived Probability\")\n",
    "plt.show()"
   ]
  },
  {
   "cell_type": "markdown",
   "id": "fb8f0467",
   "metadata": {},
   "source": [
    "<a id = \"15\"></a><br>\n",
    "\n",
    "### Correlation Between Parch---Survived"
   ]
  },
  {
   "cell_type": "markdown",
   "id": "614bdcd3",
   "metadata": {},
   "source": [
    "Gemide hiç ebeveyni ya da çoçuğu bulunmayan kişileri hayatta kalma olasılığı olan kişilerden fazla olanlara göre oldukça fazladır. Tek başına gelen kişilerin hayatta kalma olasılığı yüksektir."
   ]
  },
  {
   "cell_type": "code",
   "execution_count": 34,
   "id": "bb7be702",
   "metadata": {},
   "outputs": [
    {
     "data": {
      "image/png": "[encoded data removed]",
      "text/plain": [
       "<Figure size 600x600 with 1 Axes>"
      ]
     },
     "metadata": {},
     "output_type": "display_data"
    }
   ],
   "source": [
    "g = sns.catplot(x=\"Parch\", y=\"Survived\", data=train_df, kind=\"bar\", height=6)\n",
    "g.set_ylabels(\"Survived Probability\")\n",
    "plt.show()"
   ]
  },
  {
   "cell_type": "markdown",
   "id": "c252012a",
   "metadata": {},
   "source": [
    "SibSp ve Parch değişkenleri bireylerin aile bağlantılarını içerdiği için beraber kullanılarak yeni bir feture elde edilebilir. Ortak bir bağlantı kullanılabilir. "
   ]
  },
  {
   "cell_type": "markdown",
   "id": "c7913017",
   "metadata": {},
   "source": [
    "<a id = \"16\"></a><br>\n",
    "\n",
    "### Correlation Between Pclass---Survived"
   ]
  },
  {
   "cell_type": "markdown",
   "id": "deb9a450",
   "metadata": {},
   "source": [
    "En pahalı kısımda hayatta kalma olasılığı iki ve üçe göre daha yüksektir."
   ]
  },
  {
   "cell_type": "code",
   "execution_count": 35,
   "id": "d02e1372",
   "metadata": {},
   "outputs": [
    {
     "data": {
      "image/png": "[encoded data removed]",
      "text/plain": [
       "<Figure size 600x600 with 1 Axes>"
      ]
     },
     "metadata": {},
     "output_type": "display_data"
    }
   ],
   "source": [
    "g = sns.catplot(x=\"Pclass\", y=\"Survived\", data=train_df, kind=\"bar\", height=6)\n",
    "g.set_ylabels(\"Survived Probability\")\n",
    "plt.show()"
   ]
  },
  {
   "cell_type": "markdown",
   "id": "77a73d9f",
   "metadata": {},
   "source": [
    "<a id = \"17\"></a><br>\n",
    "\n",
    "### Correlation Between Age---Survived"
   ]
  },
  {
   "cell_type": "markdown",
   "id": "0a3a5379",
   "metadata": {},
   "source": [
    "* Age değeri 10' dan küçük değerler için hayatta kalma olasılığı yüksektir.\n",
    "* Yaşlı yolcular (80) hayatta kalabilmiştir.\n",
    "* 20li yaşlar hayatta kalma olasılığı düşüktür.\n",
    "* yolcu yaş dağılımı genellike 15-35 yaş aralığındadır.\n",
    "* Age feture'ının değerlerini doldururken bu değerler kullanılabilir."
   ]
  },
  {
   "cell_type": "code",
   "execution_count": 36,
   "id": "060b2ebe",
   "metadata": {},
   "outputs": [
    {
     "data": {
      "image/png": "[encoded data removed]",
      "text/plain": [
       "<Figure size 600x300 with 2 Axes>"
      ]
     },
     "metadata": {},
     "output_type": "display_data"
    }
   ],
   "source": [
    "g = sns.FacetGrid(train_df, col=\"Survived\")\n",
    "g.map(sns.distplot, \"Age\", bins=25)\n",
    "plt.show()"
   ]
  },
  {
   "cell_type": "markdown",
   "id": "5133c9fd",
   "metadata": {},
   "source": [
    "<a id = \"18\"></a><br>\n",
    "\n",
    "### Correlation Between Pclass---Age---Survived"
   ]
  },
  {
   "cell_type": "markdown",
   "id": "f109937b",
   "metadata": {},
   "source": [
    "Pclass önemli bir etken olacaktır."
   ]
  },
  {
   "cell_type": "code",
   "execution_count": 37,
   "id": "77b19039",
   "metadata": {},
   "outputs": [
    {
     "data": {
      "text/plain": [
       "<seaborn.axisgrid.FacetGrid at 0x21e6582fd60>"
      ]
     },
     "execution_count": 37,
     "metadata": {},
     "output_type": "execute_result"
    },
    {
     "data": {
      "image/png": "[encoded data removed]",
      "text/plain": [
       "<Figure size 411.111x600 with 6 Axes>"
      ]
     },
     "metadata": {},
     "output_type": "display_data"
    }
   ],
   "source": [
    "g = sns.FacetGrid(train_df, col=\"Survived\", row=\"Pclass\", height=2)\n",
    "g.map(plt.hist, \"Age\", bins=23)\n",
    "g.add_legend()\n"
   ]
  },
  {
   "cell_type": "markdown",
   "id": "a00e07f3",
   "metadata": {},
   "source": [
    "<a id = \"19\"></a><br>\n",
    "\n",
    "### Correlation Between Embarked---Sex---Pclass---Survived"
   ]
  },
  {
   "cell_type": "markdown",
   "id": "511a980c",
   "metadata": {},
   "source": [
    "* Kadınların hayatta kalma olasılığı erkeklerin hayatta kalma olasılığından daha yüksektir.\n",
    "* Erkeklerin C limanından binişinde hayatta kalma olasılığı daha yüksekken,\n",
    "* Embbarked ve Sex feature'larını direkt olarak kullanabiliriz."
   ]
  },
  {
   "cell_type": "code",
   "execution_count": 38,
   "id": "50ed46be",
   "metadata": {},
   "outputs": [
    {
     "data": {
      "image/png": "[encoded data removed]",
      "text/plain": [
       "<Figure size 291.875x600 with 3 Axes>"
      ]
     },
     "metadata": {},
     "output_type": "display_data"
    }
   ],
   "source": [
    "g = sns.FacetGrid(train_df ,row=\"Embarked\", height=2)\n",
    "g.map(sns.pointplot,\"Pclass\", \"Survived\", \"Sex\")\n",
    "g.add_legend()\n",
    "plt.show()"
   ]
  },
  {
   "cell_type": "markdown",
   "id": "b42535b3",
   "metadata": {},
   "source": [
    "<a id = \"20\"></a><br>\n",
    "\n",
    "### Correlation Between Embarked---Sex---Fare---Survived"
   ]
  },
  {
   "cell_type": "markdown",
   "id": "80d0745b",
   "metadata": {},
   "source": [
    "* Birinci çizimde S limanından binen insanlardan az para ödeyenler hayatta kalamazken, daha fazla para ödeyen yolcuların hayatta kaldığını görebiliriz.\n",
    "* C limaından binen yolcularında da aynı şekilde\n",
    "* Q limanından da binen yolcular için aynı şey geçerlidir.\n",
    "\n",
    "\n",
    "* Fare ile ilgili bir thresh koyarak burada feature extraction gerçekleştirebiliriz."
   ]
  },
  {
   "cell_type": "code",
   "execution_count": 39,
   "id": "c37b5d1a",
   "metadata": {},
   "outputs": [
    {
     "data": {
      "image/png": "[encoded data removed]",
      "text/plain": [
       "<Figure size 471.111x690 with 6 Axes>"
      ]
     },
     "metadata": {},
     "output_type": "display_data"
    }
   ],
   "source": [
    "g= sns.FacetGrid(train_df, row=\"Embarked\", col=\"Survived\", height=2.3)\n",
    "g.map(sns.barplot, \"Sex\", \"Fare\")\n",
    "g.add_legend()\n",
    "plt.show()"
   ]
  },
  {
   "cell_type": "markdown",
   "id": "a57e01c8",
   "metadata": {},
   "source": [
    "<a id = \"21\"></a><br>\n",
    "\n",
    "# Fill Missing: Age Feature"
   ]
  },
  {
   "cell_type": "markdown",
   "id": "e801ca5c",
   "metadata": {},
   "source": [
    "Yaşa bakarken sibSp ve Parch sütunlarından yararlanabiliriz, ya da kadın erkek yaş ortalamalarının dağılımına bakılabilir. Ya da binilen limalardaki yaş ortalamaarına bakılarak da yaş sütunu doldurabilir. Bunları hibrit bir şekilde de yapmak mümkündür."
   ]
  },
  {
   "cell_type": "code",
   "execution_count": 40,
   "id": "8c18b57e",
   "metadata": {},
   "outputs": [
    {
     "data": {
      "text/html": [
       "<div>\n",
       "<style scoped>\n",
       "    .dataframe tbody tr th:only-of-type {\n",
       "        vertical-align: middle;\n",
       "    }\n",
       "\n",
       "    .dataframe tbody tr th {\n",
       "        vertical-align: top;\n",
       "    }\n",
       "\n",
       "    .dataframe thead th {\n",
       "        text-align: right;\n",
       "    }\n",
       "</style>\n",
       "<table border=\"1\" class=\"dataframe\">\n",
       "  <thead>\n",
       "    <tr style=\"text-align: right;\">\n",
       "      <th></th>\n",
       "      <th>PassengerId</th>\n",
       "      <th>Survived</th>\n",
       "      <th>Pclass</th>\n",
       "      <th>Name</th>\n",
       "      <th>Sex</th>\n",
       "      <th>Age</th>\n",
       "      <th>SibSp</th>\n",
       "      <th>Parch</th>\n",
       "      <th>Ticket</th>\n",
       "      <th>Fare</th>\n",
       "      <th>Cabin</th>\n",
       "      <th>Embarked</th>\n",
       "    </tr>\n",
       "  </thead>\n",
       "  <tbody>\n",
       "    <tr>\n",
       "      <th>5</th>\n",
       "      <td>6</td>\n",
       "      <td>0.0</td>\n",
       "      <td>3</td>\n",
       "      <td>Moran, Mr. James</td>\n",
       "      <td>male</td>\n",
       "      <td>NaN</td>\n",
       "      <td>0</td>\n",
       "      <td>0</td>\n",
       "      <td>330877</td>\n",
       "      <td>8.4583</td>\n",
       "      <td>NaN</td>\n",
       "      <td>Q</td>\n",
       "    </tr>\n",
       "    <tr>\n",
       "      <th>12</th>\n",
       "      <td>18</td>\n",
       "      <td>1.0</td>\n",
       "      <td>2</td>\n",
       "      <td>Williams, Mr. Charles Eugene</td>\n",
       "      <td>male</td>\n",
       "      <td>NaN</td>\n",
       "      <td>0</td>\n",
       "      <td>0</td>\n",
       "      <td>244373</td>\n",
       "      <td>13.0000</td>\n",
       "      <td>NaN</td>\n",
       "      <td>S</td>\n",
       "    </tr>\n",
       "    <tr>\n",
       "      <th>14</th>\n",
       "      <td>20</td>\n",
       "      <td>1.0</td>\n",
       "      <td>3</td>\n",
       "      <td>Masselmani, Mrs. Fatima</td>\n",
       "      <td>female</td>\n",
       "      <td>NaN</td>\n",
       "      <td>0</td>\n",
       "      <td>0</td>\n",
       "      <td>2649</td>\n",
       "      <td>7.2250</td>\n",
       "      <td>NaN</td>\n",
       "      <td>C</td>\n",
       "    </tr>\n",
       "    <tr>\n",
       "      <th>19</th>\n",
       "      <td>27</td>\n",
       "      <td>0.0</td>\n",
       "      <td>3</td>\n",
       "      <td>Emir, Mr. Farred Chehab</td>\n",
       "      <td>male</td>\n",
       "      <td>NaN</td>\n",
       "      <td>0</td>\n",
       "      <td>0</td>\n",
       "      <td>2631</td>\n",
       "      <td>7.2250</td>\n",
       "      <td>NaN</td>\n",
       "      <td>C</td>\n",
       "    </tr>\n",
       "    <tr>\n",
       "      <th>20</th>\n",
       "      <td>29</td>\n",
       "      <td>1.0</td>\n",
       "      <td>3</td>\n",
       "      <td>O'Dwyer, Miss. Ellen \"Nellie\"</td>\n",
       "      <td>female</td>\n",
       "      <td>NaN</td>\n",
       "      <td>0</td>\n",
       "      <td>0</td>\n",
       "      <td>330959</td>\n",
       "      <td>7.8792</td>\n",
       "      <td>NaN</td>\n",
       "      <td>Q</td>\n",
       "    </tr>\n",
       "    <tr>\n",
       "      <th>...</th>\n",
       "      <td>...</td>\n",
       "      <td>...</td>\n",
       "      <td>...</td>\n",
       "      <td>...</td>\n",
       "      <td>...</td>\n",
       "      <td>...</td>\n",
       "      <td>...</td>\n",
       "      <td>...</td>\n",
       "      <td>...</td>\n",
       "      <td>...</td>\n",
       "      <td>...</td>\n",
       "      <td>...</td>\n",
       "    </tr>\n",
       "    <tr>\n",
       "      <th>1086</th>\n",
       "      <td>1300</td>\n",
       "      <td>NaN</td>\n",
       "      <td>3</td>\n",
       "      <td>Riordan, Miss. Johanna Hannah\"\"</td>\n",
       "      <td>female</td>\n",
       "      <td>NaN</td>\n",
       "      <td>0</td>\n",
       "      <td>0</td>\n",
       "      <td>334915</td>\n",
       "      <td>7.7208</td>\n",
       "      <td>NaN</td>\n",
       "      <td>Q</td>\n",
       "    </tr>\n",
       "    <tr>\n",
       "      <th>1088</th>\n",
       "      <td>1302</td>\n",
       "      <td>NaN</td>\n",
       "      <td>3</td>\n",
       "      <td>Naughton, Miss. Hannah</td>\n",
       "      <td>female</td>\n",
       "      <td>NaN</td>\n",
       "      <td>0</td>\n",
       "      <td>0</td>\n",
       "      <td>365237</td>\n",
       "      <td>7.7500</td>\n",
       "      <td>NaN</td>\n",
       "      <td>Q</td>\n",
       "    </tr>\n",
       "    <tr>\n",
       "      <th>1091</th>\n",
       "      <td>1305</td>\n",
       "      <td>NaN</td>\n",
       "      <td>3</td>\n",
       "      <td>Spector, Mr. Woolf</td>\n",
       "      <td>male</td>\n",
       "      <td>NaN</td>\n",
       "      <td>0</td>\n",
       "      <td>0</td>\n",
       "      <td>A.5. 3236</td>\n",
       "      <td>8.0500</td>\n",
       "      <td>NaN</td>\n",
       "      <td>S</td>\n",
       "    </tr>\n",
       "    <tr>\n",
       "      <th>1094</th>\n",
       "      <td>1308</td>\n",
       "      <td>NaN</td>\n",
       "      <td>3</td>\n",
       "      <td>Ware, Mr. Frederick</td>\n",
       "      <td>male</td>\n",
       "      <td>NaN</td>\n",
       "      <td>0</td>\n",
       "      <td>0</td>\n",
       "      <td>359309</td>\n",
       "      <td>8.0500</td>\n",
       "      <td>NaN</td>\n",
       "      <td>S</td>\n",
       "    </tr>\n",
       "    <tr>\n",
       "      <th>1095</th>\n",
       "      <td>1309</td>\n",
       "      <td>NaN</td>\n",
       "      <td>3</td>\n",
       "      <td>Peter, Master. Michael J</td>\n",
       "      <td>male</td>\n",
       "      <td>NaN</td>\n",
       "      <td>1</td>\n",
       "      <td>1</td>\n",
       "      <td>2668</td>\n",
       "      <td>22.3583</td>\n",
       "      <td>NaN</td>\n",
       "      <td>C</td>\n",
       "    </tr>\n",
       "  </tbody>\n",
       "</table>\n",
       "<p>243 rows × 12 columns</p>\n",
       "</div>"
      ],
      "text/plain": [
       "      PassengerId  Survived  Pclass                             Name     Sex  \\\n",
       "5               6       0.0       3                 Moran, Mr. James    male   \n",
       "12             18       1.0       2     Williams, Mr. Charles Eugene    male   \n",
       "14             20       1.0       3          Masselmani, Mrs. Fatima  female   \n",
       "19             27       0.0       3          Emir, Mr. Farred Chehab    male   \n",
       "20             29       1.0       3    O'Dwyer, Miss. Ellen \"Nellie\"  female   \n",
       "...           ...       ...     ...                              ...     ...   \n",
       "1086         1300       NaN       3  Riordan, Miss. Johanna Hannah\"\"  female   \n",
       "1088         1302       NaN       3           Naughton, Miss. Hannah  female   \n",
       "1091         1305       NaN       3               Spector, Mr. Woolf    male   \n",
       "1094         1308       NaN       3              Ware, Mr. Frederick    male   \n",
       "1095         1309       NaN       3         Peter, Master. Michael J    male   \n",
       "\n",
       "      Age  SibSp  Parch     Ticket     Fare Cabin Embarked  \n",
       "5     NaN      0      0     330877   8.4583   NaN        Q  \n",
       "12    NaN      0      0     244373  13.0000   NaN        S  \n",
       "14    NaN      0      0       2649   7.2250   NaN        C  \n",
       "19    NaN      0      0       2631   7.2250   NaN        C  \n",
       "20    NaN      0      0     330959   7.8792   NaN        Q  \n",
       "...   ...    ...    ...        ...      ...   ...      ...  \n",
       "1086  NaN      0      0     334915   7.7208   NaN        Q  \n",
       "1088  NaN      0      0     365237   7.7500   NaN        Q  \n",
       "1091  NaN      0      0  A.5. 3236   8.0500   NaN        S  \n",
       "1094  NaN      0      0     359309   8.0500   NaN        S  \n",
       "1095  NaN      1      1       2668  22.3583   NaN        C  \n",
       "\n",
       "[243 rows x 12 columns]"
      ]
     },
     "execution_count": 40,
     "metadata": {},
     "output_type": "execute_result"
    }
   ],
   "source": [
    "train_df[train_df[\"Age\"].isnull()]"
   ]
  },
  {
   "cell_type": "markdown",
   "id": "d9a6168f",
   "metadata": {},
   "source": [
    "Cinsiyet ile doldurmak istersek:\n"
   ]
  },
  {
   "cell_type": "code",
   "execution_count": 41,
   "id": "781b1ee7",
   "metadata": {},
   "outputs": [
    {
     "data": {
      "text/plain": [
       "<seaborn.axisgrid.FacetGrid at 0x21e635b5930>"
      ]
     },
     "execution_count": 41,
     "metadata": {},
     "output_type": "execute_result"
    },
    {
     "data": {
      "image/png": "[encoded data removed]",
      "text/plain": [
       "<Figure size 500x500 with 1 Axes>"
      ]
     },
     "metadata": {},
     "output_type": "display_data"
    }
   ],
   "source": [
    "sns.catplot(x=\"Sex\", y=\"Age\", data=train_df, kind=\"box\")"
   ]
  },
  {
   "cell_type": "markdown",
   "id": "a5b3c286",
   "metadata": {},
   "source": [
    "Sex feature'si bir işe yaramıyor çünkü ortalama olarak kadın ve erkek yaş dağılımları ve medyanı aynıdır."
   ]
  },
  {
   "cell_type": "markdown",
   "id": "c3f0883a",
   "metadata": {},
   "source": [
    "##### Sex Age ve Pclass'a bakalım"
   ]
  },
  {
   "cell_type": "code",
   "execution_count": 42,
   "id": "20b07386",
   "metadata": {},
   "outputs": [
    {
     "data": {
      "text/plain": [
       "<seaborn.axisgrid.FacetGrid at 0x21e5dd5eb60>"
      ]
     },
     "execution_count": 42,
     "metadata": {},
     "output_type": "execute_result"
    },
    {
     "data": {
      "image/png": "[encoded data removed]",
      "text/plain": [
       "<Figure size 557.75x500 with 1 Axes>"
      ]
     },
     "metadata": {},
     "output_type": "display_data"
    }
   ],
   "source": [
    "sns.catplot(x=\"Sex\", y=\"Age\",hue= \"Pclass\", data=train_df, kind=\"box\")"
   ]
  },
  {
   "cell_type": "markdown",
   "id": "30db791f",
   "metadata": {},
   "source": [
    "* Birinci sınıfta kalan yolcularımızın yaş ortalamaları 40 diyebiliriz.\n",
    "* İkinci sınıfta kalan yolcularımızın yaş ortalamaları 30 diyebiliriz.\n",
    "* Üçüncü sınıfta kalan yolcularımızın yaş ortalamaları 25 diyebiliriz.\n"
   ]
  },
  {
   "cell_type": "markdown",
   "id": "050596e7",
   "metadata": {},
   "source": [
    "###### Parch ve SibSb değişkenlerinin Age üzerindeki dağılımlara bakalım."
   ]
  },
  {
   "cell_type": "code",
   "execution_count": 43,
   "id": "05489ed1",
   "metadata": {},
   "outputs": [
    {
     "data": {
      "image/png": "[encoded data removed]",
      "text/plain": [
       "<Figure size 500x500 with 1 Axes>"
      ]
     },
     "metadata": {},
     "output_type": "display_data"
    },
    {
     "data": {
      "image/png": "[encoded data removed]",
      "text/plain": [
       "<Figure size 500x500 with 1 Axes>"
      ]
     },
     "metadata": {},
     "output_type": "display_data"
    }
   ],
   "source": [
    "sns.catplot(x=\"Parch\", y=\"Age\", data=train_df, kind=\"box\")\n",
    "sns.catplot(x=\"SibSp\", y=\"Age\", data=train_df, kind=\"box\")\n",
    "plt.show()"
   ]
  },
  {
   "cell_type": "markdown",
   "id": "ac03b838",
   "metadata": {},
   "source": [
    "Cinsiyet satırı str ifadeden oluştuğu için 1 ve 0 olarak etiketleyeceğiz."
   ]
  },
  {
   "cell_type": "code",
   "execution_count": 44,
   "id": "aa9419fc",
   "metadata": {},
   "outputs": [],
   "source": [
    "train_df[\"Sex\"] = [1 if i == \"male\" else 0 for i in train_df[\"Sex\"]]"
   ]
  },
  {
   "cell_type": "markdown",
   "id": "5ed9c6e2",
   "metadata": {},
   "source": [
    " ###### İncelediğimiz her özellik için bir korelasyon var mı ona bakalım. HeatMap kullanarak."
   ]
  },
  {
   "cell_type": "code",
   "execution_count": 45,
   "id": "c553698c",
   "metadata": {},
   "outputs": [
    {
     "data": {
      "image/png": "[encoded data removed]",
      "text/plain": [
       "<Figure size 640x480 with 2 Axes>"
      ]
     },
     "metadata": {},
     "output_type": "display_data"
    }
   ],
   "source": [
    "sns.heatmap(train_df[[\"Age\", \"Sex\", \"SibSp\", \"Parch\", \"Pclass\"]].corr(), annot=True)\n",
    "plt.show()"
   ]
  },
  {
   "cell_type": "markdown",
   "id": "6df76721",
   "metadata": {},
   "source": [
    "Age feature'nın Sex feature'ı ile bir korelasyonu yok. Ama Parch , SibSp ve Pclass ile ilişkisi vardır. "
   ]
  },
  {
   "cell_type": "code",
   "execution_count": 46,
   "id": "36afbd4a",
   "metadata": {},
   "outputs": [],
   "source": [
    "index_nan_age= list(train_df[\"Age\"][train_df[\"Age\"].isnull()].index)"
   ]
  },
  {
   "cell_type": "markdown",
   "id": "983aad18",
   "metadata": {},
   "source": [
    "Age feature boş olan tüm indexlerde dolaşıp ardından bu indexlerdeli Parch , SibSp ve Pclass özelliklerine bakacağız."
   ]
  },
  {
   "cell_type": "code",
   "execution_count": 47,
   "id": "e9fec46a",
   "metadata": {},
   "outputs": [],
   "source": [
    "import numpy as np\n"
   ]
  },
  {
   "cell_type": "code",
   "execution_count": 48,
   "id": "c812b980",
   "metadata": {},
   "outputs": [],
   "source": [
    "index_nan_age= list(train_df[\"Age\"][train_df[\"Age\"].isnull()].index)\n",
    "for i in index_nan_age:\n",
    "    age_pred = train_df[\"Age\"][((train_df[\"SibSp\"] == train_df.iloc[i][\"SibSp\"]) & (train_df[\"Parch\"] == train_df.iloc[i][\"Parch\"]) & (train_df[\"Pclass\"] == train_df.iloc[i][\"Pclass\"]))].median()\n",
    "    age_med = train_df[\"Age\"].median()\n",
    "    if age_pred is not None and not np.isnan(age_pred):\n",
    "        \n",
    "        train_df[\"Age\"].iloc[i] = age_pred\n",
    "    else:\n",
    "        train_df[\"Age\"].iloc[i] = age_med\n",
    "\n",
    "\n",
    "\n"
   ]
  },
  {
   "cell_type": "code",
   "execution_count": 49,
   "id": "e79e7418",
   "metadata": {},
   "outputs": [
    {
     "data": {
      "text/html": [
       "<div>\n",
       "<style scoped>\n",
       "    .dataframe tbody tr th:only-of-type {\n",
       "        vertical-align: middle;\n",
       "    }\n",
       "\n",
       "    .dataframe tbody tr th {\n",
       "        vertical-align: top;\n",
       "    }\n",
       "\n",
       "    .dataframe thead th {\n",
       "        text-align: right;\n",
       "    }\n",
       "</style>\n",
       "<table border=\"1\" class=\"dataframe\">\n",
       "  <thead>\n",
       "    <tr style=\"text-align: right;\">\n",
       "      <th></th>\n",
       "      <th>PassengerId</th>\n",
       "      <th>Survived</th>\n",
       "      <th>Pclass</th>\n",
       "      <th>Name</th>\n",
       "      <th>Sex</th>\n",
       "      <th>Age</th>\n",
       "      <th>SibSp</th>\n",
       "      <th>Parch</th>\n",
       "      <th>Ticket</th>\n",
       "      <th>Fare</th>\n",
       "      <th>Cabin</th>\n",
       "      <th>Embarked</th>\n",
       "    </tr>\n",
       "  </thead>\n",
       "  <tbody>\n",
       "  </tbody>\n",
       "</table>\n",
       "</div>"
      ],
      "text/plain": [
       "Empty DataFrame\n",
       "Columns: [PassengerId, Survived, Pclass, Name, Sex, Age, SibSp, Parch, Ticket, Fare, Cabin, Embarked]\n",
       "Index: []"
      ]
     },
     "execution_count": 49,
     "metadata": {},
     "output_type": "execute_result"
    }
   ],
   "source": [
    "train_df[train_df[\"Age\"].isnull()]"
   ]
  },
  {
   "cell_type": "markdown",
   "id": "739b9af6",
   "metadata": {},
   "source": [
    "<a id = \"22\"></a><br>\n",
    "\n",
    "# Feature Engineering\n",
    "\n",
    "* Name ve Title"
   ]
  },
  {
   "cell_type": "markdown",
   "id": "1df737bc",
   "metadata": {},
   "source": [
    "<a id = \"23\"></a><br>\n",
    "##### Name Ve Title"
   ]
  },
  {
   "cell_type": "markdown",
   "id": "5bc8f1d9",
   "metadata": {},
   "source": [
    "İsimlerden yola çıkılamayabilir fakat bazı insanların title'ları var ve biz bunlarla survived feature arasında bir ilişki kurabiliriz."
   ]
  },
  {
   "cell_type": "code",
   "execution_count": 50,
   "id": "39bbe8d9",
   "metadata": {},
   "outputs": [
    {
     "data": {
      "text/plain": [
       "0                              Braund, Mr. Owen Harris\n",
       "1    Cumings, Mrs. John Bradley (Florence Briggs Th...\n",
       "2                               Heikkinen, Miss. Laina\n",
       "3         Futrelle, Mrs. Jacques Heath (Lily May Peel)\n",
       "4                             Allen, Mr. William Henry\n",
       "5                                     Moran, Mr. James\n",
       "6                              McCarthy, Mr. Timothy J\n",
       "7                  Nasser, Mrs. Nicholas (Adele Achem)\n",
       "8                             Bonnell, Miss. Elizabeth\n",
       "9                       Saundercock, Mr. William Henry\n",
       "Name: Name, dtype: object"
      ]
     },
     "execution_count": 50,
     "metadata": {},
     "output_type": "execute_result"
    }
   ],
   "source": [
    "train_df[\"Name\"].head(10)"
   ]
  },
  {
   "cell_type": "markdown",
   "id": "e673f4ee",
   "metadata": {},
   "source": [
    "İsimlerde bulunan Mr ve Mrs titleleri çekmek için önce noktaya göre ayırmak ve daha sonra da virgüle göre ayırma işlemi yapabiliriz."
   ]
  },
  {
   "cell_type": "code",
   "execution_count": 51,
   "id": "8fcf128b",
   "metadata": {},
   "outputs": [],
   "source": [
    "name= train_df[\"Name\"]\n",
    "train_df[\"Title\"]= [i.split(\".\")[0] .split(\",\")[-1].strip() for i in name]\n"
   ]
  },
  {
   "cell_type": "code",
   "execution_count": 52,
   "id": "cb6dc090",
   "metadata": {},
   "outputs": [
    {
     "data": {
      "text/plain": [
       "0      Mr\n",
       "1     Mrs\n",
       "2    Miss\n",
       "3     Mrs\n",
       "4      Mr\n",
       "Name: Title, dtype: object"
      ]
     },
     "execution_count": 52,
     "metadata": {},
     "output_type": "execute_result"
    }
   ],
   "source": [
    "train_df[\"Title\"].head()"
   ]
  },
  {
   "cell_type": "code",
   "execution_count": 53,
   "id": "76a49368",
   "metadata": {},
   "outputs": [
    {
     "data": {
      "image/png": "[encoded data removed]",
      "text/plain": [
       "<Figure size 640x480 with 1 Axes>"
      ]
     },
     "metadata": {},
     "output_type": "display_data"
    }
   ],
   "source": [
    "sns.countplot(x=\"Title\", data= train_df)\n",
    "plt.xticks(rotation=60)\n",
    "plt.show()"
   ]
  },
  {
   "cell_type": "markdown",
   "id": "c51952e9",
   "metadata": {},
   "source": [
    "Çok fazla kategori varlığı söz konusu olduğu için bunları \"dört\" kategori haline getireceğiz."
   ]
  },
  {
   "cell_type": "code",
   "execution_count": 54,
   "id": "afa1fed6",
   "metadata": {},
   "outputs": [],
   "source": [
    "#convert to categorical\n",
    "train_df[\"Title\"]= train_df[\"Title\"].replace([\"Lady\", \"the Countess\", \"Capt\",\"Don\",\"Dr\",\"Sir\",\"Major\",\"Rev\",\"Jonkheer\",\"Dona\",\"Col\"], \"other\")\n",
    "train_df[\"Title\"]= [0 if i== \"Master\" else 1 if i== \"Miss\" or i== \"Ms\" or i==\"Mlle\" or i== \"Mrs\" else 2 if i== \"Mr\" else 3 for i in train_df[\"Title\"]]"
   ]
  },
  {
   "cell_type": "code",
   "execution_count": 55,
   "id": "0c2ab7c5",
   "metadata": {},
   "outputs": [
    {
     "data": {
      "image/png": "[encoded data removed]",
      "text/plain": [
       "<Figure size 640x480 with 1 Axes>"
      ]
     },
     "metadata": {},
     "output_type": "display_data"
    }
   ],
   "source": [
    "sns.countplot(x=\"Title\", data= train_df)\n",
    "plt.xticks(rotation=60)\n",
    "plt.show()"
   ]
  },
  {
   "cell_type": "code",
   "execution_count": 56,
   "id": "7b86706f",
   "metadata": {},
   "outputs": [
    {
     "data": {
      "text/plain": [
       "0     2\n",
       "1     1\n",
       "2     1\n",
       "3     1\n",
       "4     2\n",
       "5     2\n",
       "6     2\n",
       "7     1\n",
       "8     1\n",
       "9     2\n",
       "10    1\n",
       "11    1\n",
       "12    2\n",
       "13    1\n",
       "14    1\n",
       "15    2\n",
       "16    2\n",
       "17    1\n",
       "18    2\n",
       "19    2\n",
       "Name: Title, dtype: int64"
      ]
     },
     "execution_count": 56,
     "metadata": {},
     "output_type": "execute_result"
    }
   ],
   "source": [
    "train_df[\"Title\"].head(20)"
   ]
  },
  {
   "cell_type": "code",
   "execution_count": 57,
   "id": "a5c4cdfa",
   "metadata": {},
   "outputs": [
    {
     "data": {
      "image/png": "[encoded data removed]",
      "text/plain": [
       "<Figure size 500x500 with 1 Axes>"
      ]
     },
     "metadata": {},
     "output_type": "display_data"
    }
   ],
   "source": [
    "g = sns.catplot(x= \"Title\", y=\"Survived\", data= train_df, kind= \"bar\")\n",
    "g.set_xticklabels([\"Master\", \"Mrs\",\"Mr\",\"Other\"])\n",
    "g.set_ylabels= (\"Survival Probablity\")\n",
    "plt.show()"
   ]
  },
  {
   "cell_type": "code",
   "execution_count": 58,
   "id": "c46dfa83",
   "metadata": {},
   "outputs": [],
   "source": [
    "train_df.drop(labels= [\"Name\"], axis=1, inplace=True)"
   ]
  },
  {
   "cell_type": "code",
   "execution_count": 59,
   "id": "761fe801",
   "metadata": {},
   "outputs": [
    {
     "data": {
      "text/html": [
       "<div>\n",
       "<style scoped>\n",
       "    .dataframe tbody tr th:only-of-type {\n",
       "        vertical-align: middle;\n",
       "    }\n",
       "\n",
       "    .dataframe tbody tr th {\n",
       "        vertical-align: top;\n",
       "    }\n",
       "\n",
       "    .dataframe thead th {\n",
       "        text-align: right;\n",
       "    }\n",
       "</style>\n",
       "<table border=\"1\" class=\"dataframe\">\n",
       "  <thead>\n",
       "    <tr style=\"text-align: right;\">\n",
       "      <th></th>\n",
       "      <th>PassengerId</th>\n",
       "      <th>Survived</th>\n",
       "      <th>Pclass</th>\n",
       "      <th>Sex</th>\n",
       "      <th>Age</th>\n",
       "      <th>SibSp</th>\n",
       "      <th>Parch</th>\n",
       "      <th>Ticket</th>\n",
       "      <th>Fare</th>\n",
       "      <th>Cabin</th>\n",
       "      <th>Embarked</th>\n",
       "      <th>Title_0</th>\n",
       "      <th>Title_1</th>\n",
       "      <th>Title_2</th>\n",
       "      <th>Title_3</th>\n",
       "    </tr>\n",
       "  </thead>\n",
       "  <tbody>\n",
       "    <tr>\n",
       "      <th>0</th>\n",
       "      <td>1</td>\n",
       "      <td>0.0</td>\n",
       "      <td>3</td>\n",
       "      <td>1</td>\n",
       "      <td>22.0</td>\n",
       "      <td>1</td>\n",
       "      <td>0</td>\n",
       "      <td>A/5 21171</td>\n",
       "      <td>7.2500</td>\n",
       "      <td>NaN</td>\n",
       "      <td>S</td>\n",
       "      <td>0</td>\n",
       "      <td>0</td>\n",
       "      <td>1</td>\n",
       "      <td>0</td>\n",
       "    </tr>\n",
       "    <tr>\n",
       "      <th>1</th>\n",
       "      <td>2</td>\n",
       "      <td>1.0</td>\n",
       "      <td>1</td>\n",
       "      <td>0</td>\n",
       "      <td>38.0</td>\n",
       "      <td>1</td>\n",
       "      <td>0</td>\n",
       "      <td>PC 17599</td>\n",
       "      <td>71.2833</td>\n",
       "      <td>C85</td>\n",
       "      <td>C</td>\n",
       "      <td>0</td>\n",
       "      <td>1</td>\n",
       "      <td>0</td>\n",
       "      <td>0</td>\n",
       "    </tr>\n",
       "    <tr>\n",
       "      <th>2</th>\n",
       "      <td>3</td>\n",
       "      <td>1.0</td>\n",
       "      <td>3</td>\n",
       "      <td>0</td>\n",
       "      <td>26.0</td>\n",
       "      <td>0</td>\n",
       "      <td>0</td>\n",
       "      <td>STON/O2. 3101282</td>\n",
       "      <td>7.9250</td>\n",
       "      <td>NaN</td>\n",
       "      <td>S</td>\n",
       "      <td>0</td>\n",
       "      <td>1</td>\n",
       "      <td>0</td>\n",
       "      <td>0</td>\n",
       "    </tr>\n",
       "    <tr>\n",
       "      <th>3</th>\n",
       "      <td>4</td>\n",
       "      <td>1.0</td>\n",
       "      <td>1</td>\n",
       "      <td>0</td>\n",
       "      <td>35.0</td>\n",
       "      <td>1</td>\n",
       "      <td>0</td>\n",
       "      <td>113803</td>\n",
       "      <td>53.1000</td>\n",
       "      <td>C123</td>\n",
       "      <td>S</td>\n",
       "      <td>0</td>\n",
       "      <td>1</td>\n",
       "      <td>0</td>\n",
       "      <td>0</td>\n",
       "    </tr>\n",
       "    <tr>\n",
       "      <th>4</th>\n",
       "      <td>5</td>\n",
       "      <td>0.0</td>\n",
       "      <td>3</td>\n",
       "      <td>1</td>\n",
       "      <td>35.0</td>\n",
       "      <td>0</td>\n",
       "      <td>0</td>\n",
       "      <td>373450</td>\n",
       "      <td>8.0500</td>\n",
       "      <td>NaN</td>\n",
       "      <td>S</td>\n",
       "      <td>0</td>\n",
       "      <td>0</td>\n",
       "      <td>1</td>\n",
       "      <td>0</td>\n",
       "    </tr>\n",
       "  </tbody>\n",
       "</table>\n",
       "</div>"
      ],
      "text/plain": [
       "   PassengerId  Survived  Pclass  Sex   Age  SibSp  Parch            Ticket  \\\n",
       "0            1       0.0       3    1  22.0      1      0         A/5 21171   \n",
       "1            2       1.0       1    0  38.0      1      0          PC 17599   \n",
       "2            3       1.0       3    0  26.0      0      0  STON/O2. 3101282   \n",
       "3            4       1.0       1    0  35.0      1      0            113803   \n",
       "4            5       0.0       3    1  35.0      0      0            373450   \n",
       "\n",
       "      Fare Cabin Embarked  Title_0  Title_1  Title_2  Title_3  \n",
       "0   7.2500   NaN        S        0        0        1        0  \n",
       "1  71.2833   C85        C        0        1        0        0  \n",
       "2   7.9250   NaN        S        0        1        0        0  \n",
       "3  53.1000  C123        S        0        1        0        0  \n",
       "4   8.0500   NaN        S        0        0        1        0  "
      ]
     },
     "execution_count": 59,
     "metadata": {},
     "output_type": "execute_result"
    }
   ],
   "source": [
    "train_df= pd.get_dummies(train_df, columns=[\"Title\"])\n",
    "train_df.head()"
   ]
  },
  {
   "cell_type": "markdown",
   "id": "1c1339bf",
   "metadata": {},
   "source": [
    "<a id = \"24\"></a><br>\n",
    "\n",
    "# Feature Engineering Family Size"
   ]
  },
  {
   "cell_type": "code",
   "execution_count": 60,
   "id": "929de81b",
   "metadata": {},
   "outputs": [
    {
     "data": {
      "text/html": [
       "<div>\n",
       "<style scoped>\n",
       "    .dataframe tbody tr th:only-of-type {\n",
       "        vertical-align: middle;\n",
       "    }\n",
       "\n",
       "    .dataframe tbody tr th {\n",
       "        vertical-align: top;\n",
       "    }\n",
       "\n",
       "    .dataframe thead th {\n",
       "        text-align: right;\n",
       "    }\n",
       "</style>\n",
       "<table border=\"1\" class=\"dataframe\">\n",
       "  <thead>\n",
       "    <tr style=\"text-align: right;\">\n",
       "      <th></th>\n",
       "      <th>PassengerId</th>\n",
       "      <th>Survived</th>\n",
       "      <th>Pclass</th>\n",
       "      <th>Sex</th>\n",
       "      <th>Age</th>\n",
       "      <th>SibSp</th>\n",
       "      <th>Parch</th>\n",
       "      <th>Ticket</th>\n",
       "      <th>Fare</th>\n",
       "      <th>Cabin</th>\n",
       "      <th>Embarked</th>\n",
       "      <th>Title_0</th>\n",
       "      <th>Title_1</th>\n",
       "      <th>Title_2</th>\n",
       "      <th>Title_3</th>\n",
       "    </tr>\n",
       "  </thead>\n",
       "  <tbody>\n",
       "    <tr>\n",
       "      <th>0</th>\n",
       "      <td>1</td>\n",
       "      <td>0.0</td>\n",
       "      <td>3</td>\n",
       "      <td>1</td>\n",
       "      <td>22.0</td>\n",
       "      <td>1</td>\n",
       "      <td>0</td>\n",
       "      <td>A/5 21171</td>\n",
       "      <td>7.2500</td>\n",
       "      <td>NaN</td>\n",
       "      <td>S</td>\n",
       "      <td>0</td>\n",
       "      <td>0</td>\n",
       "      <td>1</td>\n",
       "      <td>0</td>\n",
       "    </tr>\n",
       "    <tr>\n",
       "      <th>1</th>\n",
       "      <td>2</td>\n",
       "      <td>1.0</td>\n",
       "      <td>1</td>\n",
       "      <td>0</td>\n",
       "      <td>38.0</td>\n",
       "      <td>1</td>\n",
       "      <td>0</td>\n",
       "      <td>PC 17599</td>\n",
       "      <td>71.2833</td>\n",
       "      <td>C85</td>\n",
       "      <td>C</td>\n",
       "      <td>0</td>\n",
       "      <td>1</td>\n",
       "      <td>0</td>\n",
       "      <td>0</td>\n",
       "    </tr>\n",
       "    <tr>\n",
       "      <th>2</th>\n",
       "      <td>3</td>\n",
       "      <td>1.0</td>\n",
       "      <td>3</td>\n",
       "      <td>0</td>\n",
       "      <td>26.0</td>\n",
       "      <td>0</td>\n",
       "      <td>0</td>\n",
       "      <td>STON/O2. 3101282</td>\n",
       "      <td>7.9250</td>\n",
       "      <td>NaN</td>\n",
       "      <td>S</td>\n",
       "      <td>0</td>\n",
       "      <td>1</td>\n",
       "      <td>0</td>\n",
       "      <td>0</td>\n",
       "    </tr>\n",
       "    <tr>\n",
       "      <th>3</th>\n",
       "      <td>4</td>\n",
       "      <td>1.0</td>\n",
       "      <td>1</td>\n",
       "      <td>0</td>\n",
       "      <td>35.0</td>\n",
       "      <td>1</td>\n",
       "      <td>0</td>\n",
       "      <td>113803</td>\n",
       "      <td>53.1000</td>\n",
       "      <td>C123</td>\n",
       "      <td>S</td>\n",
       "      <td>0</td>\n",
       "      <td>1</td>\n",
       "      <td>0</td>\n",
       "      <td>0</td>\n",
       "    </tr>\n",
       "    <tr>\n",
       "      <th>4</th>\n",
       "      <td>5</td>\n",
       "      <td>0.0</td>\n",
       "      <td>3</td>\n",
       "      <td>1</td>\n",
       "      <td>35.0</td>\n",
       "      <td>0</td>\n",
       "      <td>0</td>\n",
       "      <td>373450</td>\n",
       "      <td>8.0500</td>\n",
       "      <td>NaN</td>\n",
       "      <td>S</td>\n",
       "      <td>0</td>\n",
       "      <td>0</td>\n",
       "      <td>1</td>\n",
       "      <td>0</td>\n",
       "    </tr>\n",
       "  </tbody>\n",
       "</table>\n",
       "</div>"
      ],
      "text/plain": [
       "   PassengerId  Survived  Pclass  Sex   Age  SibSp  Parch            Ticket  \\\n",
       "0            1       0.0       3    1  22.0      1      0         A/5 21171   \n",
       "1            2       1.0       1    0  38.0      1      0          PC 17599   \n",
       "2            3       1.0       3    0  26.0      0      0  STON/O2. 3101282   \n",
       "3            4       1.0       1    0  35.0      1      0            113803   \n",
       "4            5       0.0       3    1  35.0      0      0            373450   \n",
       "\n",
       "      Fare Cabin Embarked  Title_0  Title_1  Title_2  Title_3  \n",
       "0   7.2500   NaN        S        0        0        1        0  \n",
       "1  71.2833   C85        C        0        1        0        0  \n",
       "2   7.9250   NaN        S        0        1        0        0  \n",
       "3  53.1000  C123        S        0        1        0        0  \n",
       "4   8.0500   NaN        S        0        0        1        0  "
      ]
     },
     "execution_count": 60,
     "metadata": {},
     "output_type": "execute_result"
    }
   ],
   "source": [
    "train_df.head()"
   ]
  },
  {
   "cell_type": "code",
   "execution_count": 61,
   "id": "5744f74e",
   "metadata": {},
   "outputs": [],
   "source": [
    "train_df[\"Fsize\"]= train_df[\"SibSp\"] + train_df[\"Parch\"] + 1\n"
   ]
  },
  {
   "cell_type": "code",
   "execution_count": 62,
   "id": "eec44de3",
   "metadata": {},
   "outputs": [
    {
     "data": {
      "image/png": "[encoded data removed]",
      "text/plain": [
       "<Figure size 500x500 with 1 Axes>"
      ]
     },
     "metadata": {},
     "output_type": "display_data"
    }
   ],
   "source": [
    "#Survived Fsize İlşkisi\n",
    "g= sns.catplot(x= \"Fsize\", y= \"Survived\", data= train_df, kind=\"bar\")\n",
    "g.set_ylabels= (\"Survival Probablity\")\n",
    "plt.show()"
   ]
  },
  {
   "cell_type": "markdown",
   "id": "fb76e9dc",
   "metadata": {},
   "source": [
    "Dört değerini bir threshold belirleyelim. Fsize artık iki farkı şekilde ifade edilsin 0 ve 1 "
   ]
  },
  {
   "cell_type": "code",
   "execution_count": 63,
   "id": "0b0846a9",
   "metadata": {},
   "outputs": [],
   "source": [
    "train_df[\"family_size\"]= [1 if i<4 else 0 for i in train_df[\"Fsize\"]]"
   ]
  },
  {
   "cell_type": "code",
   "execution_count": 64,
   "id": "d28a3e96",
   "metadata": {},
   "outputs": [
    {
     "data": {
      "text/html": [
       "<div>\n",
       "<style scoped>\n",
       "    .dataframe tbody tr th:only-of-type {\n",
       "        vertical-align: middle;\n",
       "    }\n",
       "\n",
       "    .dataframe tbody tr th {\n",
       "        vertical-align: top;\n",
       "    }\n",
       "\n",
       "    .dataframe thead th {\n",
       "        text-align: right;\n",
       "    }\n",
       "</style>\n",
       "<table border=\"1\" class=\"dataframe\">\n",
       "  <thead>\n",
       "    <tr style=\"text-align: right;\">\n",
       "      <th></th>\n",
       "      <th>PassengerId</th>\n",
       "      <th>Survived</th>\n",
       "      <th>Pclass</th>\n",
       "      <th>Sex</th>\n",
       "      <th>Age</th>\n",
       "      <th>SibSp</th>\n",
       "      <th>Parch</th>\n",
       "      <th>Ticket</th>\n",
       "      <th>Fare</th>\n",
       "      <th>Cabin</th>\n",
       "      <th>Embarked</th>\n",
       "      <th>Title_0</th>\n",
       "      <th>Title_1</th>\n",
       "      <th>Title_2</th>\n",
       "      <th>Title_3</th>\n",
       "      <th>Fsize</th>\n",
       "      <th>family_size</th>\n",
       "    </tr>\n",
       "  </thead>\n",
       "  <tbody>\n",
       "    <tr>\n",
       "      <th>0</th>\n",
       "      <td>1</td>\n",
       "      <td>0.0</td>\n",
       "      <td>3</td>\n",
       "      <td>1</td>\n",
       "      <td>22.0</td>\n",
       "      <td>1</td>\n",
       "      <td>0</td>\n",
       "      <td>A/5 21171</td>\n",
       "      <td>7.2500</td>\n",
       "      <td>NaN</td>\n",
       "      <td>S</td>\n",
       "      <td>0</td>\n",
       "      <td>0</td>\n",
       "      <td>1</td>\n",
       "      <td>0</td>\n",
       "      <td>2</td>\n",
       "      <td>1</td>\n",
       "    </tr>\n",
       "    <tr>\n",
       "      <th>1</th>\n",
       "      <td>2</td>\n",
       "      <td>1.0</td>\n",
       "      <td>1</td>\n",
       "      <td>0</td>\n",
       "      <td>38.0</td>\n",
       "      <td>1</td>\n",
       "      <td>0</td>\n",
       "      <td>PC 17599</td>\n",
       "      <td>71.2833</td>\n",
       "      <td>C85</td>\n",
       "      <td>C</td>\n",
       "      <td>0</td>\n",
       "      <td>1</td>\n",
       "      <td>0</td>\n",
       "      <td>0</td>\n",
       "      <td>2</td>\n",
       "      <td>1</td>\n",
       "    </tr>\n",
       "    <tr>\n",
       "      <th>2</th>\n",
       "      <td>3</td>\n",
       "      <td>1.0</td>\n",
       "      <td>3</td>\n",
       "      <td>0</td>\n",
       "      <td>26.0</td>\n",
       "      <td>0</td>\n",
       "      <td>0</td>\n",
       "      <td>STON/O2. 3101282</td>\n",
       "      <td>7.9250</td>\n",
       "      <td>NaN</td>\n",
       "      <td>S</td>\n",
       "      <td>0</td>\n",
       "      <td>1</td>\n",
       "      <td>0</td>\n",
       "      <td>0</td>\n",
       "      <td>1</td>\n",
       "      <td>1</td>\n",
       "    </tr>\n",
       "    <tr>\n",
       "      <th>3</th>\n",
       "      <td>4</td>\n",
       "      <td>1.0</td>\n",
       "      <td>1</td>\n",
       "      <td>0</td>\n",
       "      <td>35.0</td>\n",
       "      <td>1</td>\n",
       "      <td>0</td>\n",
       "      <td>113803</td>\n",
       "      <td>53.1000</td>\n",
       "      <td>C123</td>\n",
       "      <td>S</td>\n",
       "      <td>0</td>\n",
       "      <td>1</td>\n",
       "      <td>0</td>\n",
       "      <td>0</td>\n",
       "      <td>2</td>\n",
       "      <td>1</td>\n",
       "    </tr>\n",
       "    <tr>\n",
       "      <th>4</th>\n",
       "      <td>5</td>\n",
       "      <td>0.0</td>\n",
       "      <td>3</td>\n",
       "      <td>1</td>\n",
       "      <td>35.0</td>\n",
       "      <td>0</td>\n",
       "      <td>0</td>\n",
       "      <td>373450</td>\n",
       "      <td>8.0500</td>\n",
       "      <td>NaN</td>\n",
       "      <td>S</td>\n",
       "      <td>0</td>\n",
       "      <td>0</td>\n",
       "      <td>1</td>\n",
       "      <td>0</td>\n",
       "      <td>1</td>\n",
       "      <td>1</td>\n",
       "    </tr>\n",
       "    <tr>\n",
       "      <th>...</th>\n",
       "      <td>...</td>\n",
       "      <td>...</td>\n",
       "      <td>...</td>\n",
       "      <td>...</td>\n",
       "      <td>...</td>\n",
       "      <td>...</td>\n",
       "      <td>...</td>\n",
       "      <td>...</td>\n",
       "      <td>...</td>\n",
       "      <td>...</td>\n",
       "      <td>...</td>\n",
       "      <td>...</td>\n",
       "      <td>...</td>\n",
       "      <td>...</td>\n",
       "      <td>...</td>\n",
       "      <td>...</td>\n",
       "      <td>...</td>\n",
       "    </tr>\n",
       "    <tr>\n",
       "      <th>195</th>\n",
       "      <td>258</td>\n",
       "      <td>1.0</td>\n",
       "      <td>1</td>\n",
       "      <td>0</td>\n",
       "      <td>30.0</td>\n",
       "      <td>0</td>\n",
       "      <td>0</td>\n",
       "      <td>110152</td>\n",
       "      <td>86.5000</td>\n",
       "      <td>B77</td>\n",
       "      <td>S</td>\n",
       "      <td>0</td>\n",
       "      <td>1</td>\n",
       "      <td>0</td>\n",
       "      <td>0</td>\n",
       "      <td>1</td>\n",
       "      <td>1</td>\n",
       "    </tr>\n",
       "    <tr>\n",
       "      <th>196</th>\n",
       "      <td>259</td>\n",
       "      <td>1.0</td>\n",
       "      <td>1</td>\n",
       "      <td>0</td>\n",
       "      <td>35.0</td>\n",
       "      <td>0</td>\n",
       "      <td>0</td>\n",
       "      <td>PC 17755</td>\n",
       "      <td>512.3292</td>\n",
       "      <td>NaN</td>\n",
       "      <td>C</td>\n",
       "      <td>0</td>\n",
       "      <td>1</td>\n",
       "      <td>0</td>\n",
       "      <td>0</td>\n",
       "      <td>1</td>\n",
       "      <td>1</td>\n",
       "    </tr>\n",
       "    <tr>\n",
       "      <th>197</th>\n",
       "      <td>261</td>\n",
       "      <td>0.0</td>\n",
       "      <td>3</td>\n",
       "      <td>1</td>\n",
       "      <td>25.0</td>\n",
       "      <td>0</td>\n",
       "      <td>0</td>\n",
       "      <td>384461</td>\n",
       "      <td>7.7500</td>\n",
       "      <td>NaN</td>\n",
       "      <td>Q</td>\n",
       "      <td>0</td>\n",
       "      <td>0</td>\n",
       "      <td>1</td>\n",
       "      <td>0</td>\n",
       "      <td>1</td>\n",
       "      <td>1</td>\n",
       "    </tr>\n",
       "    <tr>\n",
       "      <th>198</th>\n",
       "      <td>264</td>\n",
       "      <td>0.0</td>\n",
       "      <td>1</td>\n",
       "      <td>1</td>\n",
       "      <td>40.0</td>\n",
       "      <td>0</td>\n",
       "      <td>0</td>\n",
       "      <td>112059</td>\n",
       "      <td>0.0000</td>\n",
       "      <td>B94</td>\n",
       "      <td>S</td>\n",
       "      <td>0</td>\n",
       "      <td>0</td>\n",
       "      <td>1</td>\n",
       "      <td>0</td>\n",
       "      <td>1</td>\n",
       "      <td>1</td>\n",
       "    </tr>\n",
       "    <tr>\n",
       "      <th>199</th>\n",
       "      <td>265</td>\n",
       "      <td>0.0</td>\n",
       "      <td>3</td>\n",
       "      <td>0</td>\n",
       "      <td>25.0</td>\n",
       "      <td>0</td>\n",
       "      <td>0</td>\n",
       "      <td>382649</td>\n",
       "      <td>7.7500</td>\n",
       "      <td>NaN</td>\n",
       "      <td>Q</td>\n",
       "      <td>0</td>\n",
       "      <td>1</td>\n",
       "      <td>0</td>\n",
       "      <td>0</td>\n",
       "      <td>1</td>\n",
       "      <td>1</td>\n",
       "    </tr>\n",
       "  </tbody>\n",
       "</table>\n",
       "<p>200 rows × 17 columns</p>\n",
       "</div>"
      ],
      "text/plain": [
       "     PassengerId  Survived  Pclass  Sex   Age  SibSp  Parch            Ticket  \\\n",
       "0              1       0.0       3    1  22.0      1      0         A/5 21171   \n",
       "1              2       1.0       1    0  38.0      1      0          PC 17599   \n",
       "2              3       1.0       3    0  26.0      0      0  STON/O2. 3101282   \n",
       "3              4       1.0       1    0  35.0      1      0            113803   \n",
       "4              5       0.0       3    1  35.0      0      0            373450   \n",
       "..           ...       ...     ...  ...   ...    ...    ...               ...   \n",
       "195          258       1.0       1    0  30.0      0      0            110152   \n",
       "196          259       1.0       1    0  35.0      0      0          PC 17755   \n",
       "197          261       0.0       3    1  25.0      0      0            384461   \n",
       "198          264       0.0       1    1  40.0      0      0            112059   \n",
       "199          265       0.0       3    0  25.0      0      0            382649   \n",
       "\n",
       "         Fare Cabin Embarked  Title_0  Title_1  Title_2  Title_3  Fsize  \\\n",
       "0      7.2500   NaN        S        0        0        1        0      2   \n",
       "1     71.2833   C85        C        0        1        0        0      2   \n",
       "2      7.9250   NaN        S        0        1        0        0      1   \n",
       "3     53.1000  C123        S        0        1        0        0      2   \n",
       "4      8.0500   NaN        S        0        0        1        0      1   \n",
       "..        ...   ...      ...      ...      ...      ...      ...    ...   \n",
       "195   86.5000   B77        S        0        1        0        0      1   \n",
       "196  512.3292   NaN        C        0        1        0        0      1   \n",
       "197    7.7500   NaN        Q        0        0        1        0      1   \n",
       "198    0.0000   B94        S        0        0        1        0      1   \n",
       "199    7.7500   NaN        Q        0        1        0        0      1   \n",
       "\n",
       "     family_size  \n",
       "0              1  \n",
       "1              1  \n",
       "2              1  \n",
       "3              1  \n",
       "4              1  \n",
       "..           ...  \n",
       "195            1  \n",
       "196            1  \n",
       "197            1  \n",
       "198            1  \n",
       "199            1  \n",
       "\n",
       "[200 rows x 17 columns]"
      ]
     },
     "execution_count": 64,
     "metadata": {},
     "output_type": "execute_result"
    }
   ],
   "source": [
    "train_df.head(200)"
   ]
  },
  {
   "cell_type": "code",
   "execution_count": 65,
   "id": "63bba0fe",
   "metadata": {},
   "outputs": [
    {
     "data": {
      "image/png": "[encoded data removed]",
      "text/plain": [
       "<Figure size 640x480 with 1 Axes>"
      ]
     },
     "metadata": {},
     "output_type": "display_data"
    }
   ],
   "source": [
    "sns.countplot(x= \"family_size\", data= train_df)\n",
    "plt.show()"
   ]
  },
  {
   "cell_type": "code",
   "execution_count": 66,
   "id": "02a15e85",
   "metadata": {},
   "outputs": [
    {
     "data": {
      "image/png": "[encoded data removed]",
      "text/plain": [
       "<Figure size 500x500 with 1 Axes>"
      ]
     },
     "metadata": {},
     "output_type": "display_data"
    }
   ],
   "source": [
    "#Survived family_size İlşkisi\n",
    "g= sns.catplot(x= \"family_size\", y= \"Survived\", data= train_df, kind=\"bar\")\n",
    "g.set_ylabels= (\"Survival Probablity\")\n",
    "plt.show()"
   ]
  },
  {
   "cell_type": "markdown",
   "id": "92fd54ab",
   "metadata": {},
   "source": [
    "küçük ailelerin büyük ailelere göre hayatta kalma şansı daha yüksektir. Family_size ' i ikiye böleceğiz. 0 ve 1 den oluşacak şekilde"
   ]
  },
  {
   "cell_type": "code",
   "execution_count": 67,
   "id": "f56b9660",
   "metadata": {},
   "outputs": [
    {
     "data": {
      "text/html": [
       "<div>\n",
       "<style scoped>\n",
       "    .dataframe tbody tr th:only-of-type {\n",
       "        vertical-align: middle;\n",
       "    }\n",
       "\n",
       "    .dataframe tbody tr th {\n",
       "        vertical-align: top;\n",
       "    }\n",
       "\n",
       "    .dataframe thead th {\n",
       "        text-align: right;\n",
       "    }\n",
       "</style>\n",
       "<table border=\"1\" class=\"dataframe\">\n",
       "  <thead>\n",
       "    <tr style=\"text-align: right;\">\n",
       "      <th></th>\n",
       "      <th>PassengerId</th>\n",
       "      <th>Survived</th>\n",
       "      <th>Pclass</th>\n",
       "      <th>Sex</th>\n",
       "      <th>Age</th>\n",
       "      <th>SibSp</th>\n",
       "      <th>Parch</th>\n",
       "      <th>Ticket</th>\n",
       "      <th>Fare</th>\n",
       "      <th>Cabin</th>\n",
       "      <th>Embarked</th>\n",
       "      <th>Title_0</th>\n",
       "      <th>Title_1</th>\n",
       "      <th>Title_2</th>\n",
       "      <th>Title_3</th>\n",
       "      <th>Fsize</th>\n",
       "      <th>family_size_0</th>\n",
       "      <th>family_size_1</th>\n",
       "    </tr>\n",
       "  </thead>\n",
       "  <tbody>\n",
       "    <tr>\n",
       "      <th>0</th>\n",
       "      <td>1</td>\n",
       "      <td>0.0</td>\n",
       "      <td>3</td>\n",
       "      <td>1</td>\n",
       "      <td>22.0</td>\n",
       "      <td>1</td>\n",
       "      <td>0</td>\n",
       "      <td>A/5 21171</td>\n",
       "      <td>7.2500</td>\n",
       "      <td>NaN</td>\n",
       "      <td>S</td>\n",
       "      <td>0</td>\n",
       "      <td>0</td>\n",
       "      <td>1</td>\n",
       "      <td>0</td>\n",
       "      <td>2</td>\n",
       "      <td>0</td>\n",
       "      <td>1</td>\n",
       "    </tr>\n",
       "    <tr>\n",
       "      <th>1</th>\n",
       "      <td>2</td>\n",
       "      <td>1.0</td>\n",
       "      <td>1</td>\n",
       "      <td>0</td>\n",
       "      <td>38.0</td>\n",
       "      <td>1</td>\n",
       "      <td>0</td>\n",
       "      <td>PC 17599</td>\n",
       "      <td>71.2833</td>\n",
       "      <td>C85</td>\n",
       "      <td>C</td>\n",
       "      <td>0</td>\n",
       "      <td>1</td>\n",
       "      <td>0</td>\n",
       "      <td>0</td>\n",
       "      <td>2</td>\n",
       "      <td>0</td>\n",
       "      <td>1</td>\n",
       "    </tr>\n",
       "    <tr>\n",
       "      <th>2</th>\n",
       "      <td>3</td>\n",
       "      <td>1.0</td>\n",
       "      <td>3</td>\n",
       "      <td>0</td>\n",
       "      <td>26.0</td>\n",
       "      <td>0</td>\n",
       "      <td>0</td>\n",
       "      <td>STON/O2. 3101282</td>\n",
       "      <td>7.9250</td>\n",
       "      <td>NaN</td>\n",
       "      <td>S</td>\n",
       "      <td>0</td>\n",
       "      <td>1</td>\n",
       "      <td>0</td>\n",
       "      <td>0</td>\n",
       "      <td>1</td>\n",
       "      <td>0</td>\n",
       "      <td>1</td>\n",
       "    </tr>\n",
       "    <tr>\n",
       "      <th>3</th>\n",
       "      <td>4</td>\n",
       "      <td>1.0</td>\n",
       "      <td>1</td>\n",
       "      <td>0</td>\n",
       "      <td>35.0</td>\n",
       "      <td>1</td>\n",
       "      <td>0</td>\n",
       "      <td>113803</td>\n",
       "      <td>53.1000</td>\n",
       "      <td>C123</td>\n",
       "      <td>S</td>\n",
       "      <td>0</td>\n",
       "      <td>1</td>\n",
       "      <td>0</td>\n",
       "      <td>0</td>\n",
       "      <td>2</td>\n",
       "      <td>0</td>\n",
       "      <td>1</td>\n",
       "    </tr>\n",
       "    <tr>\n",
       "      <th>4</th>\n",
       "      <td>5</td>\n",
       "      <td>0.0</td>\n",
       "      <td>3</td>\n",
       "      <td>1</td>\n",
       "      <td>35.0</td>\n",
       "      <td>0</td>\n",
       "      <td>0</td>\n",
       "      <td>373450</td>\n",
       "      <td>8.0500</td>\n",
       "      <td>NaN</td>\n",
       "      <td>S</td>\n",
       "      <td>0</td>\n",
       "      <td>0</td>\n",
       "      <td>1</td>\n",
       "      <td>0</td>\n",
       "      <td>1</td>\n",
       "      <td>0</td>\n",
       "      <td>1</td>\n",
       "    </tr>\n",
       "  </tbody>\n",
       "</table>\n",
       "</div>"
      ],
      "text/plain": [
       "   PassengerId  Survived  Pclass  Sex   Age  SibSp  Parch            Ticket  \\\n",
       "0            1       0.0       3    1  22.0      1      0         A/5 21171   \n",
       "1            2       1.0       1    0  38.0      1      0          PC 17599   \n",
       "2            3       1.0       3    0  26.0      0      0  STON/O2. 3101282   \n",
       "3            4       1.0       1    0  35.0      1      0            113803   \n",
       "4            5       0.0       3    1  35.0      0      0            373450   \n",
       "\n",
       "      Fare Cabin Embarked  Title_0  Title_1  Title_2  Title_3  Fsize  \\\n",
       "0   7.2500   NaN        S        0        0        1        0      2   \n",
       "1  71.2833   C85        C        0        1        0        0      2   \n",
       "2   7.9250   NaN        S        0        1        0        0      1   \n",
       "3  53.1000  C123        S        0        1        0        0      2   \n",
       "4   8.0500   NaN        S        0        0        1        0      1   \n",
       "\n",
       "   family_size_0  family_size_1  \n",
       "0              0              1  \n",
       "1              0              1  \n",
       "2              0              1  \n",
       "3              0              1  \n",
       "4              0              1  "
      ]
     },
     "execution_count": 67,
     "metadata": {},
     "output_type": "execute_result"
    }
   ],
   "source": [
    "train_df= pd.get_dummies(train_df, columns=[\"family_size\"])\n",
    "train_df.head()"
   ]
  },
  {
   "cell_type": "markdown",
   "id": "81c16bab",
   "metadata": {},
   "source": [
    "<a id = \"25\"></a><br>\n",
    "\n",
    "# Embarked "
   ]
  },
  {
   "cell_type": "code",
   "execution_count": 68,
   "id": "dbffbc87",
   "metadata": {},
   "outputs": [
    {
     "data": {
      "text/plain": [
       "0    S\n",
       "1    C\n",
       "2    S\n",
       "3    S\n",
       "4    S\n",
       "Name: Embarked, dtype: object"
      ]
     },
     "execution_count": 68,
     "metadata": {},
     "output_type": "execute_result"
    }
   ],
   "source": [
    "train_df[\"Embarked\"].head()"
   ]
  },
  {
   "cell_type": "code",
   "execution_count": 69,
   "id": "56fbf386",
   "metadata": {},
   "outputs": [
    {
     "data": {
      "image/png": "[encoded data removed]",
      "text/plain": [
       "<Figure size 640x480 with 1 Axes>"
      ]
     },
     "metadata": {},
     "output_type": "display_data"
    }
   ],
   "source": [
    "sns.countplot(x= \"Embarked\", data= train_df)\n",
    "plt.show()"
   ]
  },
  {
   "cell_type": "code",
   "execution_count": 70,
   "id": "c64d88ac",
   "metadata": {},
   "outputs": [
    {
     "data": {
      "text/html": [
       "<div>\n",
       "<style scoped>\n",
       "    .dataframe tbody tr th:only-of-type {\n",
       "        vertical-align: middle;\n",
       "    }\n",
       "\n",
       "    .dataframe tbody tr th {\n",
       "        vertical-align: top;\n",
       "    }\n",
       "\n",
       "    .dataframe thead th {\n",
       "        text-align: right;\n",
       "    }\n",
       "</style>\n",
       "<table border=\"1\" class=\"dataframe\">\n",
       "  <thead>\n",
       "    <tr style=\"text-align: right;\">\n",
       "      <th></th>\n",
       "      <th>PassengerId</th>\n",
       "      <th>Survived</th>\n",
       "      <th>Pclass</th>\n",
       "      <th>Sex</th>\n",
       "      <th>Age</th>\n",
       "      <th>SibSp</th>\n",
       "      <th>Parch</th>\n",
       "      <th>Ticket</th>\n",
       "      <th>Fare</th>\n",
       "      <th>Cabin</th>\n",
       "      <th>Title_0</th>\n",
       "      <th>Title_1</th>\n",
       "      <th>Title_2</th>\n",
       "      <th>Title_3</th>\n",
       "      <th>Fsize</th>\n",
       "      <th>family_size_0</th>\n",
       "      <th>family_size_1</th>\n",
       "      <th>Embarked_C</th>\n",
       "      <th>Embarked_Q</th>\n",
       "      <th>Embarked_S</th>\n",
       "    </tr>\n",
       "  </thead>\n",
       "  <tbody>\n",
       "    <tr>\n",
       "      <th>0</th>\n",
       "      <td>1</td>\n",
       "      <td>0.0</td>\n",
       "      <td>3</td>\n",
       "      <td>1</td>\n",
       "      <td>22.0</td>\n",
       "      <td>1</td>\n",
       "      <td>0</td>\n",
       "      <td>A/5 21171</td>\n",
       "      <td>7.2500</td>\n",
       "      <td>NaN</td>\n",
       "      <td>0</td>\n",
       "      <td>0</td>\n",
       "      <td>1</td>\n",
       "      <td>0</td>\n",
       "      <td>2</td>\n",
       "      <td>0</td>\n",
       "      <td>1</td>\n",
       "      <td>0</td>\n",
       "      <td>0</td>\n",
       "      <td>1</td>\n",
       "    </tr>\n",
       "    <tr>\n",
       "      <th>1</th>\n",
       "      <td>2</td>\n",
       "      <td>1.0</td>\n",
       "      <td>1</td>\n",
       "      <td>0</td>\n",
       "      <td>38.0</td>\n",
       "      <td>1</td>\n",
       "      <td>0</td>\n",
       "      <td>PC 17599</td>\n",
       "      <td>71.2833</td>\n",
       "      <td>C85</td>\n",
       "      <td>0</td>\n",
       "      <td>1</td>\n",
       "      <td>0</td>\n",
       "      <td>0</td>\n",
       "      <td>2</td>\n",
       "      <td>0</td>\n",
       "      <td>1</td>\n",
       "      <td>1</td>\n",
       "      <td>0</td>\n",
       "      <td>0</td>\n",
       "    </tr>\n",
       "    <tr>\n",
       "      <th>2</th>\n",
       "      <td>3</td>\n",
       "      <td>1.0</td>\n",
       "      <td>3</td>\n",
       "      <td>0</td>\n",
       "      <td>26.0</td>\n",
       "      <td>0</td>\n",
       "      <td>0</td>\n",
       "      <td>STON/O2. 3101282</td>\n",
       "      <td>7.9250</td>\n",
       "      <td>NaN</td>\n",
       "      <td>0</td>\n",
       "      <td>1</td>\n",
       "      <td>0</td>\n",
       "      <td>0</td>\n",
       "      <td>1</td>\n",
       "      <td>0</td>\n",
       "      <td>1</td>\n",
       "      <td>0</td>\n",
       "      <td>0</td>\n",
       "      <td>1</td>\n",
       "    </tr>\n",
       "    <tr>\n",
       "      <th>3</th>\n",
       "      <td>4</td>\n",
       "      <td>1.0</td>\n",
       "      <td>1</td>\n",
       "      <td>0</td>\n",
       "      <td>35.0</td>\n",
       "      <td>1</td>\n",
       "      <td>0</td>\n",
       "      <td>113803</td>\n",
       "      <td>53.1000</td>\n",
       "      <td>C123</td>\n",
       "      <td>0</td>\n",
       "      <td>1</td>\n",
       "      <td>0</td>\n",
       "      <td>0</td>\n",
       "      <td>2</td>\n",
       "      <td>0</td>\n",
       "      <td>1</td>\n",
       "      <td>0</td>\n",
       "      <td>0</td>\n",
       "      <td>1</td>\n",
       "    </tr>\n",
       "    <tr>\n",
       "      <th>4</th>\n",
       "      <td>5</td>\n",
       "      <td>0.0</td>\n",
       "      <td>3</td>\n",
       "      <td>1</td>\n",
       "      <td>35.0</td>\n",
       "      <td>0</td>\n",
       "      <td>0</td>\n",
       "      <td>373450</td>\n",
       "      <td>8.0500</td>\n",
       "      <td>NaN</td>\n",
       "      <td>0</td>\n",
       "      <td>0</td>\n",
       "      <td>1</td>\n",
       "      <td>0</td>\n",
       "      <td>1</td>\n",
       "      <td>0</td>\n",
       "      <td>1</td>\n",
       "      <td>0</td>\n",
       "      <td>0</td>\n",
       "      <td>1</td>\n",
       "    </tr>\n",
       "  </tbody>\n",
       "</table>\n",
       "</div>"
      ],
      "text/plain": [
       "   PassengerId  Survived  Pclass  Sex   Age  SibSp  Parch            Ticket  \\\n",
       "0            1       0.0       3    1  22.0      1      0         A/5 21171   \n",
       "1            2       1.0       1    0  38.0      1      0          PC 17599   \n",
       "2            3       1.0       3    0  26.0      0      0  STON/O2. 3101282   \n",
       "3            4       1.0       1    0  35.0      1      0            113803   \n",
       "4            5       0.0       3    1  35.0      0      0            373450   \n",
       "\n",
       "      Fare Cabin  Title_0  Title_1  Title_2  Title_3  Fsize  family_size_0  \\\n",
       "0   7.2500   NaN        0        0        1        0      2              0   \n",
       "1  71.2833   C85        0        1        0        0      2              0   \n",
       "2   7.9250   NaN        0        1        0        0      1              0   \n",
       "3  53.1000  C123        0        1        0        0      2              0   \n",
       "4   8.0500   NaN        0        0        1        0      1              0   \n",
       "\n",
       "   family_size_1  Embarked_C  Embarked_Q  Embarked_S  \n",
       "0              1           0           0           1  \n",
       "1              1           1           0           0  \n",
       "2              1           0           0           1  \n",
       "3              1           0           0           1  \n",
       "4              1           0           0           1  "
      ]
     },
     "execution_count": 70,
     "metadata": {},
     "output_type": "execute_result"
    }
   ],
   "source": [
    "train_df= pd.get_dummies(train_df, columns=[\"Embarked\"])\n",
    "train_df.head()"
   ]
  },
  {
   "cell_type": "markdown",
   "id": "f18ba6b7",
   "metadata": {},
   "source": [
    "<a id = \"26\"></a><br>\n",
    "\n",
    "# Ticket "
   ]
  },
  {
   "cell_type": "code",
   "execution_count": 71,
   "id": "63cecaec",
   "metadata": {},
   "outputs": [],
   "source": [
    "tickets= []\n",
    "for i in list(train_df.Ticket):\n",
    "    if not i.isdigit():\n",
    "        tickets.append(i.replace(\".\",\"\").replace(\"/\",\"\").strip().split(\" \")[0])\n",
    "    else:\n",
    "        tickets.append(\"x\")\n",
    "train_df[\"Ticket\"]= tickets    "
   ]
  },
  {
   "cell_type": "code",
   "execution_count": 72,
   "id": "68f75f08",
   "metadata": {},
   "outputs": [
    {
     "data": {
      "text/plain": [
       "0        A5\n",
       "1        PC\n",
       "2    STONO2\n",
       "3         x\n",
       "4         x\n",
       "Name: Ticket, dtype: object"
      ]
     },
     "execution_count": 72,
     "metadata": {},
     "output_type": "execute_result"
    }
   ],
   "source": [
    "train_df[\"Ticket\"].head()"
   ]
  },
  {
   "cell_type": "code",
   "execution_count": 73,
   "id": "51e4d554",
   "metadata": {},
   "outputs": [
    {
     "data": {
      "text/html": [
       "<div>\n",
       "<style scoped>\n",
       "    .dataframe tbody tr th:only-of-type {\n",
       "        vertical-align: middle;\n",
       "    }\n",
       "\n",
       "    .dataframe tbody tr th {\n",
       "        vertical-align: top;\n",
       "    }\n",
       "\n",
       "    .dataframe thead th {\n",
       "        text-align: right;\n",
       "    }\n",
       "</style>\n",
       "<table border=\"1\" class=\"dataframe\">\n",
       "  <thead>\n",
       "    <tr style=\"text-align: right;\">\n",
       "      <th></th>\n",
       "      <th>PassengerId</th>\n",
       "      <th>Survived</th>\n",
       "      <th>Pclass</th>\n",
       "      <th>Sex</th>\n",
       "      <th>Age</th>\n",
       "      <th>SibSp</th>\n",
       "      <th>Parch</th>\n",
       "      <th>Fare</th>\n",
       "      <th>Cabin</th>\n",
       "      <th>Title_0</th>\n",
       "      <th>...</th>\n",
       "      <th>T_SOTONO2</th>\n",
       "      <th>T_SOTONOQ</th>\n",
       "      <th>T_SP</th>\n",
       "      <th>T_STONO</th>\n",
       "      <th>T_STONO2</th>\n",
       "      <th>T_STONOQ</th>\n",
       "      <th>T_SWPP</th>\n",
       "      <th>T_WC</th>\n",
       "      <th>T_WEP</th>\n",
       "      <th>T_x</th>\n",
       "    </tr>\n",
       "  </thead>\n",
       "  <tbody>\n",
       "    <tr>\n",
       "      <th>0</th>\n",
       "      <td>1</td>\n",
       "      <td>0.0</td>\n",
       "      <td>3</td>\n",
       "      <td>1</td>\n",
       "      <td>22.0</td>\n",
       "      <td>1</td>\n",
       "      <td>0</td>\n",
       "      <td>7.2500</td>\n",
       "      <td>NaN</td>\n",
       "      <td>0</td>\n",
       "      <td>...</td>\n",
       "      <td>0</td>\n",
       "      <td>0</td>\n",
       "      <td>0</td>\n",
       "      <td>0</td>\n",
       "      <td>0</td>\n",
       "      <td>0</td>\n",
       "      <td>0</td>\n",
       "      <td>0</td>\n",
       "      <td>0</td>\n",
       "      <td>0</td>\n",
       "    </tr>\n",
       "    <tr>\n",
       "      <th>1</th>\n",
       "      <td>2</td>\n",
       "      <td>1.0</td>\n",
       "      <td>1</td>\n",
       "      <td>0</td>\n",
       "      <td>38.0</td>\n",
       "      <td>1</td>\n",
       "      <td>0</td>\n",
       "      <td>71.2833</td>\n",
       "      <td>C85</td>\n",
       "      <td>0</td>\n",
       "      <td>...</td>\n",
       "      <td>0</td>\n",
       "      <td>0</td>\n",
       "      <td>0</td>\n",
       "      <td>0</td>\n",
       "      <td>0</td>\n",
       "      <td>0</td>\n",
       "      <td>0</td>\n",
       "      <td>0</td>\n",
       "      <td>0</td>\n",
       "      <td>0</td>\n",
       "    </tr>\n",
       "    <tr>\n",
       "      <th>2</th>\n",
       "      <td>3</td>\n",
       "      <td>1.0</td>\n",
       "      <td>3</td>\n",
       "      <td>0</td>\n",
       "      <td>26.0</td>\n",
       "      <td>0</td>\n",
       "      <td>0</td>\n",
       "      <td>7.9250</td>\n",
       "      <td>NaN</td>\n",
       "      <td>0</td>\n",
       "      <td>...</td>\n",
       "      <td>0</td>\n",
       "      <td>0</td>\n",
       "      <td>0</td>\n",
       "      <td>0</td>\n",
       "      <td>1</td>\n",
       "      <td>0</td>\n",
       "      <td>0</td>\n",
       "      <td>0</td>\n",
       "      <td>0</td>\n",
       "      <td>0</td>\n",
       "    </tr>\n",
       "    <tr>\n",
       "      <th>3</th>\n",
       "      <td>4</td>\n",
       "      <td>1.0</td>\n",
       "      <td>1</td>\n",
       "      <td>0</td>\n",
       "      <td>35.0</td>\n",
       "      <td>1</td>\n",
       "      <td>0</td>\n",
       "      <td>53.1000</td>\n",
       "      <td>C123</td>\n",
       "      <td>0</td>\n",
       "      <td>...</td>\n",
       "      <td>0</td>\n",
       "      <td>0</td>\n",
       "      <td>0</td>\n",
       "      <td>0</td>\n",
       "      <td>0</td>\n",
       "      <td>0</td>\n",
       "      <td>0</td>\n",
       "      <td>0</td>\n",
       "      <td>0</td>\n",
       "      <td>1</td>\n",
       "    </tr>\n",
       "    <tr>\n",
       "      <th>4</th>\n",
       "      <td>5</td>\n",
       "      <td>0.0</td>\n",
       "      <td>3</td>\n",
       "      <td>1</td>\n",
       "      <td>35.0</td>\n",
       "      <td>0</td>\n",
       "      <td>0</td>\n",
       "      <td>8.0500</td>\n",
       "      <td>NaN</td>\n",
       "      <td>0</td>\n",
       "      <td>...</td>\n",
       "      <td>0</td>\n",
       "      <td>0</td>\n",
       "      <td>0</td>\n",
       "      <td>0</td>\n",
       "      <td>0</td>\n",
       "      <td>0</td>\n",
       "      <td>0</td>\n",
       "      <td>0</td>\n",
       "      <td>0</td>\n",
       "      <td>1</td>\n",
       "    </tr>\n",
       "  </tbody>\n",
       "</table>\n",
       "<p>5 rows × 56 columns</p>\n",
       "</div>"
      ],
      "text/plain": [
       "   PassengerId  Survived  Pclass  Sex   Age  SibSp  Parch     Fare Cabin  \\\n",
       "0            1       0.0       3    1  22.0      1      0   7.2500   NaN   \n",
       "1            2       1.0       1    0  38.0      1      0  71.2833   C85   \n",
       "2            3       1.0       3    0  26.0      0      0   7.9250   NaN   \n",
       "3            4       1.0       1    0  35.0      1      0  53.1000  C123   \n",
       "4            5       0.0       3    1  35.0      0      0   8.0500   NaN   \n",
       "\n",
       "   Title_0  ...  T_SOTONO2  T_SOTONOQ  T_SP  T_STONO  T_STONO2  T_STONOQ  \\\n",
       "0        0  ...          0          0     0        0         0         0   \n",
       "1        0  ...          0          0     0        0         0         0   \n",
       "2        0  ...          0          0     0        0         1         0   \n",
       "3        0  ...          0          0     0        0         0         0   \n",
       "4        0  ...          0          0     0        0         0         0   \n",
       "\n",
       "   T_SWPP  T_WC  T_WEP  T_x  \n",
       "0       0     0      0    0  \n",
       "1       0     0      0    0  \n",
       "2       0     0      0    0  \n",
       "3       0     0      0    1  \n",
       "4       0     0      0    1  \n",
       "\n",
       "[5 rows x 56 columns]"
      ]
     },
     "execution_count": 73,
     "metadata": {},
     "output_type": "execute_result"
    }
   ],
   "source": [
    "train_df= pd.get_dummies(train_df, columns=[\"Ticket\"], prefix= \"T\")\n",
    "train_df.head()"
   ]
  },
  {
   "cell_type": "markdown",
   "id": "e290454c",
   "metadata": {},
   "source": [
    "<a id = \"27\"></a><br>\n",
    "\n",
    "# Pclass "
   ]
  },
  {
   "cell_type": "code",
   "execution_count": 74,
   "id": "99903130",
   "metadata": {},
   "outputs": [
    {
     "data": {
      "image/png": "[encoded data removed]",
      "text/plain": [
       "<Figure size 640x480 with 1 Axes>"
      ]
     },
     "metadata": {},
     "output_type": "display_data"
    }
   ],
   "source": [
    "sns.countplot(x= \"Pclass\", data= train_df)\n",
    "plt.show()"
   ]
  },
  {
   "cell_type": "code",
   "execution_count": 75,
   "id": "a41ad7ac",
   "metadata": {},
   "outputs": [
    {
     "data": {
      "text/html": [
       "<div>\n",
       "<style scoped>\n",
       "    .dataframe tbody tr th:only-of-type {\n",
       "        vertical-align: middle;\n",
       "    }\n",
       "\n",
       "    .dataframe tbody tr th {\n",
       "        vertical-align: top;\n",
       "    }\n",
       "\n",
       "    .dataframe thead th {\n",
       "        text-align: right;\n",
       "    }\n",
       "</style>\n",
       "<table border=\"1\" class=\"dataframe\">\n",
       "  <thead>\n",
       "    <tr style=\"text-align: right;\">\n",
       "      <th></th>\n",
       "      <th>PassengerId</th>\n",
       "      <th>Survived</th>\n",
       "      <th>Sex</th>\n",
       "      <th>Age</th>\n",
       "      <th>SibSp</th>\n",
       "      <th>Parch</th>\n",
       "      <th>Fare</th>\n",
       "      <th>Cabin</th>\n",
       "      <th>Title_0</th>\n",
       "      <th>Title_1</th>\n",
       "      <th>...</th>\n",
       "      <th>T_STONO</th>\n",
       "      <th>T_STONO2</th>\n",
       "      <th>T_STONOQ</th>\n",
       "      <th>T_SWPP</th>\n",
       "      <th>T_WC</th>\n",
       "      <th>T_WEP</th>\n",
       "      <th>T_x</th>\n",
       "      <th>Pclass_1</th>\n",
       "      <th>Pclass_2</th>\n",
       "      <th>Pclass_3</th>\n",
       "    </tr>\n",
       "  </thead>\n",
       "  <tbody>\n",
       "    <tr>\n",
       "      <th>0</th>\n",
       "      <td>1</td>\n",
       "      <td>0.0</td>\n",
       "      <td>1</td>\n",
       "      <td>22.0</td>\n",
       "      <td>1</td>\n",
       "      <td>0</td>\n",
       "      <td>7.2500</td>\n",
       "      <td>NaN</td>\n",
       "      <td>0</td>\n",
       "      <td>0</td>\n",
       "      <td>...</td>\n",
       "      <td>0</td>\n",
       "      <td>0</td>\n",
       "      <td>0</td>\n",
       "      <td>0</td>\n",
       "      <td>0</td>\n",
       "      <td>0</td>\n",
       "      <td>0</td>\n",
       "      <td>0</td>\n",
       "      <td>0</td>\n",
       "      <td>1</td>\n",
       "    </tr>\n",
       "    <tr>\n",
       "      <th>1</th>\n",
       "      <td>2</td>\n",
       "      <td>1.0</td>\n",
       "      <td>0</td>\n",
       "      <td>38.0</td>\n",
       "      <td>1</td>\n",
       "      <td>0</td>\n",
       "      <td>71.2833</td>\n",
       "      <td>C85</td>\n",
       "      <td>0</td>\n",
       "      <td>1</td>\n",
       "      <td>...</td>\n",
       "      <td>0</td>\n",
       "      <td>0</td>\n",
       "      <td>0</td>\n",
       "      <td>0</td>\n",
       "      <td>0</td>\n",
       "      <td>0</td>\n",
       "      <td>0</td>\n",
       "      <td>1</td>\n",
       "      <td>0</td>\n",
       "      <td>0</td>\n",
       "    </tr>\n",
       "    <tr>\n",
       "      <th>2</th>\n",
       "      <td>3</td>\n",
       "      <td>1.0</td>\n",
       "      <td>0</td>\n",
       "      <td>26.0</td>\n",
       "      <td>0</td>\n",
       "      <td>0</td>\n",
       "      <td>7.9250</td>\n",
       "      <td>NaN</td>\n",
       "      <td>0</td>\n",
       "      <td>1</td>\n",
       "      <td>...</td>\n",
       "      <td>0</td>\n",
       "      <td>1</td>\n",
       "      <td>0</td>\n",
       "      <td>0</td>\n",
       "      <td>0</td>\n",
       "      <td>0</td>\n",
       "      <td>0</td>\n",
       "      <td>0</td>\n",
       "      <td>0</td>\n",
       "      <td>1</td>\n",
       "    </tr>\n",
       "    <tr>\n",
       "      <th>3</th>\n",
       "      <td>4</td>\n",
       "      <td>1.0</td>\n",
       "      <td>0</td>\n",
       "      <td>35.0</td>\n",
       "      <td>1</td>\n",
       "      <td>0</td>\n",
       "      <td>53.1000</td>\n",
       "      <td>C123</td>\n",
       "      <td>0</td>\n",
       "      <td>1</td>\n",
       "      <td>...</td>\n",
       "      <td>0</td>\n",
       "      <td>0</td>\n",
       "      <td>0</td>\n",
       "      <td>0</td>\n",
       "      <td>0</td>\n",
       "      <td>0</td>\n",
       "      <td>1</td>\n",
       "      <td>1</td>\n",
       "      <td>0</td>\n",
       "      <td>0</td>\n",
       "    </tr>\n",
       "    <tr>\n",
       "      <th>4</th>\n",
       "      <td>5</td>\n",
       "      <td>0.0</td>\n",
       "      <td>1</td>\n",
       "      <td>35.0</td>\n",
       "      <td>0</td>\n",
       "      <td>0</td>\n",
       "      <td>8.0500</td>\n",
       "      <td>NaN</td>\n",
       "      <td>0</td>\n",
       "      <td>0</td>\n",
       "      <td>...</td>\n",
       "      <td>0</td>\n",
       "      <td>0</td>\n",
       "      <td>0</td>\n",
       "      <td>0</td>\n",
       "      <td>0</td>\n",
       "      <td>0</td>\n",
       "      <td>1</td>\n",
       "      <td>0</td>\n",
       "      <td>0</td>\n",
       "      <td>1</td>\n",
       "    </tr>\n",
       "  </tbody>\n",
       "</table>\n",
       "<p>5 rows × 58 columns</p>\n",
       "</div>"
      ],
      "text/plain": [
       "   PassengerId  Survived  Sex   Age  SibSp  Parch     Fare Cabin  Title_0  \\\n",
       "0            1       0.0    1  22.0      1      0   7.2500   NaN        0   \n",
       "1            2       1.0    0  38.0      1      0  71.2833   C85        0   \n",
       "2            3       1.0    0  26.0      0      0   7.9250   NaN        0   \n",
       "3            4       1.0    0  35.0      1      0  53.1000  C123        0   \n",
       "4            5       0.0    1  35.0      0      0   8.0500   NaN        0   \n",
       "\n",
       "   Title_1  ...  T_STONO  T_STONO2  T_STONOQ  T_SWPP  T_WC  T_WEP  T_x  \\\n",
       "0        0  ...        0         0         0       0     0      0    0   \n",
       "1        1  ...        0         0         0       0     0      0    0   \n",
       "2        1  ...        0         1         0       0     0      0    0   \n",
       "3        1  ...        0         0         0       0     0      0    1   \n",
       "4        0  ...        0         0         0       0     0      0    1   \n",
       "\n",
       "   Pclass_1  Pclass_2  Pclass_3  \n",
       "0         0         0         1  \n",
       "1         1         0         0  \n",
       "2         0         0         1  \n",
       "3         1         0         0  \n",
       "4         0         0         1  \n",
       "\n",
       "[5 rows x 58 columns]"
      ]
     },
     "execution_count": 75,
     "metadata": {},
     "output_type": "execute_result"
    }
   ],
   "source": [
    "train_df[\"Pclass\"] = train_df[\"Pclass\"].astype(\"category\")\n",
    "train_df= pd.get_dummies(train_df, columns=[\"Pclass\"])\n",
    "train_df.head()"
   ]
  },
  {
   "cell_type": "markdown",
   "id": "ccde806f",
   "metadata": {},
   "source": [
    "<a id = \"28\"></a><br>\n",
    "\n",
    "# Sex "
   ]
  },
  {
   "cell_type": "code",
   "execution_count": 76,
   "id": "8f99ac14",
   "metadata": {},
   "outputs": [
    {
     "data": {
      "text/html": [
       "<div>\n",
       "<style scoped>\n",
       "    .dataframe tbody tr th:only-of-type {\n",
       "        vertical-align: middle;\n",
       "    }\n",
       "\n",
       "    .dataframe tbody tr th {\n",
       "        vertical-align: top;\n",
       "    }\n",
       "\n",
       "    .dataframe thead th {\n",
       "        text-align: right;\n",
       "    }\n",
       "</style>\n",
       "<table border=\"1\" class=\"dataframe\">\n",
       "  <thead>\n",
       "    <tr style=\"text-align: right;\">\n",
       "      <th></th>\n",
       "      <th>PassengerId</th>\n",
       "      <th>Survived</th>\n",
       "      <th>Age</th>\n",
       "      <th>SibSp</th>\n",
       "      <th>Parch</th>\n",
       "      <th>Fare</th>\n",
       "      <th>Cabin</th>\n",
       "      <th>Title_0</th>\n",
       "      <th>Title_1</th>\n",
       "      <th>Title_2</th>\n",
       "      <th>...</th>\n",
       "      <th>T_STONOQ</th>\n",
       "      <th>T_SWPP</th>\n",
       "      <th>T_WC</th>\n",
       "      <th>T_WEP</th>\n",
       "      <th>T_x</th>\n",
       "      <th>Pclass_1</th>\n",
       "      <th>Pclass_2</th>\n",
       "      <th>Pclass_3</th>\n",
       "      <th>Sex_0</th>\n",
       "      <th>Sex_1</th>\n",
       "    </tr>\n",
       "  </thead>\n",
       "  <tbody>\n",
       "    <tr>\n",
       "      <th>0</th>\n",
       "      <td>1</td>\n",
       "      <td>0.0</td>\n",
       "      <td>22.0</td>\n",
       "      <td>1</td>\n",
       "      <td>0</td>\n",
       "      <td>7.2500</td>\n",
       "      <td>NaN</td>\n",
       "      <td>0</td>\n",
       "      <td>0</td>\n",
       "      <td>1</td>\n",
       "      <td>...</td>\n",
       "      <td>0</td>\n",
       "      <td>0</td>\n",
       "      <td>0</td>\n",
       "      <td>0</td>\n",
       "      <td>0</td>\n",
       "      <td>0</td>\n",
       "      <td>0</td>\n",
       "      <td>1</td>\n",
       "      <td>0</td>\n",
       "      <td>1</td>\n",
       "    </tr>\n",
       "    <tr>\n",
       "      <th>1</th>\n",
       "      <td>2</td>\n",
       "      <td>1.0</td>\n",
       "      <td>38.0</td>\n",
       "      <td>1</td>\n",
       "      <td>0</td>\n",
       "      <td>71.2833</td>\n",
       "      <td>C85</td>\n",
       "      <td>0</td>\n",
       "      <td>1</td>\n",
       "      <td>0</td>\n",
       "      <td>...</td>\n",
       "      <td>0</td>\n",
       "      <td>0</td>\n",
       "      <td>0</td>\n",
       "      <td>0</td>\n",
       "      <td>0</td>\n",
       "      <td>1</td>\n",
       "      <td>0</td>\n",
       "      <td>0</td>\n",
       "      <td>1</td>\n",
       "      <td>0</td>\n",
       "    </tr>\n",
       "    <tr>\n",
       "      <th>2</th>\n",
       "      <td>3</td>\n",
       "      <td>1.0</td>\n",
       "      <td>26.0</td>\n",
       "      <td>0</td>\n",
       "      <td>0</td>\n",
       "      <td>7.9250</td>\n",
       "      <td>NaN</td>\n",
       "      <td>0</td>\n",
       "      <td>1</td>\n",
       "      <td>0</td>\n",
       "      <td>...</td>\n",
       "      <td>0</td>\n",
       "      <td>0</td>\n",
       "      <td>0</td>\n",
       "      <td>0</td>\n",
       "      <td>0</td>\n",
       "      <td>0</td>\n",
       "      <td>0</td>\n",
       "      <td>1</td>\n",
       "      <td>1</td>\n",
       "      <td>0</td>\n",
       "    </tr>\n",
       "    <tr>\n",
       "      <th>3</th>\n",
       "      <td>4</td>\n",
       "      <td>1.0</td>\n",
       "      <td>35.0</td>\n",
       "      <td>1</td>\n",
       "      <td>0</td>\n",
       "      <td>53.1000</td>\n",
       "      <td>C123</td>\n",
       "      <td>0</td>\n",
       "      <td>1</td>\n",
       "      <td>0</td>\n",
       "      <td>...</td>\n",
       "      <td>0</td>\n",
       "      <td>0</td>\n",
       "      <td>0</td>\n",
       "      <td>0</td>\n",
       "      <td>1</td>\n",
       "      <td>1</td>\n",
       "      <td>0</td>\n",
       "      <td>0</td>\n",
       "      <td>1</td>\n",
       "      <td>0</td>\n",
       "    </tr>\n",
       "    <tr>\n",
       "      <th>4</th>\n",
       "      <td>5</td>\n",
       "      <td>0.0</td>\n",
       "      <td>35.0</td>\n",
       "      <td>0</td>\n",
       "      <td>0</td>\n",
       "      <td>8.0500</td>\n",
       "      <td>NaN</td>\n",
       "      <td>0</td>\n",
       "      <td>0</td>\n",
       "      <td>1</td>\n",
       "      <td>...</td>\n",
       "      <td>0</td>\n",
       "      <td>0</td>\n",
       "      <td>0</td>\n",
       "      <td>0</td>\n",
       "      <td>1</td>\n",
       "      <td>0</td>\n",
       "      <td>0</td>\n",
       "      <td>1</td>\n",
       "      <td>0</td>\n",
       "      <td>1</td>\n",
       "    </tr>\n",
       "  </tbody>\n",
       "</table>\n",
       "<p>5 rows × 59 columns</p>\n",
       "</div>"
      ],
      "text/plain": [
       "   PassengerId  Survived   Age  SibSp  Parch     Fare Cabin  Title_0  Title_1  \\\n",
       "0            1       0.0  22.0      1      0   7.2500   NaN        0        0   \n",
       "1            2       1.0  38.0      1      0  71.2833   C85        0        1   \n",
       "2            3       1.0  26.0      0      0   7.9250   NaN        0        1   \n",
       "3            4       1.0  35.0      1      0  53.1000  C123        0        1   \n",
       "4            5       0.0  35.0      0      0   8.0500   NaN        0        0   \n",
       "\n",
       "   Title_2  ...  T_STONOQ  T_SWPP  T_WC  T_WEP  T_x  Pclass_1  Pclass_2  \\\n",
       "0        1  ...         0       0     0      0    0         0         0   \n",
       "1        0  ...         0       0     0      0    0         1         0   \n",
       "2        0  ...         0       0     0      0    0         0         0   \n",
       "3        0  ...         0       0     0      0    1         1         0   \n",
       "4        1  ...         0       0     0      0    1         0         0   \n",
       "\n",
       "   Pclass_3  Sex_0  Sex_1  \n",
       "0         1      0      1  \n",
       "1         0      1      0  \n",
       "2         1      1      0  \n",
       "3         0      1      0  \n",
       "4         1      0      1  \n",
       "\n",
       "[5 rows x 59 columns]"
      ]
     },
     "execution_count": 76,
     "metadata": {},
     "output_type": "execute_result"
    }
   ],
   "source": [
    "train_df[\"Sex\"]= train_df[\"Sex\"].astype(\"category\")\n",
    "train_df= pd.get_dummies(train_df, columns=[\"Sex\"])\n",
    "train_df.head()"
   ]
  },
  {
   "cell_type": "markdown",
   "id": "de8aeac4",
   "metadata": {},
   "source": [
    "<a id = \"29\"></a><br>\n",
    "\n",
    "# Drop PassengerId and Cabin"
   ]
  },
  {
   "cell_type": "code",
   "execution_count": 77,
   "id": "1fdd5f70",
   "metadata": {},
   "outputs": [
    {
     "data": {
      "text/html": [
       "<div>\n",
       "<style scoped>\n",
       "    .dataframe tbody tr th:only-of-type {\n",
       "        vertical-align: middle;\n",
       "    }\n",
       "\n",
       "    .dataframe tbody tr th {\n",
       "        vertical-align: top;\n",
       "    }\n",
       "\n",
       "    .dataframe thead th {\n",
       "        text-align: right;\n",
       "    }\n",
       "</style>\n",
       "<table border=\"1\" class=\"dataframe\">\n",
       "  <thead>\n",
       "    <tr style=\"text-align: right;\">\n",
       "      <th></th>\n",
       "      <th>Survived</th>\n",
       "      <th>Age</th>\n",
       "      <th>SibSp</th>\n",
       "      <th>Parch</th>\n",
       "      <th>Fare</th>\n",
       "      <th>Title_0</th>\n",
       "      <th>Title_1</th>\n",
       "      <th>Title_2</th>\n",
       "      <th>Title_3</th>\n",
       "      <th>Fsize</th>\n",
       "      <th>...</th>\n",
       "      <th>T_STONOQ</th>\n",
       "      <th>T_SWPP</th>\n",
       "      <th>T_WC</th>\n",
       "      <th>T_WEP</th>\n",
       "      <th>T_x</th>\n",
       "      <th>Pclass_1</th>\n",
       "      <th>Pclass_2</th>\n",
       "      <th>Pclass_3</th>\n",
       "      <th>Sex_0</th>\n",
       "      <th>Sex_1</th>\n",
       "    </tr>\n",
       "  </thead>\n",
       "  <tbody>\n",
       "    <tr>\n",
       "      <th>0</th>\n",
       "      <td>0.0</td>\n",
       "      <td>22.0</td>\n",
       "      <td>1</td>\n",
       "      <td>0</td>\n",
       "      <td>7.2500</td>\n",
       "      <td>0</td>\n",
       "      <td>0</td>\n",
       "      <td>1</td>\n",
       "      <td>0</td>\n",
       "      <td>2</td>\n",
       "      <td>...</td>\n",
       "      <td>0</td>\n",
       "      <td>0</td>\n",
       "      <td>0</td>\n",
       "      <td>0</td>\n",
       "      <td>0</td>\n",
       "      <td>0</td>\n",
       "      <td>0</td>\n",
       "      <td>1</td>\n",
       "      <td>0</td>\n",
       "      <td>1</td>\n",
       "    </tr>\n",
       "    <tr>\n",
       "      <th>1</th>\n",
       "      <td>1.0</td>\n",
       "      <td>38.0</td>\n",
       "      <td>1</td>\n",
       "      <td>0</td>\n",
       "      <td>71.2833</td>\n",
       "      <td>0</td>\n",
       "      <td>1</td>\n",
       "      <td>0</td>\n",
       "      <td>0</td>\n",
       "      <td>2</td>\n",
       "      <td>...</td>\n",
       "      <td>0</td>\n",
       "      <td>0</td>\n",
       "      <td>0</td>\n",
       "      <td>0</td>\n",
       "      <td>0</td>\n",
       "      <td>1</td>\n",
       "      <td>0</td>\n",
       "      <td>0</td>\n",
       "      <td>1</td>\n",
       "      <td>0</td>\n",
       "    </tr>\n",
       "    <tr>\n",
       "      <th>2</th>\n",
       "      <td>1.0</td>\n",
       "      <td>26.0</td>\n",
       "      <td>0</td>\n",
       "      <td>0</td>\n",
       "      <td>7.9250</td>\n",
       "      <td>0</td>\n",
       "      <td>1</td>\n",
       "      <td>0</td>\n",
       "      <td>0</td>\n",
       "      <td>1</td>\n",
       "      <td>...</td>\n",
       "      <td>0</td>\n",
       "      <td>0</td>\n",
       "      <td>0</td>\n",
       "      <td>0</td>\n",
       "      <td>0</td>\n",
       "      <td>0</td>\n",
       "      <td>0</td>\n",
       "      <td>1</td>\n",
       "      <td>1</td>\n",
       "      <td>0</td>\n",
       "    </tr>\n",
       "    <tr>\n",
       "      <th>3</th>\n",
       "      <td>1.0</td>\n",
       "      <td>35.0</td>\n",
       "      <td>1</td>\n",
       "      <td>0</td>\n",
       "      <td>53.1000</td>\n",
       "      <td>0</td>\n",
       "      <td>1</td>\n",
       "      <td>0</td>\n",
       "      <td>0</td>\n",
       "      <td>2</td>\n",
       "      <td>...</td>\n",
       "      <td>0</td>\n",
       "      <td>0</td>\n",
       "      <td>0</td>\n",
       "      <td>0</td>\n",
       "      <td>1</td>\n",
       "      <td>1</td>\n",
       "      <td>0</td>\n",
       "      <td>0</td>\n",
       "      <td>1</td>\n",
       "      <td>0</td>\n",
       "    </tr>\n",
       "    <tr>\n",
       "      <th>4</th>\n",
       "      <td>0.0</td>\n",
       "      <td>35.0</td>\n",
       "      <td>0</td>\n",
       "      <td>0</td>\n",
       "      <td>8.0500</td>\n",
       "      <td>0</td>\n",
       "      <td>0</td>\n",
       "      <td>1</td>\n",
       "      <td>0</td>\n",
       "      <td>1</td>\n",
       "      <td>...</td>\n",
       "      <td>0</td>\n",
       "      <td>0</td>\n",
       "      <td>0</td>\n",
       "      <td>0</td>\n",
       "      <td>1</td>\n",
       "      <td>0</td>\n",
       "      <td>0</td>\n",
       "      <td>1</td>\n",
       "      <td>0</td>\n",
       "      <td>1</td>\n",
       "    </tr>\n",
       "  </tbody>\n",
       "</table>\n",
       "<p>5 rows × 57 columns</p>\n",
       "</div>"
      ],
      "text/plain": [
       "   Survived   Age  SibSp  Parch     Fare  Title_0  Title_1  Title_2  Title_3  \\\n",
       "0       0.0  22.0      1      0   7.2500        0        0        1        0   \n",
       "1       1.0  38.0      1      0  71.2833        0        1        0        0   \n",
       "2       1.0  26.0      0      0   7.9250        0        1        0        0   \n",
       "3       1.0  35.0      1      0  53.1000        0        1        0        0   \n",
       "4       0.0  35.0      0      0   8.0500        0        0        1        0   \n",
       "\n",
       "   Fsize  ...  T_STONOQ  T_SWPP  T_WC  T_WEP  T_x  Pclass_1  Pclass_2  \\\n",
       "0      2  ...         0       0     0      0    0         0         0   \n",
       "1      2  ...         0       0     0      0    0         1         0   \n",
       "2      1  ...         0       0     0      0    0         0         0   \n",
       "3      2  ...         0       0     0      0    1         1         0   \n",
       "4      1  ...         0       0     0      0    1         0         0   \n",
       "\n",
       "   Pclass_3  Sex_0  Sex_1  \n",
       "0         1      0      1  \n",
       "1         0      1      0  \n",
       "2         1      1      0  \n",
       "3         0      1      0  \n",
       "4         1      0      1  \n",
       "\n",
       "[5 rows x 57 columns]"
      ]
     },
     "execution_count": 77,
     "metadata": {},
     "output_type": "execute_result"
    }
   ],
   "source": [
    "train_df.drop(labels= [\"PassengerId\", \"Cabin\"], axis=1, inplace=True)\n",
    "train_df.head()"
   ]
  },
  {
   "cell_type": "markdown",
   "id": "64ab7a4e",
   "metadata": {},
   "source": [
    "<a id = \"30\"></a><br>\n",
    "\n",
    "# Modeling"
   ]
  },
  {
   "cell_type": "code",
   "execution_count": 78,
   "id": "31c8b4f1",
   "metadata": {},
   "outputs": [],
   "source": [
    "from sklearn.model_selection import train_test_split, StratifiedKFold, GridSearchCV\n",
    "from sklearn.linear_model import LogisticRegression\n",
    "from sklearn.svm import SVC\n",
    "from sklearn.ensemble import RandomForestClassifier, VotingClassifier\n",
    "from sklearn.neighbors import KNeighborsClassifier\n",
    "from sklearn.tree import DecisionTreeClassifier\n",
    "from sklearn.metrics import accuracy_score"
   ]
  },
  {
   "cell_type": "markdown",
   "id": "93c50000",
   "metadata": {},
   "source": [
    "<a id = \"31\"></a><br>\n",
    "\n",
    "#  Train Test Split"
   ]
  },
  {
   "cell_type": "code",
   "execution_count": 79,
   "id": "cfcaea02",
   "metadata": {},
   "outputs": [
    {
     "data": {
      "text/html": [
       "<div>\n",
       "<style scoped>\n",
       "    .dataframe tbody tr th:only-of-type {\n",
       "        vertical-align: middle;\n",
       "    }\n",
       "\n",
       "    .dataframe tbody tr th {\n",
       "        vertical-align: top;\n",
       "    }\n",
       "\n",
       "    .dataframe thead th {\n",
       "        text-align: right;\n",
       "    }\n",
       "</style>\n",
       "<table border=\"1\" class=\"dataframe\">\n",
       "  <thead>\n",
       "    <tr style=\"text-align: right;\">\n",
       "      <th></th>\n",
       "      <th>Age</th>\n",
       "      <th>SibSp</th>\n",
       "      <th>Parch</th>\n",
       "      <th>Fare</th>\n",
       "      <th>Title_0</th>\n",
       "      <th>Title_1</th>\n",
       "      <th>Title_2</th>\n",
       "      <th>Title_3</th>\n",
       "      <th>Fsize</th>\n",
       "      <th>family_size_0</th>\n",
       "      <th>...</th>\n",
       "      <th>T_STONOQ</th>\n",
       "      <th>T_SWPP</th>\n",
       "      <th>T_WC</th>\n",
       "      <th>T_WEP</th>\n",
       "      <th>T_x</th>\n",
       "      <th>Pclass_1</th>\n",
       "      <th>Pclass_2</th>\n",
       "      <th>Pclass_3</th>\n",
       "      <th>Sex_0</th>\n",
       "      <th>Sex_1</th>\n",
       "    </tr>\n",
       "  </thead>\n",
       "  <tbody>\n",
       "    <tr>\n",
       "      <th>678</th>\n",
       "      <td>34.5</td>\n",
       "      <td>0</td>\n",
       "      <td>0</td>\n",
       "      <td>7.8292</td>\n",
       "      <td>0</td>\n",
       "      <td>0</td>\n",
       "      <td>1</td>\n",
       "      <td>0</td>\n",
       "      <td>1</td>\n",
       "      <td>0</td>\n",
       "      <td>...</td>\n",
       "      <td>0</td>\n",
       "      <td>0</td>\n",
       "      <td>0</td>\n",
       "      <td>0</td>\n",
       "      <td>1</td>\n",
       "      <td>0</td>\n",
       "      <td>0</td>\n",
       "      <td>1</td>\n",
       "      <td>0</td>\n",
       "      <td>1</td>\n",
       "    </tr>\n",
       "    <tr>\n",
       "      <th>679</th>\n",
       "      <td>47.0</td>\n",
       "      <td>1</td>\n",
       "      <td>0</td>\n",
       "      <td>7.0000</td>\n",
       "      <td>0</td>\n",
       "      <td>1</td>\n",
       "      <td>0</td>\n",
       "      <td>0</td>\n",
       "      <td>2</td>\n",
       "      <td>0</td>\n",
       "      <td>...</td>\n",
       "      <td>0</td>\n",
       "      <td>0</td>\n",
       "      <td>0</td>\n",
       "      <td>0</td>\n",
       "      <td>1</td>\n",
       "      <td>0</td>\n",
       "      <td>0</td>\n",
       "      <td>1</td>\n",
       "      <td>1</td>\n",
       "      <td>0</td>\n",
       "    </tr>\n",
       "    <tr>\n",
       "      <th>680</th>\n",
       "      <td>62.0</td>\n",
       "      <td>0</td>\n",
       "      <td>0</td>\n",
       "      <td>9.6875</td>\n",
       "      <td>0</td>\n",
       "      <td>0</td>\n",
       "      <td>1</td>\n",
       "      <td>0</td>\n",
       "      <td>1</td>\n",
       "      <td>0</td>\n",
       "      <td>...</td>\n",
       "      <td>0</td>\n",
       "      <td>0</td>\n",
       "      <td>0</td>\n",
       "      <td>0</td>\n",
       "      <td>1</td>\n",
       "      <td>0</td>\n",
       "      <td>1</td>\n",
       "      <td>0</td>\n",
       "      <td>0</td>\n",
       "      <td>1</td>\n",
       "    </tr>\n",
       "    <tr>\n",
       "      <th>681</th>\n",
       "      <td>27.0</td>\n",
       "      <td>0</td>\n",
       "      <td>0</td>\n",
       "      <td>8.6625</td>\n",
       "      <td>0</td>\n",
       "      <td>0</td>\n",
       "      <td>1</td>\n",
       "      <td>0</td>\n",
       "      <td>1</td>\n",
       "      <td>0</td>\n",
       "      <td>...</td>\n",
       "      <td>0</td>\n",
       "      <td>0</td>\n",
       "      <td>0</td>\n",
       "      <td>0</td>\n",
       "      <td>1</td>\n",
       "      <td>0</td>\n",
       "      <td>0</td>\n",
       "      <td>1</td>\n",
       "      <td>0</td>\n",
       "      <td>1</td>\n",
       "    </tr>\n",
       "    <tr>\n",
       "      <th>682</th>\n",
       "      <td>22.0</td>\n",
       "      <td>1</td>\n",
       "      <td>1</td>\n",
       "      <td>12.2875</td>\n",
       "      <td>0</td>\n",
       "      <td>1</td>\n",
       "      <td>0</td>\n",
       "      <td>0</td>\n",
       "      <td>3</td>\n",
       "      <td>0</td>\n",
       "      <td>...</td>\n",
       "      <td>0</td>\n",
       "      <td>0</td>\n",
       "      <td>0</td>\n",
       "      <td>0</td>\n",
       "      <td>1</td>\n",
       "      <td>0</td>\n",
       "      <td>0</td>\n",
       "      <td>1</td>\n",
       "      <td>1</td>\n",
       "      <td>0</td>\n",
       "    </tr>\n",
       "  </tbody>\n",
       "</table>\n",
       "<p>5 rows × 56 columns</p>\n",
       "</div>"
      ],
      "text/plain": [
       "      Age  SibSp  Parch     Fare  Title_0  Title_1  Title_2  Title_3  Fsize  \\\n",
       "678  34.5      0      0   7.8292        0        0        1        0      1   \n",
       "679  47.0      1      0   7.0000        0        1        0        0      2   \n",
       "680  62.0      0      0   9.6875        0        0        1        0      1   \n",
       "681  27.0      0      0   8.6625        0        0        1        0      1   \n",
       "682  22.0      1      1  12.2875        0        1        0        0      3   \n",
       "\n",
       "     family_size_0  ...  T_STONOQ  T_SWPP  T_WC  T_WEP  T_x  Pclass_1  \\\n",
       "678              0  ...         0       0     0      0    1         0   \n",
       "679              0  ...         0       0     0      0    1         0   \n",
       "680              0  ...         0       0     0      0    1         0   \n",
       "681              0  ...         0       0     0      0    1         0   \n",
       "682              0  ...         0       0     0      0    1         0   \n",
       "\n",
       "     Pclass_2  Pclass_3  Sex_0  Sex_1  \n",
       "678         0         1      0      1  \n",
       "679         0         1      1      0  \n",
       "680         1         0      0      1  \n",
       "681         0         1      0      1  \n",
       "682         0         1      1      0  \n",
       "\n",
       "[5 rows x 56 columns]"
      ]
     },
     "execution_count": 79,
     "metadata": {},
     "output_type": "execute_result"
    }
   ],
   "source": [
    "test = train_df[train_df_len:]\n",
    "test.drop(labels= [\"Survived\"], axis=1, inplace=True)\n",
    "test.head()"
   ]
  },
  {
   "cell_type": "code",
   "execution_count": 80,
   "id": "9009a620",
   "metadata": {},
   "outputs": [
    {
     "name": "stdout",
     "output_type": "stream",
     "text": [
      "X_train 454\n",
      "x_test 224\n",
      "y_train 454\n",
      "y_test 224\n"
     ]
    }
   ],
   "source": [
    "train = train_df[:train_df_len]\n",
    "x_train= train.drop(labels= [\"Survived\"], axis=1)\n",
    "y_train= train[\"Survived\"]\n",
    "x_train, x_test, y_train, y_test= train_test_split(x_train, y_train, test_size= 0.33, random_state=42)\n",
    "print(\"X_train\", len(x_train))\n",
    "print(\"x_test\", len(x_test))\n",
    "print(\"y_train\", len(y_train))\n",
    "print(\"y_test\", len(y_test))"
   ]
  },
  {
   "cell_type": "markdown",
   "id": "210d58a7",
   "metadata": {},
   "source": [
    "<a id = \"32\"></a><br>\n",
    "\n",
    "#  Logistic Regression"
   ]
  },
  {
   "cell_type": "code",
   "execution_count": 81,
   "id": "71617c84",
   "metadata": {},
   "outputs": [],
   "source": [
    "logReg= LogisticRegression()\n",
    "logReg.fit(x_train, y_train)\n",
    "acc_log_train= round(logReg.score(x_train, y_train)*100,2)\n",
    "acc_log_test= round(logReg.score(x_test, y_test)*100,2) "
   ]
  },
  {
   "cell_type": "code",
   "execution_count": 82,
   "id": "67c9671a",
   "metadata": {},
   "outputs": [
    {
     "name": "stdout",
     "output_type": "stream",
     "text": [
      "Traning Accuracy: % 82.38\n",
      "Test Accuracy: % 83.04\n"
     ]
    }
   ],
   "source": [
    "print(\"Traning Accuracy: %\",acc_log_train)\n",
    "print(\"Test Accuracy: %\",acc_log_test)"
   ]
  },
  {
   "cell_type": "markdown",
   "id": "9ce1ef3f",
   "metadata": {},
   "source": [
    "<a id = \"33\"></a><br>\n",
    "\n",
    "# HyperParameter Tuning---Grid Search---Cross Validation\n",
    "\n",
    "* 5 Farklı Makine Öğrenmesi Algoritmalarını Karşılaştırma Ve Değerlendirme\n",
    "* Stratified Cross Validation Kullanarak Doğruluk Ortalamalarını Bulma\n",
    "\n",
    "* **Decision Tree**\n",
    "* **SVM**\n",
    "* **Random Forest**\n",
    "* **KNN**\n",
    "* **Logistic Regression**"
   ]
  },
  {
   "cell_type": "markdown",
   "id": "73f35224",
   "metadata": {},
   "source": [
    "random_state: Rastgelelik kullanılan yerlerde tekrarlanabilir sonuçlar elde etmek için kullanılan bir parametre.\n",
    "classifier: Sınıflandırma algoritmalarını içeren bir liste. Listede yer alan algoritmalar: Karar Ağaçları (DecisionTreeClassifier), Destek Vektör Makineleri (SVC), Rastgele Orman (RandomForestClassifier), Lojistik Regresyon (LogisticRegression) ve K-En Yakın Komşu (KNeighborsClassifier).\n",
    "dt_param_grid: Karar Ağacı sınıflandırıcısı için kullanılacak parametrelerin bir grid'i. min_samples_split ve max_depth parametrelerinin farklı değerlerini denemek üzere ayarlanmış.\n",
    "svc_param_grid: Destek Vektör Makineleri sınıflandırıcısı için kullanılacak parametrelerin bir grid'i. \"rbf\" çekirdeği, \"gamma\" ve \"C\" parametrelerinin farklı değerlerini denemek üzere ayarlanmış.\n",
    "rf_param_grid: Rastgele Orman sınıflandırıcısı için kullanılacak parametrelerin bir grid'i. max_features, min_samples_split, min_samples_leaf, bootstrap, n_estimators ve criterion parametrelerinin farklı değerlerini denemek üzere ayarlanmış.\n",
    "logreg_param_grid: Lojistik Regresyon sınıflandırıcısı için kullanılacak parametrelerin bir grid'i. \"C\" ve \"penalty\" parametrelerinin farklı değerlerini denemek üzere ayarlanmış.\n",
    "knn_param_grid: K-En Yakın Komşu sınıflandırıcısı için kullanılacak parametrelerin bir grid'i. n_neighbors, weights ve metric parametrelerinin farklı değerlerini denemek üzere ayarlanmış.\n",
    "classifier_param: Her bir sınıflandırma algoritması için kullanılacak parametre grid'lerini içeren bir liste."
   ]
  },
  {
   "cell_type": "markdown",
   "id": "1924d911",
   "metadata": {},
   "source": [
    "###### Decision Tree Grid \n",
    "\n",
    "\"min_samples_split\": Bu parametre, bir iç düğümün daha fazla bölünmeden önce kaç örneğe sahip olması gerektiğini belirtir. range(10,500,20) ifadesi, 10'dan başlayarak 500'e kadar (dahil değil) 20'şer artan değerlerin kullanılacağını gösterir. Yani, bu parametre için 10, 30, 50, 70, ... 490 değerleri denenecektir.\n",
    "\n",
    "\"max_depth\": Bu parametre, bir Karar Ağacı'nın maksimum derinliğini belirtir, yani ağaçtaki en uzun yolun düğüm sayısını temsil eder. range(1,20,2) ifadesi, 1'den başlayarak 20'ye kadar (dahil değil) 2'şer artan değerlerin kullanılacağını gösterir. Yani, bu parametre için 1, 3, 5, 7, ... 19 değerleri denenecektir.\n",
    "\n",
    "Bu parametreler, Karar Ağacı sınıflandırıcısının performansını etkileyen önemli faktörlerdir. Grid arama yöntemiyle, farklı min_samples_split ve max_depth değerlerinin kombinasyonları denenerek, en iyi performansı sağlayan parametrelerin bulunması amaçlanır."
   ]
  },
  {
   "cell_type": "markdown",
   "id": "d72fbacb",
   "metadata": {},
   "source": [
    "###### SVC Grid\n",
    "\n",
    "\"kernel\": Bu parametre, SVC'nin kullanacağı çekirdek fonksiyonunu belirtir. \"rbf\" (Radyal Temel Fonksiyon) çekirdeği, en yaygın kullanılan çekirdeklerden biridir. Diğer olası değerler arasında \"linear\" (doğrusal), \"poly\" (polinom), \"sigmoid\" vb. çekirdek fonksiyonları bulunabilir. Ancak svc_param_grid örneğinde yalnızca \"rbf\" çekirdek fonksiyonu kullanıldığı görülüyor.\n",
    "\n",
    "\"gamma\": Bu parametre, RBF çekirdeği için kullanılan gamma değerini belirtir. Gamma, veri noktalarının etki alanını kontrol eden bir parametredir. gamma listesi, denenecek farklı gamma değerlerini içerir. Bu örnekte, 0.001, 0.01, 0.1 ve 1 değerleri kullanılacaktır.\n",
    "\n",
    "\"C\": Bu parametre, SVC'nin düzenlileştirme (regülarizasyon) parametresi olan C'yi belirtir. C değeri, sınıflandırma hatasını en aza indirmek ve karar sınırının düzgünlüğünü kontrol etmek arasında bir denge kurar. C listesi, denenecek farklı C değerlerini içerir. Bu örnekte, 1, 10, 50, 100, 200, 300 ve 1000 değerleri kullanılacaktır.\n",
    "\n",
    "Bu parametreler, SVC sınıflandırıcısının performansını etkileyen önemli faktörlerdir. Grid arama yöntemiyle, farklı kernel, gamma ve C değerlerinin kombinasyonları denenerek, en iyi performansı sağlayan parametrelerin bulunması amaçlanır."
   ]
  },
  {
   "cell_type": "markdown",
   "id": "cefb75c1",
   "metadata": {},
   "source": [
    "###### Random Forest Grid\n",
    "\n",
    "max_features\": Bu parametre, her bir karar düğümünde göz önünde bulundurulacak maksimum özellik sayısını belirtir. Grid'de [1, 3, 10] değerleri kullanılmıştır, yani her bir karar düğümünde 1, 3 veya 10 özellik değeri göz önünde bulundurulacaktır.\n",
    "\n",
    "\"min_samples_split\": Bu parametre, bir iç düğümün bölünmesi için gereken minimum örnek sayısını belirtir. Grid'de [2, 3, 10] değerleri kullanılmıştır, yani bir iç düğümün bölünmesi için en az 2, 3 veya 10 örneğin olması gerekmektedir.\n",
    "\n",
    "\"min_samples_leaf\": Bu parametre, bir yaprak düğümünde bulunması gereken minimum örnek sayısını belirtir. Grid'de [1, 3, 10] değerleri kullanılmıştır, yani bir yaprak düğümünde en az 1, 3 veya 10 örnek olması gerekmektedir.\n",
    "\n",
    "\"bootstrap\": Bu parametre, Rastgele Orman'ın örnekleme yöntemini kontrol eder. False olarak ayarlandığında, bootstrap örnekleme yapılmaz ve tüm veri seti kullanılır.\n",
    "\n",
    "\"n_estimators\": Bu parametre, Rastgele Orman içindeki karar ağaçlarının sayısını belirtir. Grid'de [100, 300] değerleri kullanılmıştır, yani 100 veya 300 karar ağacı kullanılacaktır.\n",
    "\n",
    "\"criterion\": Bu parametre, karar ağaçlarının bölünme noktalarını değerlendirmek için kullanılan kriteri belirtir. \"gini\" kriteri, Gini impurity kriterini ifade eder.\n",
    "\n",
    "Bu parametreler, Rastgele Orman sınıflandırıcısının performansını etkileyen faktörlerdir. Grid arama yöntemiyle, farklı max_features, min_samples_split, min_samples_leaf, bootstrap, n_estimators ve criterion değerlerinin kombinasyonları denenerek, en iyi performansı sağlayan parametrelerin bulunması amaçlanır."
   ]
  },
  {
   "cell_type": "markdown",
   "id": "0cdc8228",
   "metadata": {},
   "source": [
    "###### Logistic Regression Grid\n",
    "\n",
    "\n",
    "\"C\": Bu parametre, Lojistik Regresyon modelinin düzenlileştirme (regülarizasyon) katsayısını belirtir. np.logspace(-3,3,7) ifadesi, -3'ten 3'e kadar (dahil değil) 7 adet logaritmik aralıkta C değerlerini deneyeceğini belirtir. Yani, bu örnekte -0.001, 0.01, 0.1, 1, 10, 100 ve 1000 gibi C değerleri kullanılacaktır.\n",
    "\n",
    "\"penalty\": Bu parametre, düzenlileştirme türünü belirtir. \"l1\" ve \"l2\" değerleri kullanılmıştır. \"l1\" düzenlileştirmesi, L1 normunu kullanarak düzenlileştirme yapar ve bazı özellikleri sıfır yaparak özellik seçimi yapmaya yardımcı olabilir. \"l2\" düzenlileştirmesi ise L2 normunu kullanarak düzenlileştirme yapar ve tüm özellikleri küçültmeye yardımcı olur.\n",
    "\n",
    "Bu parametreler, Lojistik Regresyon sınıflandırıcısının performansını etkileyen önemli faktörlerdir. Grid arama yöntemiyle, farklı C ve penalty değerlerinin kombinasyonları denenerek, en iyi performansı sağlayan parametrelerin bulunması amaçlanır."
   ]
  },
  {
   "cell_type": "markdown",
   "id": "cb95c252",
   "metadata": {},
   "source": [
    "###### KNN Grid\n",
    "\n",
    "\"n_neighbors\": Bu parametre, KNN algoritmasında kullanılacak olan komşu sayısını belirtir. np.linspace(1,19,10, dtype=int).tolist() ifadesi, 1'den 19'a (dahil değil) kadar olan sayıları içeren bir liste oluşturur. Ancak bu liste 10 elemana sahip olacak şekilde eşit aralıklı olarak sayıları seçer. Örneğin, 1, 3, 5, 7, 9, 11, 13, 15, 17 ve 18 gibi komşu sayıları kullanılacaktır.\n",
    "\n",
    "\"weights\": Bu parametre, komşuların sınıflandırmadaki ağırlığını belirtir. \"uniform\" değeri, tüm komşuların eşit ağırlığa sahip olduğunu ifade ederken, \"distance\" değeri, komşuların uzaklıklarına ters orantılı olarak ağırlıklandırıldığını ifade eder.\n",
    "\n",
    "\"metric\": Bu parametre, uzaklık metriğini belirtir. KNN algoritmasında kullanılan iki yaygın metrik \"euclidean\" (Öklidyen uzaklık) ve \"manhattan\" (Manhattan uzaklık) olarak belirtilmiştir.\n",
    "\n",
    "Bu parametreler, KNN sınıflandırıcısının performansını etkileyen faktörlerdir. Grid arama yöntemiyle, farklı n_neighbors, weights ve metric değerlerinin kombinasyonları denenerek, en iyi performansı sağlayan parametrelerin bulunması amaçlanır."
   ]
  },
  {
   "cell_type": "code",
   "execution_count": 84,
   "id": "53b54bfe",
   "metadata": {},
   "outputs": [],
   "source": [
    "random_state = 42\n",
    "classifier = [DecisionTreeClassifier(random_state = random_state),\n",
    "             SVC(random_state = random_state),\n",
    "             RandomForestClassifier(random_state = random_state),\n",
    "             LogisticRegression(random_state = random_state),\n",
    "             KNeighborsClassifier()]\n",
    "\n",
    "dt_param_grid = {\"min_samples_split\" : range(10,500,20),\n",
    "                \"max_depth\": range(1,20,2)}\n",
    "\n",
    "svc_param_grid = {\"kernel\" : [\"rbf\"],\n",
    "                 \"gamma\": [0.001, 0.01, 0.1, 1],\n",
    "                 \"C\": [1,10,50,100,200,300,1000]}\n",
    "\n",
    "rf_param_grid = {\"max_features\": [1,3,10],\n",
    "                \"min_samples_split\":[2,3,10],\n",
    "                \"min_samples_leaf\":[1,3,10],\n",
    "                \"bootstrap\":[False],\n",
    "                \"n_estimators\":[100,300],\n",
    "                \"criterion\":[\"gini\"]}\n",
    "\n",
    "logreg_param_grid = {\"C\":np.logspace(-3,3,7),\n",
    "                    \"penalty\": [\"l1\",\"l2\"]}\n",
    "\n",
    "knn_param_grid = {\"n_neighbors\": np.linspace(1,19,10, dtype = int).tolist(),\n",
    "                 \"weights\": [\"uniform\",\"distance\"],\n",
    "                 \"metric\":[\"euclidean\",\"manhattan\"]}\n",
    "classifier_param = [dt_param_grid,\n",
    "                   svc_param_grid,\n",
    "                   rf_param_grid,\n",
    "                   logreg_param_grid,\n",
    "                   knn_param_grid]"
   ]
  },
  {
   "cell_type": "code",
   "execution_count": 86,
   "id": "6bdabfaa",
   "metadata": {},
   "outputs": [
    {
     "name": "stdout",
     "output_type": "stream",
     "text": [
      "Fitting 10 folds for each of 250 candidates, totalling 2500 fits\n",
      "0.8282608695652174\n",
      "Fitting 10 folds for each of 28 candidates, totalling 280 fits\n",
      "0.8015942028985507\n",
      "Fitting 10 folds for each of 54 candidates, totalling 540 fits\n",
      "0.834830917874396\n",
      "Fitting 10 folds for each of 14 candidates, totalling 140 fits\n",
      "0.8214975845410628\n",
      "Fitting 10 folds for each of 40 candidates, totalling 400 fits\n",
      "0.7950724637681159\n"
     ]
    }
   ],
   "source": [
    "cv_result = []\n",
    "best_estimators = []\n",
    "for i in range(len(classifier)):\n",
    "    clf = GridSearchCV(classifier[i], param_grid=classifier_param[i], cv = StratifiedKFold(n_splits = 10), scoring = \"accuracy\", n_jobs = -1,verbose = 1)\n",
    "    clf.fit(x_train,y_train)\n",
    "    cv_result.append(clf.best_score_)\n",
    "    best_estimators.append(clf.best_estimator_)\n",
    "    print(cv_result[i])"
   ]
  },
  {
   "cell_type": "code",
   "execution_count": 88,
   "id": "0f448649",
   "metadata": {},
   "outputs": [
    {
     "data": {
      "text/plain": [
       "Text(0.5, 1.0, 'Cross Validation Scores')"
      ]
     },
     "execution_count": 88,
     "metadata": {},
     "output_type": "execute_result"
    },
    {
     "data": {
      "image/png": "[encoded data removed]",
      "text/plain": [
       "<Figure size 640x480 with 1 Axes>"
      ]
     },
     "metadata": {},
     "output_type": "display_data"
    }
   ],
   "source": [
    "cv_results = pd.DataFrame({\"Cross Validation Means\": cv_result, \"ML Models\": [\"DecisionTreeClassifier\", \"SVM\", \"RandomForestClassifier\", \"LogisticRegression\", \"KNeighborsClassifier\"]})\n",
    "g = sns.barplot(x=\"Cross Validation Means\", y=\"ML Models\", data=cv_results)\n",
    "g.set_xlabel(\"Mean Accuracy\")\n",
    "g.set_title(\"Cross Validation Scores\")\n"
   ]
  },
  {
   "cell_type": "markdown",
   "id": "fad15ea0",
   "metadata": {},
   "source": [
    "<a id = \"34\"></a><br>\n",
    "\n",
    "# Ensemble Modeling"
   ]
  },
  {
   "cell_type": "code",
   "execution_count": 91,
   "id": "75243ceb",
   "metadata": {},
   "outputs": [
    {
     "name": "stdout",
     "output_type": "stream",
     "text": [
      "0.8080357142857143\n"
     ]
    }
   ],
   "source": [
    "votingC = VotingClassifier(estimators = [(\"dt\",best_estimators[0]),\n",
    "                                        (\"rfc\",best_estimators[2]),\n",
    "                                        (\"lr\",best_estimators[3])],\n",
    "                                        voting = \"soft\", n_jobs = -1)\n",
    "votingC = votingC.fit(x_train, y_train)\n",
    "print(accuracy_score(votingC.predict(x_test),y_test))"
   ]
  },
  {
   "cell_type": "markdown",
   "id": "c600e470",
   "metadata": {},
   "source": [
    "<a id = \"35\"></a><br>\n",
    "# Prediction and Submission"
   ]
  },
  {
   "cell_type": "code",
   "execution_count": 92,
   "id": "28ee1fbb",
   "metadata": {},
   "outputs": [],
   "source": [
    "test_survived = pd.Series(votingC.predict(test), name = \"Survived\").astype(int)\n",
    "results = pd.concat([test_PassengerId, test_survived],axis = 1)\n",
    "results.to_csv(\"titanic.csv\", index = False)"
   ]
  }
 ],
 "metadata": {
  "kernelspec": {
   "display_name": "Python 3 (ipykernel)",
   "language": "python",
   "name": "python3"
  },
  "language_info": {
   "codemirror_mode": {
    "name": "ipython",
    "version": 3
   },
   "file_extension": ".py",
   "mimetype": "text/x-python",
   "name": "python",
   "nbconvert_exporter": "python",
   "pygments_lexer": "ipython3",
   "version": "3.10.9"
  }
 },
 "nbformat": 4,
 "nbformat_minor": 5
}
